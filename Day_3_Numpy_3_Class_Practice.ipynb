{
  "cells": [
    {
      "cell_type": "markdown",
      "metadata": {
        "id": "view-in-github",
        "colab_type": "text"
      },
      "source": [
        "<a href=\"https://colab.research.google.com/github/maharshi112/looking-forward/blob/master/Day_3_Numpy_3_Class_Practice.ipynb\" target=\"_parent\"><img src=\"https://colab.research.google.com/assets/colab-badge.svg\" alt=\"Open In Colab\"/></a>"
      ]
    },
    {
      "cell_type": "code",
      "execution_count": null,
      "id": "666b218e",
      "metadata": {
        "id": "666b218e"
      },
      "outputs": [],
      "source": [
        "import numpy as np"
      ]
    },
    {
      "cell_type": "markdown",
      "id": "68261277",
      "metadata": {
        "id": "68261277"
      },
      "source": [
        "#### <mark>Refreshing old concept</mark>\n",
        "\n",
        "**Quiz**\n",
        "\n",
        "arr = np.arange(12) <br>\n",
        "arr = arr.reshape(-1,4)\n",
        "\n",
        "What will the shape of array ?\n",
        "\n",
        "1. (-1, 4)\n",
        "2. (12,)\n",
        "3. (3, 4)\n",
        "4. (1, 12)"
      ]
    },
    {
      "cell_type": "code",
      "execution_count": null,
      "id": "51d78459",
      "metadata": {
        "id": "51d78459"
      },
      "outputs": [],
      "source": [
        "arr = np.arange(12)"
      ]
    },
    {
      "cell_type": "code",
      "execution_count": null,
      "id": "ce861744",
      "metadata": {
        "id": "ce861744"
      },
      "outputs": [],
      "source": [
        "arr = arr.reshape(-1,4)"
      ]
    },
    {
      "cell_type": "code",
      "execution_count": null,
      "id": "547b7129",
      "metadata": {
        "id": "547b7129",
        "outputId": "cc4857b9-bf32-498e-8ac7-f192e15c3330"
      },
      "outputs": [
        {
          "data": {
            "text/plain": [
              "(3, 4)"
            ]
          },
          "execution_count": 4,
          "metadata": {},
          "output_type": "execute_result"
        }
      ],
      "source": [
        "arr.shape"
      ]
    },
    {
      "cell_type": "markdown",
      "id": "ca8ab756",
      "metadata": {
        "id": "ca8ab756"
      },
      "source": [
        "### <code style=\"background:yellow;color:black\">Sort Method</code>"
      ]
    },
    {
      "cell_type": "code",
      "execution_count": null,
      "id": "96dbfa46",
      "metadata": {
        "id": "96dbfa46"
      },
      "outputs": [],
      "source": [
        "a = np.array([4, 7, 0, 3, 8, 2, 5, 1, 6, 9])"
      ]
    },
    {
      "cell_type": "code",
      "execution_count": null,
      "id": "4030d1ad",
      "metadata": {
        "id": "4030d1ad",
        "outputId": "683946b2-1254-4d44-f644-d6cdecc0bfde"
      },
      "outputs": [
        {
          "data": {
            "text/plain": [
              "array([4, 7, 0, 3, 8, 2, 5, 1, 6, 9])"
            ]
          },
          "execution_count": 6,
          "metadata": {},
          "output_type": "execute_result"
        }
      ],
      "source": [
        "a"
      ]
    },
    {
      "cell_type": "markdown",
      "id": "c39c3406",
      "metadata": {
        "id": "c39c3406"
      },
      "source": [
        "\"b\" stores the sorted version of \"a\", and sorting is in increasing order by default. **<mark>Original array \"a\" will remain unchanged</mark>,** because a sorted version of \"a\" is copied in \"b\" and \"a\" itself remains as it is. **<mark>This is called creating a COPY.</mark>**"
      ]
    },
    {
      "cell_type": "code",
      "execution_count": null,
      "id": "48321edb",
      "metadata": {
        "id": "48321edb"
      },
      "outputs": [],
      "source": [
        "b = np.sort(a)"
      ]
    },
    {
      "cell_type": "code",
      "execution_count": null,
      "id": "94e07e6d",
      "metadata": {
        "id": "94e07e6d",
        "outputId": "36833566-a4e1-4d73-91ac-08e684f013d2"
      },
      "outputs": [
        {
          "name": "stdout",
          "output_type": "stream",
          "text": [
            "[0 1 2 3 4 5 6 7 8 9]\n"
          ]
        }
      ],
      "source": [
        "print(b)"
      ]
    },
    {
      "cell_type": "code",
      "execution_count": null,
      "id": "b4e8ef21",
      "metadata": {
        "id": "b4e8ef21",
        "outputId": "5f6521b9-97fe-4ce0-e602-c27ddd3a11f9"
      },
      "outputs": [
        {
          "name": "stdout",
          "output_type": "stream",
          "text": [
            "[4 7 0 3 8 2 5 1 6 9]\n"
          ]
        }
      ],
      "source": [
        "print(a)"
      ]
    },
    {
      "cell_type": "code",
      "execution_count": null,
      "id": "8c046942",
      "metadata": {
        "id": "8c046942"
      },
      "outputs": [],
      "source": [
        "d = a"
      ]
    },
    {
      "cell_type": "code",
      "execution_count": null,
      "id": "ecc86c0b",
      "metadata": {
        "id": "ecc86c0b",
        "outputId": "763039c0-f199-4e08-c5d6-736cf8ba7044"
      },
      "outputs": [
        {
          "data": {
            "text/plain": [
              "array([4, 7, 0, 3, 8, 2, 5, 1, 6, 9])"
            ]
          },
          "execution_count": 11,
          "metadata": {},
          "output_type": "execute_result"
        }
      ],
      "source": [
        "d"
      ]
    },
    {
      "cell_type": "markdown",
      "id": "72fad314",
      "metadata": {
        "id": "72fad314"
      },
      "source": [
        "**<mark>This is called IN-PLACE SORTING.</mark>** This does not create and return a sorted copy of the original np array, but it sorts the original np array itself, in this case \"d\".\n",
        "\n",
        "This is directly applying sort() function to the original array. **<mark>This is the difference between np.sort(a) and a.sort()</mark>,** that when you provide np.sort(a) it will sort and return a copy of array \"a\", whereas a.sort() will sort the original array \"a\" itself, no copy will be created."
      ]
    },
    {
      "cell_type": "code",
      "execution_count": null,
      "id": "4cab731a",
      "metadata": {
        "id": "4cab731a"
      },
      "outputs": [],
      "source": [
        "d.sort()"
      ]
    },
    {
      "cell_type": "code",
      "execution_count": null,
      "id": "9d3a3c03",
      "metadata": {
        "id": "9d3a3c03",
        "outputId": "118b0c61-b0b6-4f86-d3f7-d140d1b71acf"
      },
      "outputs": [
        {
          "data": {
            "text/plain": [
              "array([0, 1, 2, 3, 4, 5, 6, 7, 8, 9])"
            ]
          },
          "execution_count": 13,
          "metadata": {},
          "output_type": "execute_result"
        }
      ],
      "source": [
        "d"
      ]
    },
    {
      "cell_type": "markdown",
      "id": "498575cc",
      "metadata": {
        "id": "498575cc"
      },
      "source": [
        "### <code style=\"background:yellow;color:black\">Argsort() Method</code>\n",
        "\n",
        "<mark>sort() returns the sorted array and **argsort() returns the indexes of the array if it was sorted.</mark>**"
      ]
    },
    {
      "cell_type": "code",
      "execution_count": null,
      "id": "e6f14f8c",
      "metadata": {
        "id": "e6f14f8c"
      },
      "outputs": [],
      "source": [
        "a = np.array([4, 7, 0, 3, 8, 2, 5, 1, 6, 9])"
      ]
    },
    {
      "cell_type": "code",
      "execution_count": null,
      "id": "92c39378",
      "metadata": {
        "id": "92c39378",
        "outputId": "1211d12f-97fa-4e41-c0a6-c652bd23a801"
      },
      "outputs": [
        {
          "data": {
            "text/plain": [
              "array([4, 7, 0, 3, 8, 2, 5, 1, 6, 9])"
            ]
          },
          "execution_count": 15,
          "metadata": {},
          "output_type": "execute_result"
        }
      ],
      "source": [
        "a"
      ]
    },
    {
      "cell_type": "markdown",
      "id": "fcab92a6",
      "metadata": {
        "id": "fcab92a6"
      },
      "source": [
        "** We get a np array which is telling us the INDEXES of the original array if they were in sorted order. <mark>Refer notes to visualize.</mark> **"
      ]
    },
    {
      "cell_type": "code",
      "execution_count": null,
      "id": "e60b552b",
      "metadata": {
        "id": "e60b552b",
        "outputId": "c8a86d83-c8d2-493e-d4a8-a124413dbdd7"
      },
      "outputs": [
        {
          "data": {
            "text/plain": [
              "array([2, 7, 5, 3, 0, 6, 8, 1, 4, 9], dtype=int64)"
            ]
          },
          "execution_count": 16,
          "metadata": {},
          "output_type": "execute_result"
        }
      ],
      "source": [
        "a.argsort()"
      ]
    },
    {
      "cell_type": "code",
      "execution_count": null,
      "id": "f2039a6f",
      "metadata": {
        "id": "f2039a6f"
      },
      "outputs": [],
      "source": [
        "b = np.array([5,7,3,1,10])"
      ]
    },
    {
      "cell_type": "code",
      "execution_count": null,
      "id": "6a0a78ac",
      "metadata": {
        "id": "6a0a78ac",
        "outputId": "4f509c1c-0d71-4b8d-aea9-0280d4ea0b5c"
      },
      "outputs": [
        {
          "data": {
            "text/plain": [
              "array([3, 2, 0, 1, 4], dtype=int64)"
            ]
          },
          "execution_count": 18,
          "metadata": {},
          "output_type": "execute_result"
        }
      ],
      "source": [
        "b.argsort()"
      ]
    },
    {
      "cell_type": "markdown",
      "id": "213f298e",
      "metadata": {
        "id": "213f298e"
      },
      "source": [
        "### <code style=\"background:yellow;color:black\">ones() and zeros()</code>\n",
        "\n",
        "**These methods will create an array of all 1's and all 0's.**\n",
        "\n",
        "Below code will create a np array of 1s and how many 1s will be there is provided as a parameter. All of them will be floating point numbers. Here in the example below an array of 5 number of 1s will be created. If we would have provided 7 as a parameter, 7 number of 1s would have been created."
      ]
    },
    {
      "cell_type": "code",
      "execution_count": null,
      "id": "5d7b37ea",
      "metadata": {
        "id": "5d7b37ea"
      },
      "outputs": [],
      "source": [
        "a = np.ones(5)"
      ]
    },
    {
      "cell_type": "code",
      "execution_count": null,
      "id": "fc641be9",
      "metadata": {
        "id": "fc641be9",
        "outputId": "ffe6f0fe-8d6e-4e93-858e-b2f3a9954681"
      },
      "outputs": [
        {
          "name": "stdout",
          "output_type": "stream",
          "text": [
            "[1. 1. 1. 1. 1.]\n"
          ]
        }
      ],
      "source": [
        "print(a)"
      ]
    },
    {
      "cell_type": "code",
      "execution_count": null,
      "id": "2585e58b",
      "metadata": {
        "id": "2585e58b",
        "outputId": "6e313eed-ec27-41c2-a67f-4397ecb2ff04"
      },
      "outputs": [
        {
          "data": {
            "text/plain": [
              "array([[1., 1., 1.],\n",
              "       [1., 1., 1.],\n",
              "       [1., 1., 1.]])"
            ]
          },
          "execution_count": 11,
          "metadata": {},
          "output_type": "execute_result"
        }
      ],
      "source": [
        "np.ones((3,3))"
      ]
    },
    {
      "cell_type": "code",
      "execution_count": null,
      "id": "91e4d6bc",
      "metadata": {
        "id": "91e4d6bc"
      },
      "outputs": [],
      "source": [
        "b = np.zeros(5)"
      ]
    },
    {
      "cell_type": "code",
      "execution_count": null,
      "id": "f39fd85a",
      "metadata": {
        "id": "f39fd85a",
        "outputId": "693fc1a1-f4d4-4a13-e7b2-78cd3f9c4d08"
      },
      "outputs": [
        {
          "data": {
            "text/plain": [
              "array([0., 0., 0., 0., 0.])"
            ]
          },
          "execution_count": 13,
          "metadata": {},
          "output_type": "execute_result"
        }
      ],
      "source": [
        "b"
      ]
    },
    {
      "cell_type": "code",
      "execution_count": null,
      "id": "50aa72fc",
      "metadata": {
        "id": "50aa72fc",
        "outputId": "8e929945-53ad-40c4-95e5-547d6b36b67f"
      },
      "outputs": [
        {
          "data": {
            "text/plain": [
              "array([[0., 0., 0., 0., 0.],\n",
              "       [0., 0., 0., 0., 0.],\n",
              "       [0., 0., 0., 0., 0.],\n",
              "       [0., 0., 0., 0., 0.],\n",
              "       [0., 0., 0., 0., 0.]])"
            ]
          },
          "execution_count": 14,
          "metadata": {},
          "output_type": "execute_result"
        }
      ],
      "source": [
        "np.zeros((5,5))"
      ]
    },
    {
      "cell_type": "markdown",
      "id": "ff81d1c8",
      "metadata": {
        "id": "ff81d1c8"
      },
      "source": [
        "### <code style=\"background:yellow;color:black\">eye()</code>\n",
        "\n",
        "**This method will create an identity matrix.**"
      ]
    },
    {
      "cell_type": "code",
      "execution_count": null,
      "id": "67a937cc",
      "metadata": {
        "id": "67a937cc",
        "outputId": "149c68aa-6cf0-437c-fcb6-80c17e2783f0"
      },
      "outputs": [
        {
          "data": {
            "text/plain": [
              "array([[1., 0., 0., 0.],\n",
              "       [0., 1., 0., 0.],\n",
              "       [0., 0., 1., 0.],\n",
              "       [0., 0., 0., 1.]])"
            ]
          },
          "execution_count": 15,
          "metadata": {},
          "output_type": "execute_result"
        }
      ],
      "source": [
        "np.eye(4)"
      ]
    },
    {
      "cell_type": "markdown",
      "id": "c38526b0",
      "metadata": {
        "id": "c38526b0"
      },
      "source": [
        "### <code style=\"background:yellow;color:black\">Ufunc Sorting</code>\n",
        "\n",
        "**In NumPy, a ufunc (universal function) is a function that operates element-wise on ndarray objects. NumPy provides a variety of ufuncs to perform operations such as arithmetic, trigonometric, and logical operations on arrays efficiently. Sorting in NumPy can be accomplished using ufuncs like numpy.sort() and numpy.argsort().**\n",
        "\n",
        "**<mark>QUIZ-</mark>**\n",
        "\n",
        "a = np.array([[23,4,43],\n",
        "              [12,89,3],\n",
        "              [69,420,0]]) <br>\n",
        "b = np.sort(a)\n",
        "\n",
        "What'll be value of b?\n",
        "\n",
        "1. Error\n",
        "2. [[  0,   3,   4],\n",
        "    [ 12,  23,  43],\n",
        "    [ 69,  89, 420]]\n",
        "\n",
        "3. [[  4,  23,  43],\n",
        "    [  3,  12,  89],\n",
        "    [  0,  69, 420]]\n",
        "\n",
        "4. [[  0,  12,  43],\n",
        "    [  3,  23,  89],\n",
        "    [  4,  69, 420]]\n"
      ]
    },
    {
      "cell_type": "code",
      "execution_count": null,
      "id": "9bd10abd",
      "metadata": {
        "id": "9bd10abd"
      },
      "outputs": [],
      "source": [
        "a = np.array([[23,4,43],\n",
        "              [12,89,3],\n",
        "              [69,420,0]])"
      ]
    },
    {
      "cell_type": "code",
      "execution_count": null,
      "id": "3937881a",
      "metadata": {
        "id": "3937881a"
      },
      "outputs": [],
      "source": [
        "b = np.sort(a)"
      ]
    },
    {
      "cell_type": "markdown",
      "id": "63024460",
      "metadata": {
        "id": "63024460"
      },
      "source": [
        "<mark>Here in 2D array, sorting is performed by last axis.</mark>\n",
        "\n",
        "In this case, the last axis is AXIS 1, so it will perform sorting on axis 1. Axis 1 is row wise. So, it will perform sorting row wise. Sorted version of 1st row is 4 23 43, sorted version of 2nd row is 3 12 89 ans so on.\n",
        "\n",
        "So, when we implement np.sort(a) where \"a\" is a 2D array, it will perform sorting on the basis on last axis."
      ]
    },
    {
      "cell_type": "code",
      "execution_count": null,
      "id": "24189ef9",
      "metadata": {
        "id": "24189ef9",
        "outputId": "cd850445-2b39-4d70-bfbf-f9c348461df2"
      },
      "outputs": [
        {
          "name": "stdout",
          "output_type": "stream",
          "text": [
            "[[  4  23  43]\n",
            " [  3  12  89]\n",
            " [  0  69 420]]\n"
          ]
        }
      ],
      "source": [
        "print(b)"
      ]
    },
    {
      "cell_type": "markdown",
      "id": "f59092b0",
      "metadata": {
        "id": "f59092b0"
      },
      "source": [
        "### <code style=\"background:yellow;color:black\">Element wise operations</code>"
      ]
    },
    {
      "cell_type": "markdown",
      "id": "6dbc930c",
      "metadata": {
        "id": "6dbc930c"
      },
      "source": [
        "<mark>Element wise multiplication of 1D arrays-</mark> It will be performed element wise, means 1st element of array 1 will be multiplied with 1st element of array 2 and so on, and the resulting array is returned, which in our case will be floating point numbers because one of the array is floating point."
      ]
    },
    {
      "cell_type": "code",
      "execution_count": null,
      "id": "bc42b29e",
      "metadata": {
        "id": "bc42b29e"
      },
      "outputs": [],
      "source": [
        "a = np.arange(5)"
      ]
    },
    {
      "cell_type": "code",
      "execution_count": null,
      "id": "08dfd434",
      "metadata": {
        "id": "08dfd434",
        "outputId": "5491304d-c534-4da8-ddb3-319a869b9c5a"
      },
      "outputs": [
        {
          "data": {
            "text/plain": [
              "array([0, 1, 2, 3, 4])"
            ]
          },
          "execution_count": 20,
          "metadata": {},
          "output_type": "execute_result"
        }
      ],
      "source": [
        "a"
      ]
    },
    {
      "cell_type": "code",
      "execution_count": null,
      "id": "f36b8a09",
      "metadata": {
        "id": "f36b8a09"
      },
      "outputs": [],
      "source": [
        "b = np.arange(5)"
      ]
    },
    {
      "cell_type": "code",
      "execution_count": null,
      "id": "c9198939",
      "metadata": {
        "id": "c9198939",
        "outputId": "2b99e685-33e1-469d-d506-1b2a55334a19"
      },
      "outputs": [
        {
          "data": {
            "text/plain": [
              "array([0, 1, 2, 3, 4])"
            ]
          },
          "execution_count": 21,
          "metadata": {},
          "output_type": "execute_result"
        }
      ],
      "source": [
        "b"
      ]
    },
    {
      "cell_type": "code",
      "execution_count": null,
      "id": "20ebf641",
      "metadata": {
        "id": "20ebf641",
        "outputId": "1cbd5b78-8935-40fa-8b5a-0547adc81040"
      },
      "outputs": [
        {
          "data": {
            "text/plain": [
              "array([ 0,  1,  4,  9, 16])"
            ]
          },
          "execution_count": 19,
          "metadata": {},
          "output_type": "execute_result"
        }
      ],
      "source": [
        "a * b"
      ]
    },
    {
      "cell_type": "code",
      "execution_count": null,
      "id": "802d2c29",
      "metadata": {
        "id": "802d2c29"
      },
      "outputs": [],
      "source": [
        "a = np.arange(1,13).reshape(3,4)"
      ]
    },
    {
      "cell_type": "code",
      "execution_count": null,
      "id": "1338b662",
      "metadata": {
        "id": "1338b662",
        "outputId": "6df9b1f6-e69b-4a07-f95f-bbfb0e230a42"
      },
      "outputs": [
        {
          "data": {
            "text/plain": [
              "array([[ 1,  2,  3,  4],\n",
              "       [ 5,  6,  7,  8],\n",
              "       [ 9, 10, 11, 12]])"
            ]
          },
          "execution_count": 28,
          "metadata": {},
          "output_type": "execute_result"
        }
      ],
      "source": [
        "a"
      ]
    },
    {
      "cell_type": "code",
      "execution_count": null,
      "id": "0f292c94",
      "metadata": {
        "id": "0f292c94"
      },
      "outputs": [],
      "source": [
        "b = np.arange(2,14).reshape(3,4)"
      ]
    },
    {
      "cell_type": "code",
      "execution_count": null,
      "id": "dc448d17",
      "metadata": {
        "id": "dc448d17",
        "outputId": "fbea3009-2834-4673-d84c-c3f845628ee8"
      },
      "outputs": [
        {
          "data": {
            "text/plain": [
              "array([[ 2,  3,  4,  5],\n",
              "       [ 6,  7,  8,  9],\n",
              "       [10, 11, 12, 13]])"
            ]
          },
          "execution_count": 30,
          "metadata": {},
          "output_type": "execute_result"
        }
      ],
      "source": [
        "b"
      ]
    },
    {
      "cell_type": "markdown",
      "id": "13eacc24",
      "metadata": {
        "id": "13eacc24"
      },
      "source": [
        "<mark>Element wise multiplication of 2D arrays-</mark> It will be performed element wise, means 1st element of 2D array 1 will be multiplied with 1st element of 2D array 2, 2nd element of 2D array 1 will be multiplied with 2nd element of 2D array 2 and so on, and the resulting 2D array is returned."
      ]
    },
    {
      "cell_type": "code",
      "execution_count": null,
      "id": "79c855b0",
      "metadata": {
        "id": "79c855b0",
        "outputId": "4f637ed4-7260-4167-f0cc-181e1ad47b45"
      },
      "outputs": [
        {
          "data": {
            "text/plain": [
              "array([[  2,   6,  12,  20],\n",
              "       [ 30,  42,  56,  72],\n",
              "       [ 90, 110, 132, 156]])"
            ]
          },
          "execution_count": 31,
          "metadata": {},
          "output_type": "execute_result"
        }
      ],
      "source": [
        "a * b"
      ]
    },
    {
      "cell_type": "markdown",
      "id": "729b3ebc",
      "metadata": {
        "id": "729b3ebc"
      },
      "source": [
        "### <code style=\"background:yellow;color:black\">Matrix Multiplication</code>\n",
        "\n",
        "Matrix multiplication is same as we studied in school about how matrixes are multiplied i.e. matrix multiplication. This is however, different from element wise multiplication of arrays, which is seen above, and the only operator used for element wise multiplication is \" <b>*</b> \".\n",
        "\n",
        "**There is one important rule of matrix multiplication- that number of columns of 1st matrix should be of same as number of rows of 2nd matrix.**\n",
        "\n",
        "**Second important rule is about the size of the resultant matrix. The number of rows of resultant matrix will be equal to number of rows of matrix 1 and columns of resultant matrix will be equal to number of columns of matrix 2.**\n",
        "\n",
        "For example, Let M1 be a 2 X 3 matrix, M2 be a 3 X 5 matrix. What will be the shape of the resultant matrix? - 2 X 5. Let M1 be a 2 X 4 matrix, M2 be a 2 X 4 matrix. Matrix multiplication - Not possible.\n",
        "\n",
        "<mark>There are 3 ways of matrix multiplication in numpy:</mark>\n",
        "\n",
        "1. np.dot\n",
        "2. @ operator\n",
        "3. np.matmul\n",
        "\n",
        "Among these np.matmul is most widely used."
      ]
    },
    {
      "cell_type": "code",
      "execution_count": null,
      "id": "293e10ec",
      "metadata": {
        "id": "293e10ec"
      },
      "outputs": [],
      "source": [
        "a = np.arange(1, 13).reshape(3,4)"
      ]
    },
    {
      "cell_type": "code",
      "execution_count": null,
      "id": "7f70618b",
      "metadata": {
        "id": "7f70618b"
      },
      "outputs": [],
      "source": [
        "b = np.arange(2,14).reshape(4,3)"
      ]
    },
    {
      "cell_type": "code",
      "execution_count": null,
      "id": "1c09cf30",
      "metadata": {
        "id": "1c09cf30",
        "outputId": "b25edeeb-35f8-44d3-c139-a6a7f9ef2e43"
      },
      "outputs": [
        {
          "name": "stdout",
          "output_type": "stream",
          "text": [
            "[[ 1  2  3  4]\n",
            " [ 5  6  7  8]\n",
            " [ 9 10 11 12]]\n"
          ]
        }
      ],
      "source": [
        "print(a)"
      ]
    },
    {
      "cell_type": "code",
      "execution_count": null,
      "id": "70a389d9",
      "metadata": {
        "id": "70a389d9",
        "outputId": "6f9473cc-c2f3-4c5c-92c1-db23975a4759"
      },
      "outputs": [
        {
          "name": "stdout",
          "output_type": "stream",
          "text": [
            "[[ 2  3  4]\n",
            " [ 5  6  7]\n",
            " [ 8  9 10]\n",
            " [11 12 13]]\n"
          ]
        }
      ],
      "source": [
        "print(b)"
      ]
    },
    {
      "cell_type": "markdown",
      "id": "2eabbc03",
      "metadata": {
        "id": "2eabbc03"
      },
      "source": [
        "Can we do matrix multiplication of these two matrices? YES because number of rows of 1st matrix is equal to the number of cols of the 2nd matrix. And that can be confirmed by checking the shape of the two matrices.\n",
        "\n",
        "What will be the shape of the resultant matrix? - 3 X 3"
      ]
    },
    {
      "cell_type": "code",
      "execution_count": null,
      "id": "e3073eb8",
      "metadata": {
        "id": "e3073eb8",
        "outputId": "674c9928-9ce8-420d-80c7-a2964da7b9ce"
      },
      "outputs": [
        {
          "data": {
            "text/plain": [
              "(3, 4)"
            ]
          },
          "execution_count": 36,
          "metadata": {},
          "output_type": "execute_result"
        }
      ],
      "source": [
        "a.shape"
      ]
    },
    {
      "cell_type": "code",
      "execution_count": null,
      "id": "016d0889",
      "metadata": {
        "id": "016d0889",
        "outputId": "c7f3f263-a4bb-499e-e550-73eca98d2223"
      },
      "outputs": [
        {
          "data": {
            "text/plain": [
              "(4, 3)"
            ]
          },
          "execution_count": 37,
          "metadata": {},
          "output_type": "execute_result"
        }
      ],
      "source": [
        "b.shape"
      ]
    },
    {
      "cell_type": "code",
      "execution_count": null,
      "id": "1421f9e3",
      "metadata": {
        "id": "1421f9e3",
        "outputId": "eafc9dc8-a136-43d0-bde9-7811ece28584"
      },
      "outputs": [
        {
          "data": {
            "text/plain": [
              "array([[ 80,  90, 100],\n",
              "       [184, 210, 236],\n",
              "       [288, 330, 372]])"
            ]
          },
          "execution_count": 38,
          "metadata": {},
          "output_type": "execute_result"
        }
      ],
      "source": [
        "np.dot(a,b)"
      ]
    },
    {
      "cell_type": "code",
      "execution_count": null,
      "id": "280a35cc",
      "metadata": {
        "id": "280a35cc",
        "outputId": "9680cabf-7082-4523-b432-0ccf10b54706"
      },
      "outputs": [
        {
          "data": {
            "text/plain": [
              "array([[ 80,  90, 100],\n",
              "       [184, 210, 236],\n",
              "       [288, 330, 372]])"
            ]
          },
          "execution_count": 39,
          "metadata": {},
          "output_type": "execute_result"
        }
      ],
      "source": [
        "a @ b"
      ]
    },
    {
      "cell_type": "code",
      "execution_count": null,
      "id": "e2884bcc",
      "metadata": {
        "id": "e2884bcc",
        "outputId": "7ae73683-832f-4601-e00d-2981e65073fd"
      },
      "outputs": [
        {
          "data": {
            "text/plain": [
              "array([[ 80,  90, 100],\n",
              "       [184, 210, 236],\n",
              "       [288, 330, 372]])"
            ]
          },
          "execution_count": 40,
          "metadata": {},
          "output_type": "execute_result"
        }
      ],
      "source": [
        "np.matmul(a,b)"
      ]
    },
    {
      "cell_type": "markdown",
      "id": "98ccd4e8",
      "metadata": {
        "id": "98ccd4e8"
      },
      "source": [
        "### Quiz\n",
        "\n",
        "What will be the shape of the output?\n",
        "\n",
        "A = np.arange(10).reshape(5,2) <br>\n",
        "B = np.arange(2).reshape(2,1) <br>\n",
        "print(np.dot(A,B))\n",
        "\n",
        "1. Error\n",
        "\n",
        "2. (5,2)\n",
        "\n",
        "3. (5,)\n",
        "\n",
        "4. (5,1)"
      ]
    },
    {
      "cell_type": "code",
      "execution_count": null,
      "id": "39426418",
      "metadata": {
        "id": "39426418"
      },
      "outputs": [],
      "source": [
        "A = np.arange(10).reshape(5,2)"
      ]
    },
    {
      "cell_type": "code",
      "execution_count": null,
      "id": "e6b1e4b5",
      "metadata": {
        "id": "e6b1e4b5",
        "outputId": "02c9d3c1-2c2e-4056-fcf4-1b53d1bac33c"
      },
      "outputs": [
        {
          "name": "stdout",
          "output_type": "stream",
          "text": [
            "[[0 1]\n",
            " [2 3]\n",
            " [4 5]\n",
            " [6 7]\n",
            " [8 9]]\n"
          ]
        }
      ],
      "source": [
        "print(A)"
      ]
    },
    {
      "cell_type": "code",
      "execution_count": null,
      "id": "d10b2f58",
      "metadata": {
        "id": "d10b2f58"
      },
      "outputs": [],
      "source": [
        "B = np.arange(2).reshape(2,1)"
      ]
    },
    {
      "cell_type": "code",
      "execution_count": null,
      "id": "3f2a144c",
      "metadata": {
        "id": "3f2a144c",
        "outputId": "43760c78-c0fd-47f3-ee8e-5f29e69e0562"
      },
      "outputs": [
        {
          "name": "stdout",
          "output_type": "stream",
          "text": [
            "[[0]\n",
            " [1]]\n"
          ]
        }
      ],
      "source": [
        "print(B)"
      ]
    },
    {
      "cell_type": "code",
      "execution_count": null,
      "id": "1bba4b56",
      "metadata": {
        "id": "1bba4b56"
      },
      "outputs": [],
      "source": [
        "C = np.dot(A,B)"
      ]
    },
    {
      "cell_type": "markdown",
      "id": "cd7b7595",
      "metadata": {
        "id": "cd7b7595"
      },
      "source": [
        "** The output is also called column vector. **"
      ]
    },
    {
      "cell_type": "code",
      "execution_count": null,
      "id": "65637b3f",
      "metadata": {
        "id": "65637b3f",
        "outputId": "06cdf907-7393-4065-9205-47dceae9bda5"
      },
      "outputs": [
        {
          "name": "stdout",
          "output_type": "stream",
          "text": [
            "[[1]\n",
            " [3]\n",
            " [5]\n",
            " [7]\n",
            " [9]]\n"
          ]
        }
      ],
      "source": [
        "print(C)"
      ]
    },
    {
      "cell_type": "code",
      "execution_count": null,
      "id": "b83bdb6a",
      "metadata": {
        "id": "b83bdb6a",
        "outputId": "62bbc25a-70fc-430f-c140-df3351b85fd1"
      },
      "outputs": [
        {
          "data": {
            "text/plain": [
              "(5, 1)"
            ]
          },
          "execution_count": 47,
          "metadata": {},
          "output_type": "execute_result"
        }
      ],
      "source": [
        "C.shape"
      ]
    },
    {
      "cell_type": "markdown",
      "id": "2af095cc",
      "metadata": {
        "id": "2af095cc"
      },
      "source": [
        "<mark>Whats is the difference between 5,1 and 5, ?</mark>\n",
        "\n",
        "5,1 is a 2D matrix of size 5 X 1, 5 rows and 1 column. Whereas, 5, is a 1D np array having 5 elements, thats it, there is no concept of rows and cols in 1D array."
      ]
    },
    {
      "cell_type": "code",
      "execution_count": null,
      "id": "adc178ed",
      "metadata": {
        "id": "adc178ed"
      },
      "outputs": [],
      "source": [
        "d = np.arange(5)"
      ]
    },
    {
      "cell_type": "code",
      "execution_count": null,
      "id": "f456fb0e",
      "metadata": {
        "id": "f456fb0e",
        "outputId": "68f865a5-db06-492b-805d-66a6ab4f814d"
      },
      "outputs": [
        {
          "data": {
            "text/plain": [
              "(5,)"
            ]
          },
          "execution_count": 49,
          "metadata": {},
          "output_type": "execute_result"
        }
      ],
      "source": [
        "d.shape"
      ]
    },
    {
      "cell_type": "code",
      "execution_count": null,
      "id": "2427261c",
      "metadata": {
        "id": "2427261c",
        "outputId": "dd57c4e4-588f-438f-ec65-4429e3f0ca21"
      },
      "outputs": [
        {
          "data": {
            "text/plain": [
              "5"
            ]
          },
          "execution_count": 50,
          "metadata": {},
          "output_type": "execute_result"
        }
      ],
      "source": [
        "len(d)"
      ]
    },
    {
      "cell_type": "markdown",
      "id": "a3e5fd3c",
      "metadata": {
        "id": "a3e5fd3c"
      },
      "source": [
        "### <code style=\"background:yellow;color:black\">Vectorization</code>\n",
        "\n",
        "**Vectorization is a fundamental concept in NumPy and other array computing libraries. It refers to the process of applying operations or functions to entire arrays or large sections of arrays at once, <mark>without the need for explicit Python for-loops.</mark>**\n",
        "\n",
        "**Vectorization offers several advantages:**\n",
        "\n",
        "* <u>Improved Performance:</u> Vectorized operations can be significantly faster than equivalent operations implemented using Python for-loops. This is because it can take advantage of hardware-level optimizations and parallelism which refers to taking advantage of multicore processors and parallel execution.\n",
        "\n",
        "* <u>Simplified Code:</u> Vectorized code is often more concise and easier to read than equivalent code with explicit loops. This leads to more maintainable and understandable code."
      ]
    },
    {
      "cell_type": "code",
      "execution_count": null,
      "id": "948a3810",
      "metadata": {
        "id": "948a3810"
      },
      "outputs": [],
      "source": [
        "a = np.arange(1,13)"
      ]
    },
    {
      "cell_type": "code",
      "execution_count": null,
      "id": "b2d87f90",
      "metadata": {
        "id": "b2d87f90",
        "outputId": "3aabe16a-4da2-4564-f595-7d883d3ed542"
      },
      "outputs": [
        {
          "name": "stdout",
          "output_type": "stream",
          "text": [
            "[ 1  2  3  4  5  6  7  8  9 10 11 12]\n"
          ]
        }
      ],
      "source": [
        "print(a)"
      ]
    },
    {
      "cell_type": "markdown",
      "id": "016b5f9d",
      "metadata": {
        "id": "016b5f9d"
      },
      "source": [
        "In terminology,\n",
        "\n",
        "1. 1d np array is called vector\n",
        "2. 2d np array is called matrix\n",
        "3. 3d onwards is called tensors"
      ]
    },
    {
      "cell_type": "markdown",
      "id": "d07ef8c9",
      "metadata": {
        "id": "d07ef8c9"
      },
      "source": [
        "** Below is element wise operation of multiplication. **"
      ]
    },
    {
      "cell_type": "code",
      "execution_count": null,
      "id": "fed15f89",
      "metadata": {
        "id": "fed15f89",
        "outputId": "f0ae2b49-c4c2-48cd-9cbb-dfd61992a6d1"
      },
      "outputs": [
        {
          "data": {
            "text/plain": [
              "array([ 2,  4,  6,  8, 10, 12, 14, 16, 18, 20, 22, 24])"
            ]
          },
          "execution_count": 53,
          "metadata": {},
          "output_type": "execute_result"
        }
      ],
      "source": [
        "a * 2"
      ]
    },
    {
      "cell_type": "markdown",
      "id": "6b9ceebf",
      "metadata": {
        "id": "6b9ceebf"
      },
      "source": [
        "** We can also create a function to apply some operation to all the elements of an array. **"
      ]
    },
    {
      "cell_type": "code",
      "execution_count": null,
      "id": "c8815895",
      "metadata": {
        "id": "c8815895"
      },
      "outputs": [],
      "source": [
        "def solve(x):\n",
        "\n",
        "    if x % 2 == 0:  # If x is even\n",
        "        x = x * 2\n",
        "\n",
        "    else:\n",
        "        x = x * 3\n",
        "\n",
        "    return x"
      ]
    },
    {
      "cell_type": "code",
      "execution_count": null,
      "id": "72cfd7fa",
      "metadata": {
        "id": "72cfd7fa",
        "outputId": "d1a7cf95-15bf-45e8-e835-9febde2932ca"
      },
      "outputs": [
        {
          "data": {
            "text/plain": [
              "15"
            ]
          },
          "execution_count": 55,
          "metadata": {},
          "output_type": "execute_result"
        }
      ],
      "source": [
        "solve(5)"
      ]
    },
    {
      "cell_type": "code",
      "execution_count": null,
      "id": "8d59d22b",
      "metadata": {
        "id": "8d59d22b",
        "outputId": "8ea3e92d-44cc-4125-a32e-7699fb95be04"
      },
      "outputs": [
        {
          "data": {
            "text/plain": [
              "12"
            ]
          },
          "execution_count": 56,
          "metadata": {},
          "output_type": "execute_result"
        }
      ],
      "source": [
        "solve(6)"
      ]
    },
    {
      "cell_type": "code",
      "execution_count": null,
      "id": "3ae62c5e",
      "metadata": {
        "id": "3ae62c5e",
        "outputId": "5a95fbaa-2f1d-47f9-b3dc-a130f2a0385a"
      },
      "outputs": [
        {
          "data": {
            "text/plain": [
              "array([ 1,  2,  3,  4,  5,  6,  7,  8,  9, 10, 11, 12])"
            ]
          },
          "execution_count": 57,
          "metadata": {},
          "output_type": "execute_result"
        }
      ],
      "source": [
        "a"
      ]
    },
    {
      "cell_type": "markdown",
      "id": "c353ac43",
      "metadata": {
        "id": "c353ac43"
      },
      "source": [
        "Now, we want to apply the solve function to every element of np array \"a\".\n",
        "\n",
        "<u>Approach 1</u> is to apply loop, select a[i] and select the solve function, call solve(a[i]) for i in range(n). But this is a slow operation. <mark>Loops are not that fast.</Mark>\n",
        "\n",
        "<mark><u>Approach 2</u> is **numpy vectorization.</mark>** Vectorization will do the same thing but in a very fast way. Vectorization effectively allows us to apply element-wise to a NumPy array. How to do that?\n",
        "\n",
        "<mark>We have to create a **vectorized version** of the solve function. </mark>\n",
        "\n",
        "For this, we define a new function called **<code style=\"background:yellow;color:black\">vectorize()</code>** as shown below.\n",
        "\n",
        "By this function, we vectorize the solve function. vectorize() function is a way to create a vectorized function from a non-vectorized (scalar) function.  So, essentially we are saying that I have created a function called solve, now create a vectorized form of that function and store it in a new function called aj_func."
      ]
    },
    {
      "cell_type": "code",
      "execution_count": null,
      "id": "c9748ef5",
      "metadata": {
        "id": "c9748ef5"
      },
      "outputs": [],
      "source": [
        "aj_func = np.vectorize(solve)"
      ]
    },
    {
      "cell_type": "markdown",
      "id": "d93ec8e5",
      "metadata": {
        "id": "d93ec8e5"
      },
      "source": [
        "** This will not work because saolve func is not designed to have a np array as argument. **"
      ]
    },
    {
      "cell_type": "code",
      "execution_count": null,
      "id": "cf99d10b",
      "metadata": {
        "id": "cf99d10b",
        "outputId": "7f8941e3-ed47-4062-8e47-084d589ff114"
      },
      "outputs": [
        {
          "ename": "ValueError",
          "evalue": "The truth value of an array with more than one element is ambiguous. Use a.any() or a.all()",
          "output_type": "error",
          "traceback": [
            "\u001b[1;31m---------------------------------------------------------------------------\u001b[0m",
            "\u001b[1;31mValueError\u001b[0m                                Traceback (most recent call last)",
            "Cell \u001b[1;32mIn[59], line 3\u001b[0m\n\u001b[0;32m      1\u001b[0m \u001b[38;5;66;03m# This will not work because saolve func is not designed to have a np array as argument.\u001b[39;00m\n\u001b[1;32m----> 3\u001b[0m solve(a)\n",
            "Cell \u001b[1;32mIn[54], line 5\u001b[0m, in \u001b[0;36msolve\u001b[1;34m(x)\u001b[0m\n\u001b[0;32m      3\u001b[0m \u001b[38;5;28;01mdef\u001b[39;00m \u001b[38;5;21msolve\u001b[39m(x):\n\u001b[1;32m----> 5\u001b[0m     \u001b[38;5;28;01mif\u001b[39;00m x \u001b[38;5;241m%\u001b[39m \u001b[38;5;241m2\u001b[39m \u001b[38;5;241m==\u001b[39m \u001b[38;5;241m0\u001b[39m:  \u001b[38;5;66;03m# If x is even\u001b[39;00m\n\u001b[0;32m      6\u001b[0m         x \u001b[38;5;241m=\u001b[39m x \u001b[38;5;241m*\u001b[39m \u001b[38;5;241m2\u001b[39m  \n\u001b[0;32m      8\u001b[0m     \u001b[38;5;28;01melse\u001b[39;00m:  \n",
            "\u001b[1;31mValueError\u001b[0m: The truth value of an array with more than one element is ambiguous. Use a.any() or a.all()"
          ]
        }
      ],
      "source": [
        "solve(a)"
      ]
    },
    {
      "cell_type": "markdown",
      "id": "9e6e857b",
      "metadata": {
        "id": "9e6e857b"
      },
      "source": [
        "** We can pass our np array \"a\" to the new vectorized aj_func and it works as expected. **"
      ]
    },
    {
      "cell_type": "code",
      "execution_count": null,
      "id": "98652103",
      "metadata": {
        "id": "98652103"
      },
      "outputs": [],
      "source": [
        "aj_func(a)"
      ]
    },
    {
      "cell_type": "code",
      "execution_count": null,
      "id": "2942d05b",
      "metadata": {
        "id": "2942d05b",
        "outputId": "3d9b24d1-2a1c-4217-a70a-01bbd26d6365"
      },
      "outputs": [
        {
          "data": {
            "text/plain": [
              "array([ 1,  2,  3,  4,  5,  6,  7,  8,  9, 10, 11, 12])"
            ]
          },
          "execution_count": 60,
          "metadata": {},
          "output_type": "execute_result"
        }
      ],
      "source": [
        "a"
      ]
    },
    {
      "cell_type": "markdown",
      "id": "479e2fe0",
      "metadata": {
        "id": "479e2fe0"
      },
      "source": [
        "**<code style=\"background:yellow;color:black\">Use cases of vectorization:</code>**\n",
        "\n",
        "1. **<u>We can apply vectorizaton on any python pre defined or in-built function:</u>** Here, we are vectorizing in-built log function of the math module of python. And then we are passing the entire np array \"a\" to that newly defined vectorized form of log function, to get log of all the elements of \"a\". Basically vectorization supports element-wise operations on arrays, where the same operation is applied to each element in an array.\n",
        "\n",
        "2. **<u>Data Manipulation:</u>** Vectorization simplifies data manipulation tasks. You can easily perform tasks like filtering, transformation, or combining arrays without writing explicit loops."
      ]
    },
    {
      "cell_type": "code",
      "execution_count": null,
      "id": "9b18a432",
      "metadata": {
        "id": "9b18a432"
      },
      "outputs": [],
      "source": [
        "import math"
      ]
    },
    {
      "cell_type": "code",
      "execution_count": null,
      "id": "a705930c",
      "metadata": {
        "id": "a705930c"
      },
      "outputs": [],
      "source": [
        "vectorized_log = np.vectorize(math.log)"
      ]
    },
    {
      "cell_type": "code",
      "execution_count": null,
      "id": "38efc4aa",
      "metadata": {
        "id": "38efc4aa",
        "outputId": "5f35e2a1-0b5d-46a0-c499-a377be897450"
      },
      "outputs": [
        {
          "data": {
            "text/plain": [
              "array([0.        , 0.69314718, 1.09861229, 1.38629436, 1.60943791,\n",
              "       1.79175947, 1.94591015, 2.07944154, 2.19722458, 2.30258509,\n",
              "       2.39789527, 2.48490665])"
            ]
          },
          "execution_count": 63,
          "metadata": {},
          "output_type": "execute_result"
        }
      ],
      "source": [
        "vectorized_log(a)"
      ]
    },
    {
      "cell_type": "code",
      "execution_count": null,
      "id": "56b8c103",
      "metadata": {
        "id": "56b8c103"
      },
      "outputs": [],
      "source": [
        "b = np.arange(1,10).reshape(3,3)"
      ]
    },
    {
      "cell_type": "code",
      "execution_count": null,
      "id": "327d9149",
      "metadata": {
        "id": "327d9149",
        "outputId": "88d8a198-aceb-4bc8-85e5-9bfff1eb77b9"
      },
      "outputs": [
        {
          "data": {
            "text/plain": [
              "array([[1, 2, 3],\n",
              "       [4, 5, 6],\n",
              "       [7, 8, 9]])"
            ]
          },
          "execution_count": 65,
          "metadata": {},
          "output_type": "execute_result"
        }
      ],
      "source": [
        "b"
      ]
    },
    {
      "cell_type": "markdown",
      "id": "60144d56",
      "metadata": {
        "id": "60144d56"
      },
      "source": [
        "**Vecorization also works on a 2D array as well.**\n",
        "\n",
        "** Here every element is passed to the solve func and solve func does its work as required on every element individually. **"
      ]
    },
    {
      "cell_type": "code",
      "execution_count": null,
      "id": "63cda023",
      "metadata": {
        "id": "63cda023",
        "outputId": "05cd920a-e956-4453-f2eb-8b34bbcb1629"
      },
      "outputs": [
        {
          "data": {
            "text/plain": [
              "array([[ 3,  4,  9],\n",
              "       [ 8, 15, 12],\n",
              "       [21, 16, 27]])"
            ]
          },
          "execution_count": 66,
          "metadata": {},
          "output_type": "execute_result"
        }
      ],
      "source": [
        "aj_func(b)"
      ]
    },
    {
      "cell_type": "markdown",
      "id": "c3ec96fc",
      "metadata": {
        "id": "c3ec96fc"
      },
      "source": [
        "### <code style=\"background:yellow;color:black\">Broadcasting</code>\n",
        "\n",
        "**NumPy broadcasting is a powerful feature that allows NumPy to perform operations on arrays of different shapes, making it possible to combine and manipulate arrays that would otherwise have incompatible shapes.** Broadcasting is particularly useful when you want to perform element-wise operations on arrays of different shapes without having to explicitly reshape or tile the arrays to match.\n",
        "\n",
        "**The key idea behind broadcasting is that when performing element-wise operations between two arrays, NumPy compares their shapes element-wise, from right to left. It starts by comparing the trailing dimensions (those with size 1 or that are missing) and then extends to the higher dimensions.**\n",
        "\n",
        "In the first row in the image below, we are adding 2 matrices of size 4,3 so its simple element wise addition. Thats 1st element of 1st matrix is added with 1st element of 2nd matrix, 2nd element of 1st matrix is added with 2nd element of 2nd matrix and so on. So thats clear, easy and straightforward, and this is the ideal scenario.\n",
        "\n",
        "Now in 2nd row of the image, if we try to add these two matrices of different sizes, one of 4,3 and other of 1,3, logically it should give error, because we cant perform element wise operation on 2 different sizes. But in some specific conditions, that we will soon learn, **2ND MATRIX WILL AUTOMATICALLY REPLICATE ITSELF OR ENLARGE ITSELF TO FIT IN THE SIZE OF THE 1ST MATRIX, AND THEN ELEMENT WISE OPERATION WILL HAPPEN.** The faint image tells us exactly this.\n",
        "\n",
        "In 3rd case, we have one column matrix and one row matrix, both are of different sizes, so again if we try to add these two logically it should give error because we cant perform element wise operation on 2 different sizes. So what actually will happen is **1ST MATRIX WILL REPLICATE ITSELF TO MATCH FOR THE NUMBER OF COLUMNS OF 2ND MATRIX AND 2ND MATRIX WILL REPLICATE ITSELF TO FIT IN IN FOR THE NUMBER OF ROWS OF THE 1ST MATRIX, AND THEN ELEMENT WISE OPERATION HAPPENED AND WE GOT THE RESULT.** The faint image tells us exactly this.\n",
        "\n",
        "Replication is done automatically. **THIS IS CALLED BROADCASTING. AND IT NOT ONLY APPLIES AUTOMATICALLY IN CASE OF ADDITION BUT ALSO APPLIES IN CASE OF MULTIPLICATION.**\n",
        "\n",
        "Now, to understand how and why this happened, we need to understand \"tile\" function.\n",
        "* In tile func, we pass 2 arguments- one the array, in our case \"a\", and a tuple containing the information about how many times we want to replicate the array \"a\" horizontally and vertically, or how many instances of the array we want horizontally and vertically.\n",
        "* In our case, we passed a tuple (3,1) - this means replicate the array \"a\" or we want to create instances of the array such that in total it becomes 3 times horizontally. And replicate the array or create instances of the array such that it becomes 1 time vertically. So, we get the array having 3 rows and 4 cols because originally the array had 1 row and 4 cols.\n",
        "* Here not to confuse (3,1) with the size of the resultant array. Its how many times we want to replicate the array or how many instances of the array we want horizontally and vertically.\n",
        "* Please note that in tile func, if we pass array itself as the first argument and run it again and again, everytime the resultant array will be replicated again and again so that the result will inrease in size. Thats why we dont pass array as the first argument in tile func, instead we pass arange() so that everytime array will be generated as new and even if we we run this tile func again and again resultant array will be same everytime, it wont grow."
      ]
    },
    {
      "cell_type": "code",
      "execution_count": null,
      "id": "b5954c9c",
      "metadata": {
        "id": "b5954c9c"
      },
      "outputs": [],
      "source": [
        "a = np.arange(0,40,10)"
      ]
    },
    {
      "cell_type": "code",
      "execution_count": null,
      "id": "636c82d9",
      "metadata": {
        "id": "636c82d9",
        "outputId": "382c0a3d-1874-4e77-f05f-a62ac5efb584"
      },
      "outputs": [
        {
          "data": {
            "text/plain": [
              "array([ 0, 10, 20, 30])"
            ]
          },
          "execution_count": 68,
          "metadata": {},
          "output_type": "execute_result"
        }
      ],
      "source": [
        "a"
      ]
    },
    {
      "cell_type": "code",
      "execution_count": null,
      "id": "e0a0d04c",
      "metadata": {
        "id": "e0a0d04c"
      },
      "outputs": [],
      "source": [
        "a = np.tile(a, (3,1))"
      ]
    },
    {
      "cell_type": "code",
      "execution_count": null,
      "id": "e83b2efa",
      "metadata": {
        "id": "e83b2efa",
        "outputId": "2ec1b560-5958-4f49-9e4f-eac046061815"
      },
      "outputs": [
        {
          "data": {
            "text/plain": [
              "array([[ 0, 10, 20, 30],\n",
              "       [ 0, 10, 20, 30],\n",
              "       [ 0, 10, 20, 30]])"
            ]
          },
          "execution_count": 70,
          "metadata": {},
          "output_type": "execute_result"
        }
      ],
      "source": [
        "a"
      ]
    },
    {
      "cell_type": "code",
      "execution_count": null,
      "id": "f257e685",
      "metadata": {
        "id": "f257e685"
      },
      "outputs": [],
      "source": [
        "b = np.arange(0,3)"
      ]
    },
    {
      "cell_type": "code",
      "execution_count": null,
      "id": "25269f24",
      "metadata": {
        "id": "25269f24",
        "outputId": "85bd9ee3-681a-4930-b643-4200185428ea"
      },
      "outputs": [
        {
          "data": {
            "text/plain": [
              "array([0, 1, 2])"
            ]
          },
          "execution_count": 72,
          "metadata": {},
          "output_type": "execute_result"
        }
      ],
      "source": [
        "b"
      ]
    },
    {
      "cell_type": "code",
      "execution_count": null,
      "id": "d7f0dd22",
      "metadata": {
        "id": "d7f0dd22"
      },
      "outputs": [],
      "source": [
        "b = np.tile(np.arange(0,3), (4,1))"
      ]
    },
    {
      "cell_type": "code",
      "execution_count": null,
      "id": "e5ec1b72",
      "metadata": {
        "id": "e5ec1b72",
        "outputId": "3d002745-175f-4c2b-c298-98a82bd2f64b"
      },
      "outputs": [
        {
          "data": {
            "text/plain": [
              "array([[0, 1, 2],\n",
              "       [0, 1, 2],\n",
              "       [0, 1, 2],\n",
              "       [0, 1, 2]])"
            ]
          },
          "execution_count": 74,
          "metadata": {},
          "output_type": "execute_result"
        }
      ],
      "source": [
        "b"
      ]
    },
    {
      "cell_type": "markdown",
      "id": "490b0027",
      "metadata": {
        "id": "490b0027"
      },
      "source": [
        "Now, can we perform a + b? Element wise addition? - NO. Because shape of b is 4,3 and shape of a is 3,4. So, we can do transpose of a to get shape of a as 4,3. Now we can do a + b to get element wise addition."
      ]
    },
    {
      "cell_type": "code",
      "execution_count": null,
      "id": "ab287f5f",
      "metadata": {
        "id": "ab287f5f",
        "outputId": "c4a61b2b-4d7a-43f7-be92-7ee70ec4eea1"
      },
      "outputs": [
        {
          "data": {
            "text/plain": [
              "(4, 3)"
            ]
          },
          "execution_count": 75,
          "metadata": {},
          "output_type": "execute_result"
        }
      ],
      "source": [
        "b.shape"
      ]
    },
    {
      "cell_type": "code",
      "execution_count": null,
      "id": "a24f1427",
      "metadata": {
        "id": "a24f1427",
        "outputId": "f15d063d-2f39-4d5d-f434-369d40ffd67a"
      },
      "outputs": [
        {
          "data": {
            "text/plain": [
              "(3, 4)"
            ]
          },
          "execution_count": 76,
          "metadata": {},
          "output_type": "execute_result"
        }
      ],
      "source": [
        "a.shape"
      ]
    },
    {
      "cell_type": "code",
      "execution_count": null,
      "id": "d98e32dd",
      "metadata": {
        "id": "d98e32dd"
      },
      "outputs": [],
      "source": [
        "a = a.T"
      ]
    },
    {
      "cell_type": "code",
      "execution_count": null,
      "id": "78af7511",
      "metadata": {
        "id": "78af7511",
        "outputId": "380d2f86-d298-4c92-f1e4-298ac02e84e4"
      },
      "outputs": [
        {
          "data": {
            "text/plain": [
              "(4, 3)"
            ]
          },
          "execution_count": 78,
          "metadata": {},
          "output_type": "execute_result"
        }
      ],
      "source": [
        "a.shape"
      ]
    },
    {
      "cell_type": "code",
      "execution_count": null,
      "id": "7fb5fcf4",
      "metadata": {
        "id": "7fb5fcf4",
        "outputId": "a754e192-ce8c-4f69-b11a-5e7dfdaa32f3"
      },
      "outputs": [
        {
          "data": {
            "text/plain": [
              "array([[ 0,  0,  0],\n",
              "       [10, 10, 10],\n",
              "       [20, 20, 20],\n",
              "       [30, 30, 30]])"
            ]
          },
          "execution_count": 79,
          "metadata": {},
          "output_type": "execute_result"
        }
      ],
      "source": [
        "a"
      ]
    },
    {
      "cell_type": "code",
      "execution_count": null,
      "id": "e2587155",
      "metadata": {
        "id": "e2587155",
        "outputId": "647be71f-c202-421b-fae3-2b251c61d820"
      },
      "outputs": [
        {
          "data": {
            "text/plain": [
              "array([[ 0,  1,  2],\n",
              "       [10, 11, 12],\n",
              "       [20, 21, 22],\n",
              "       [30, 31, 32]])"
            ]
          },
          "execution_count": 80,
          "metadata": {},
          "output_type": "execute_result"
        }
      ],
      "source": [
        "a + b"
      ]
    },
    {
      "cell_type": "code",
      "execution_count": null,
      "id": "97d7cd06",
      "metadata": {
        "id": "97d7cd06",
        "outputId": "3b76aec1-f40c-4d6f-c98b-98864233d7cb"
      },
      "outputs": [
        {
          "data": {
            "text/plain": [
              "array([[ 0,  0,  0],\n",
              "       [10, 10, 10],\n",
              "       [20, 20, 20],\n",
              "       [30, 30, 30]])"
            ]
          },
          "execution_count": 81,
          "metadata": {},
          "output_type": "execute_result"
        }
      ],
      "source": [
        "a"
      ]
    },
    {
      "cell_type": "code",
      "execution_count": null,
      "id": "24ce3bab",
      "metadata": {
        "id": "24ce3bab"
      },
      "outputs": [],
      "source": [
        "b = np.arange(0,3)"
      ]
    },
    {
      "cell_type": "code",
      "execution_count": null,
      "id": "40dd8aaf",
      "metadata": {
        "id": "40dd8aaf",
        "outputId": "069689e1-4ac0-42a8-b2ee-82773c62e20c"
      },
      "outputs": [
        {
          "data": {
            "text/plain": [
              "((4, 3), (3,))"
            ]
          },
          "execution_count": 83,
          "metadata": {},
          "output_type": "execute_result"
        }
      ],
      "source": [
        "a.shape, b.shape"
      ]
    },
    {
      "cell_type": "code",
      "execution_count": null,
      "id": "13f90ba0",
      "metadata": {
        "id": "13f90ba0",
        "outputId": "4fb6cc94-a82b-493a-bf78-1ff1d06b5028"
      },
      "outputs": [
        {
          "data": {
            "text/plain": [
              "array([[ 0,  0,  0],\n",
              "       [10, 10, 10],\n",
              "       [20, 20, 20],\n",
              "       [30, 30, 30]])"
            ]
          },
          "execution_count": 84,
          "metadata": {},
          "output_type": "execute_result"
        }
      ],
      "source": [
        "a"
      ]
    },
    {
      "cell_type": "code",
      "execution_count": null,
      "id": "02183843",
      "metadata": {
        "id": "02183843",
        "outputId": "c33fd067-6133-4fd1-f145-2d4fa453660f"
      },
      "outputs": [
        {
          "data": {
            "text/plain": [
              "array([0, 1, 2])"
            ]
          },
          "execution_count": 85,
          "metadata": {},
          "output_type": "execute_result"
        }
      ],
      "source": [
        "b"
      ]
    },
    {
      "cell_type": "markdown",
      "id": "24457486",
      "metadata": {
        "id": "24457486"
      },
      "source": [
        "Now, what will happen if we do a + b? As we learnt earlier, replication of 2nd array i.e. \"b\" will happen and then element wise addition will happen automatically.\n",
        "\n",
        "**There is a <mark>RULE</mark> according to which this replication happens.**\n",
        "\n",
        "We will understand whether broadcasting will be performed between 2 given np arrays or not.\n",
        "* Lets take 2 np arrays of size (4,3) and (3,).\n",
        "* What is the dimension of both the arrays?\n",
        "* 1st array is 2D and 2nd array is 1D.\n",
        "* So, first of all **MENTALLY** make 2nd array same dimension as 1st array, in our case we will make 2nd array as a 2D array.\n",
        "\n",
        "How will we do it?\n",
        "\n",
        "**WE WILL ALWAYS ADD THE MISSING DIMENSION AS \"1\" TO THE LEFT SIDE. <br>\n",
        "HERE WE WILL VISUALIZE (3,) AS (1,3). <br>\n",
        "<mark>SO OUR RULE SAYS - ALWAYS MAKE BOTH ARRAYS SAME DIMENSION BY PADDING THE ARRAY WITH \"1\" ON THE LEFT SIDE.</mark> <br>\n",
        "REFER NOTES FOR MORE CLARITY. <br>\n",
        "No matter how many dimensions to add, make it all 1s from the left.**\n",
        "\n",
        "* Now we have two 2D arrays of size (4,3) and (1,3).\n",
        "* Now from the right side go one by one and compare.\n",
        "* REFER NOTES FOR MORE CLARITY.\n",
        "* So here, we will compare right most dimension 3 of (4,3) to rightmost dimension 3 of (1,3).\n",
        "* There are 2 things to check.\n",
        "* First, whether they are same or not.\n",
        "* Second, atleast one of them should be \"1\".\n",
        "* If any of these two condition is satisfied in comparison, then that dimension is good to go.\n",
        "* Similarly, compare each and every dimesnion and if every dimension is good to go, **<mark>THEN BROADCASTING WILL BE PERFORMED OTHERWISE NOT.</mark>**\n",
        "\n",
        "Lets take another example.\n",
        "* Lets take 2 np arrays as shown in last row of the image.\n",
        "* Shape of 1st array is (4,1) its a 2D array.\n",
        "* Shape of 2nd array is (3,) its a 1D array.\n",
        "* REFER NOTES FOR MORE CLARITY ON THIS AND **<mark>DIFFERENCE BETWEEN 1D AND 2D ARRAYS.</mark>**\n",
        "* Now lets see if broadcasting will be performed or not as per our rule.\n",
        "* a is of shape (4,1) and b is of shape (3,).\n",
        "* So we imagine b as (1,3) as explained in above example.\n",
        "* Now check and compare rightmost dimesnions of both arrays i.e 1 of a and 3 of b.\n",
        "* We see it satisfies our condition of atleast one of them should be \"1\", so good to go.\n",
        "* Similarly 2nd dimension is also compared and found good to go. So, <mark>BROADCASTING WILL BE DONE.</mark>  \n",
        "\n",
        "**After performing broadcasting, the shape of the resultant array will be maximum of both the arrays's dimension.**\n",
        "\n",
        "In above example it will be (4,3)."
      ]
    },
    {
      "cell_type": "code",
      "execution_count": null,
      "id": "9e332008",
      "metadata": {
        "id": "9e332008",
        "outputId": "d7b3171b-9a50-464d-f57c-bdd66f6ce00d"
      },
      "outputs": [
        {
          "data": {
            "text/plain": [
              "array([[ 0,  1,  2],\n",
              "       [10, 11, 12],\n",
              "       [20, 21, 22],\n",
              "       [30, 31, 32]])"
            ]
          },
          "execution_count": 86,
          "metadata": {},
          "output_type": "execute_result"
        }
      ],
      "source": [
        "a + b"
      ]
    },
    {
      "cell_type": "code",
      "execution_count": null,
      "id": "4cdf7e05",
      "metadata": {
        "id": "4cdf7e05"
      },
      "outputs": [],
      "source": [
        "a = np.arange(0,40,10).reshape(4,1)"
      ]
    },
    {
      "cell_type": "code",
      "execution_count": null,
      "id": "bd438a2b",
      "metadata": {
        "id": "bd438a2b",
        "outputId": "59c3a289-f689-4441-ba4b-3f97e3c756cf"
      },
      "outputs": [
        {
          "data": {
            "text/plain": [
              "array([[ 0],\n",
              "       [10],\n",
              "       [20],\n",
              "       [30]])"
            ]
          },
          "execution_count": 88,
          "metadata": {},
          "output_type": "execute_result"
        }
      ],
      "source": [
        "a"
      ]
    },
    {
      "cell_type": "code",
      "execution_count": null,
      "id": "1571e8f2",
      "metadata": {
        "id": "1571e8f2"
      },
      "outputs": [],
      "source": [
        "b = np.arange(0,3)"
      ]
    },
    {
      "cell_type": "code",
      "execution_count": null,
      "id": "56c18db5",
      "metadata": {
        "id": "56c18db5",
        "outputId": "431e48fe-5f72-4d15-8c10-a69d0155fd5b"
      },
      "outputs": [
        {
          "data": {
            "text/plain": [
              "array([0, 1, 2])"
            ]
          },
          "execution_count": 90,
          "metadata": {},
          "output_type": "execute_result"
        }
      ],
      "source": [
        "b"
      ]
    },
    {
      "cell_type": "code",
      "execution_count": null,
      "id": "f568382c",
      "metadata": {
        "id": "f568382c",
        "outputId": "5a620be5-694f-4391-d868-61ce084dc97a"
      },
      "outputs": [
        {
          "data": {
            "text/plain": [
              "((4, 1), (3,))"
            ]
          },
          "execution_count": 91,
          "metadata": {},
          "output_type": "execute_result"
        }
      ],
      "source": [
        "a.shape, b.shape"
      ]
    },
    {
      "cell_type": "code",
      "execution_count": null,
      "id": "825fa46f",
      "metadata": {
        "id": "825fa46f",
        "outputId": "c1615a1d-ec02-485d-efdd-078d603e4321"
      },
      "outputs": [
        {
          "data": {
            "text/plain": [
              "array([[ 0,  1,  2],\n",
              "       [10, 11, 12],\n",
              "       [20, 21, 22],\n",
              "       [30, 31, 32]])"
            ]
          },
          "execution_count": 92,
          "metadata": {},
          "output_type": "execute_result"
        }
      ],
      "source": [
        "a + b"
      ]
    },
    {
      "cell_type": "markdown",
      "id": "e4586645",
      "metadata": {
        "id": "e4586645"
      },
      "source": [
        "### Quiz"
      ]
    },
    {
      "cell_type": "code",
      "execution_count": null,
      "id": "6fa4bd18",
      "metadata": {
        "id": "6fa4bd18"
      },
      "outputs": [],
      "source": [
        "a = np.arange(8).reshape(2,4)"
      ]
    },
    {
      "cell_type": "code",
      "execution_count": null,
      "id": "5df3e72a",
      "metadata": {
        "id": "5df3e72a",
        "outputId": "38d00420-43d0-4c5e-8d5c-6b8012c2dd5b"
      },
      "outputs": [
        {
          "data": {
            "text/plain": [
              "array([[0, 1, 2, 3],\n",
              "       [4, 5, 6, 7]])"
            ]
          },
          "execution_count": 94,
          "metadata": {},
          "output_type": "execute_result"
        }
      ],
      "source": [
        "a"
      ]
    },
    {
      "cell_type": "code",
      "execution_count": null,
      "id": "acd60215",
      "metadata": {
        "id": "acd60215"
      },
      "outputs": [],
      "source": [
        "b = np.arange(16).reshape(4,4)"
      ]
    },
    {
      "cell_type": "code",
      "execution_count": null,
      "id": "c8c098a9",
      "metadata": {
        "id": "c8c098a9",
        "outputId": "7dbd897c-138c-47e6-c556-528f7629bc77"
      },
      "outputs": [
        {
          "data": {
            "text/plain": [
              "array([[ 0,  1,  2,  3],\n",
              "       [ 4,  5,  6,  7],\n",
              "       [ 8,  9, 10, 11],\n",
              "       [12, 13, 14, 15]])"
            ]
          },
          "execution_count": 96,
          "metadata": {},
          "output_type": "execute_result"
        }
      ],
      "source": [
        "b"
      ]
    },
    {
      "cell_type": "markdown",
      "id": "908a3333",
      "metadata": {
        "id": "908a3333"
      },
      "source": [
        "* Here lets compare shape of a is (2,4) with that of b (4,4).\n",
        "* Rightmost dimension satisfies the condition that values should be same, so its good to go.\n",
        "* But, next dimesnion i.e. 2 and 4 doesnt satisfy both the conditions, that is values should be same or atleast one of them should be \"1\", so its not good to go.\n",
        "* Hence, <mark>OVERALL BROADCASTING WILL NOT OCCUR, and a + b will throw an error.</mark>"
      ]
    },
    {
      "cell_type": "code",
      "execution_count": null,
      "id": "ac9007cb",
      "metadata": {
        "id": "ac9007cb",
        "outputId": "ab10d36c-f24d-420e-98f4-688dfb7f2f49"
      },
      "outputs": [
        {
          "ename": "ValueError",
          "evalue": "operands could not be broadcast together with shapes (2,4) (4,4) ",
          "output_type": "error",
          "traceback": [
            "\u001b[1;31m---------------------------------------------------------------------------\u001b[0m",
            "\u001b[1;31mValueError\u001b[0m                                Traceback (most recent call last)",
            "Cell \u001b[1;32mIn[97], line 8\u001b[0m\n\u001b[0;32m      1\u001b[0m \u001b[38;5;124;03m'''\u001b[39;00m\n\u001b[0;32m      2\u001b[0m \u001b[38;5;124;03mHere lets compare shape of a is (2,4) with that of b (4,4). Rightmost dimension satisfies the condition that values should \u001b[39;00m\n\u001b[0;32m      3\u001b[0m \u001b[38;5;124;03mbe same, so its good to go. But, next dimesnion i.e. 2 and 4 doesnt satisfy both the conditions, that is values should be same \u001b[39;00m\n\u001b[0;32m      4\u001b[0m \u001b[38;5;124;03mor atleast one of them should be \"1\", so its not good to go. Hence, OVERALL BROADCASTING WILL NOT OCCUR, and a+b will \u001b[39;00m\n\u001b[0;32m      5\u001b[0m \u001b[38;5;124;03mthrow an error. \u001b[39;00m\n\u001b[0;32m      6\u001b[0m \u001b[38;5;124;03m'''\u001b[39;00m\n\u001b[1;32m----> 8\u001b[0m a \u001b[38;5;241m+\u001b[39m b\n",
            "\u001b[1;31mValueError\u001b[0m: operands could not be broadcast together with shapes (2,4) (4,4) "
          ]
        }
      ],
      "source": [
        "a + b"
      ]
    },
    {
      "cell_type": "code",
      "execution_count": null,
      "id": "dbc28dad",
      "metadata": {
        "id": "dbc28dad"
      },
      "outputs": [],
      "source": [
        "A = np.arange(1,10).reshape(3,3)"
      ]
    },
    {
      "cell_type": "code",
      "execution_count": null,
      "id": "a2f846de",
      "metadata": {
        "id": "a2f846de",
        "outputId": "5e4a777c-add4-4e52-e6fc-7e8735b7e600"
      },
      "outputs": [
        {
          "data": {
            "text/plain": [
              "array([[1, 2, 3],\n",
              "       [4, 5, 6],\n",
              "       [7, 8, 9]])"
            ]
          },
          "execution_count": 99,
          "metadata": {},
          "output_type": "execute_result"
        }
      ],
      "source": [
        "A"
      ]
    },
    {
      "cell_type": "code",
      "execution_count": null,
      "id": "b975e259",
      "metadata": {
        "id": "b975e259"
      },
      "outputs": [],
      "source": [
        "B = np.array([-1, 0, 1])"
      ]
    },
    {
      "cell_type": "code",
      "execution_count": null,
      "id": "bb510d98",
      "metadata": {
        "id": "bb510d98",
        "outputId": "0ac5b264-ca17-4360-dc24-a7ef1e7add12"
      },
      "outputs": [
        {
          "data": {
            "text/plain": [
              "array([-1,  0,  1])"
            ]
          },
          "execution_count": 101,
          "metadata": {},
          "output_type": "execute_result"
        }
      ],
      "source": [
        "B"
      ]
    },
    {
      "cell_type": "markdown",
      "id": "c5269fc3",
      "metadata": {
        "id": "c5269fc3"
      },
      "source": [
        "* Broadcasting will be done and two np arrays will be multiplied.\n",
        "* Basically, -1,0,-1 is getting replicated horizontally to make it a total 3 times, and then element wise multiplication happens."
      ]
    },
    {
      "cell_type": "code",
      "execution_count": null,
      "id": "bc7f3824",
      "metadata": {
        "id": "bc7f3824",
        "outputId": "5b81f704-a50b-4baf-f87e-cc1f463e9e25"
      },
      "outputs": [
        {
          "data": {
            "text/plain": [
              "array([[-1,  0,  3],\n",
              "       [-4,  0,  6],\n",
              "       [-7,  0,  9]])"
            ]
          },
          "execution_count": 102,
          "metadata": {},
          "output_type": "execute_result"
        }
      ],
      "source": [
        "A * B"
      ]
    },
    {
      "cell_type": "markdown",
      "id": "a4fc9f20",
      "metadata": {
        "id": "a4fc9f20"
      },
      "source": [
        "### Quiz\n",
        "\n",
        "A = np.arange(12).reshape(3, 4) <br>\n",
        "B = np.array([1, 2, 3])\n",
        "\n",
        "What'll be the output of A + B ?\n",
        "\n",
        "A. [[0, 1, 2, 3],\n",
        "    [4, 5, 6, 7],\n",
        "    [8, 9, 10, 11]] <br>\n",
        "B. Error <br>\n",
        "C. [[1, 2, 3, 4],\n",
        "    [6, 7, 8, 9],\n",
        "    [11,12,13,14]]"
      ]
    },
    {
      "cell_type": "code",
      "execution_count": null,
      "id": "821b5ea3",
      "metadata": {
        "id": "821b5ea3",
        "outputId": "b2df665f-9860-4756-e777-3642c1cef385"
      },
      "outputs": [
        {
          "ename": "ValueError",
          "evalue": "operands could not be broadcast together with shapes (3,4) (3,) ",
          "output_type": "error",
          "traceback": [
            "\u001b[1;31m---------------------------------------------------------------------------\u001b[0m",
            "\u001b[1;31mValueError\u001b[0m                                Traceback (most recent call last)",
            "Cell \u001b[1;32mIn[103], line 5\u001b[0m\n\u001b[0;32m      1\u001b[0m A \u001b[38;5;241m=\u001b[39m np\u001b[38;5;241m.\u001b[39marange(\u001b[38;5;241m12\u001b[39m)\u001b[38;5;241m.\u001b[39mreshape(\u001b[38;5;241m3\u001b[39m, \u001b[38;5;241m4\u001b[39m)\n\u001b[0;32m      3\u001b[0m B \u001b[38;5;241m=\u001b[39m np\u001b[38;5;241m.\u001b[39marray([\u001b[38;5;241m1\u001b[39m, \u001b[38;5;241m2\u001b[39m, \u001b[38;5;241m3\u001b[39m])\n\u001b[1;32m----> 5\u001b[0m A \u001b[38;5;241m+\u001b[39m B\n",
            "\u001b[1;31mValueError\u001b[0m: operands could not be broadcast together with shapes (3,4) (3,) "
          ]
        }
      ],
      "source": [
        "A = np.arange(12).reshape(3, 4)\n",
        "\n",
        "B = np.array([1, 2, 3])\n",
        "\n",
        "A + B"
      ]
    },
    {
      "cell_type": "markdown",
      "id": "ef73e6f0",
      "metadata": {
        "id": "ef73e6f0"
      },
      "source": [
        "### Quiz\n",
        "\n",
        "Given two arrays of shape\n",
        "\n",
        "1. Array A of shape  (8, 1, 6, 1)\n",
        "2. Array B of shape (7, 1, 5)\n",
        "\n",
        "Is broadcasting possible in this case? If yes, what will be the shape of output ?\n",
        "\n",
        "* Broadcasting not possible as dimensions don't match\n",
        "* Broadcasting not possible as dimension value 6 and 5 doesn't match\n",
        "* Broadcasting possible. Shape will be (8, 1, 6, 5)\n",
        "* Broadcasting possible; Shape will be (8, 7, 6, 5)\n",
        "\n",
        "\n",
        "<mark>Answer will be D. Refer notes.</mark>"
      ]
    },
    {
      "cell_type": "markdown",
      "id": "d28bc80d",
      "metadata": {
        "id": "d28bc80d"
      },
      "source": [
        "#### Doubts"
      ]
    },
    {
      "cell_type": "code",
      "execution_count": null,
      "id": "7b476a71",
      "metadata": {
        "id": "7b476a71"
      },
      "outputs": [],
      "source": [
        "a = np.array([[4,2],\n",
        "             [1,5]])"
      ]
    },
    {
      "cell_type": "code",
      "execution_count": null,
      "id": "37ed3e70",
      "metadata": {
        "id": "37ed3e70",
        "outputId": "8ad581df-9308-4843-8248-2666cbacc3bd"
      },
      "outputs": [
        {
          "data": {
            "text/plain": [
              "array([[4, 2],\n",
              "       [1, 5]])"
            ]
          },
          "execution_count": 105,
          "metadata": {},
          "output_type": "execute_result"
        }
      ],
      "source": [
        "a"
      ]
    },
    {
      "cell_type": "markdown",
      "id": "d9688fc0",
      "metadata": {
        "id": "d9688fc0"
      },
      "source": [
        "** Sort the 2D array wrt axis 0 in ascending order, that is column wise. Sorting in descending order is HOMEWORK. **"
      ]
    },
    {
      "cell_type": "code",
      "execution_count": null,
      "id": "a39ce19a",
      "metadata": {
        "id": "a39ce19a",
        "outputId": "abc86b57-5ad0-4422-a95c-993141026f44"
      },
      "outputs": [
        {
          "data": {
            "text/plain": [
              "array([[1, 2],\n",
              "       [4, 5]])"
            ]
          },
          "execution_count": 109,
          "metadata": {},
          "output_type": "execute_result"
        }
      ],
      "source": [
        "np.sort(a, axis = 0)"
      ]
    },
    {
      "cell_type": "markdown",
      "id": "50b6c017",
      "metadata": {
        "id": "50b6c017"
      },
      "source": [
        "** Sort the 2D array wrt axis 1 in ascending order, that is row wise. **"
      ]
    },
    {
      "cell_type": "code",
      "execution_count": null,
      "id": "207e1d07",
      "metadata": {
        "id": "207e1d07",
        "outputId": "d84a72da-8fda-4ada-e558-ef3eb8570865"
      },
      "outputs": [
        {
          "data": {
            "text/plain": [
              "array([[2, 4],\n",
              "       [1, 5]])"
            ]
          },
          "execution_count": 107,
          "metadata": {},
          "output_type": "execute_result"
        }
      ],
      "source": [
        "np.sort(a, axis = 1)"
      ]
    }
  ],
  "metadata": {
    "kernelspec": {
      "display_name": "Python 3 (ipykernel)",
      "language": "python",
      "name": "python3"
    },
    "language_info": {
      "codemirror_mode": {
        "name": "ipython",
        "version": 3
      },
      "file_extension": ".py",
      "mimetype": "text/x-python",
      "name": "python",
      "nbconvert_exporter": "python",
      "pygments_lexer": "ipython3",
      "version": "3.11.3"
    },
    "colab": {
      "provenance": [],
      "include_colab_link": true
    }
  },
  "nbformat": 4,
  "nbformat_minor": 5
}