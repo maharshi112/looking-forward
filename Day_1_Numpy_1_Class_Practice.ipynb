{
  "cells": [
    {
      "cell_type": "markdown",
      "metadata": {
        "id": "view-in-github",
        "colab_type": "text"
      },
      "source": [
        "<a href=\"https://colab.research.google.com/github/maharshi112/looking-forward/blob/master/Day_1_Numpy_1_Class_Practice.ipynb\" target=\"_parent\"><img src=\"https://colab.research.google.com/assets/colab-badge.svg\" alt=\"Open In Colab\"/></a>"
      ]
    },
    {
      "cell_type": "markdown",
      "id": "ddd559e4",
      "metadata": {
        "id": "ddd559e4"
      },
      "source": [
        "# <mark>Data Analysis and Visualization (DAV)</mark>"
      ]
    },
    {
      "cell_type": "markdown",
      "id": "67df7550",
      "metadata": {
        "id": "67df7550"
      },
      "source": [
        "This entire DAV section of the course is divided into three parts:\n",
        "1. DAV-1 - Python libraries - Time to complete - 1 month and 1 week\n",
        "2. DAV-2 - Probability and Statistics\n",
        "3. DAV-3 - Hypothesis Testing\n",
        "\n",
        "DAV-2 and 3 in total will take 2 to 2.5 months to complete."
      ]
    },
    {
      "cell_type": "markdown",
      "id": "065b7833",
      "metadata": {
        "id": "065b7833"
      },
      "source": [
        "# <mark>What is Numpy</mark>"
      ]
    },
    {
      "cell_type": "markdown",
      "id": "523cc3ef",
      "metadata": {
        "id": "523cc3ef"
      },
      "source": [
        "**NumPy, which stands for \"Numerical Python,\" is a fundamental Python library for numerical and scientific computing. It provides support for large, multi-dimensional arrays and matrices, along with a wide range of mathematical functions to operate on these arrays.**\n",
        "\n",
        "**NumPy is a free and open-source library, and is available for download from the NumPy website.**\n",
        "\n",
        "**Here are some of the primary use cases for NumPy:**\n",
        "\n",
        "* **<u>Multi-dimensional Array Operations:</u>** NumPy's primary data structure is the ndarray (n-dimensional array), which allows you to work with arrays of data efficiently. These arrays can have any number of dimensions and are used for tasks like representing data, images, and more.\n",
        "\n",
        "* **<u>Mathematical and Statistical Operations:</u>** NumPy provides a rich set of mathematical and statistical functions, making it suitable for tasks involving linear algebra, calculus, statistics, and more. You can perform operations like addition, subtraction, multiplication, and division on arrays, as well as advanced operations like matrix multiplication, eigenvalue decomposition, and singular value decomposition.\n",
        "\n",
        "* **<u>Data Manipulation and Analysis:</u>** NumPy is often used in conjunction with libraries like pandas for data manipulation and analysis. It allows you to load, transform, and manipulate data efficiently, making it a foundational tool for data scientists and analysts.\n",
        "\n",
        "* **<u>Machine Learning and Data Science:</u>** NumPy serves as a fundamental building block for many machine learning libraries and frameworks, including scikit-learn and TensorFlow. It's used for creating and manipulating data arrays that are fed into machine learning algorithms.\n",
        "\n",
        "* **<u>Plotting and Data Visualization:</u>** While NumPy itself is not designed for data visualization, it is often used in combination with libraries like Matplotlib and Seaborn to create plots, charts, and visualizations from numerical data.\n",
        "\n",
        "* **<u>Random Number Generation:</u>** NumPy includes a random number generation module that is useful for tasks like simulations and statistical analysis.\n",
        "\n",
        "**Overall, NumPy is a fundamental tool in the Python ecosystem, and its versatility and efficiency make it indispensable for a wide range of applications, particularly in scientific and numerical computing.**\n",
        "\n",
        "**NumPy is widely used in data science, machine learning, scientific research, and many other fields where numerical and mathematical operations on large datasets are required.**"
      ]
    },
    {
      "cell_type": "code",
      "execution_count": null,
      "id": "21a6e87f",
      "metadata": {
        "id": "21a6e87f"
      },
      "outputs": [],
      "source": [
        "a = [1, 4.5, \"string\", True, 7890234567874345678765, \"this is a massive string with a tonne of characters\"]"
      ]
    },
    {
      "cell_type": "code",
      "execution_count": null,
      "id": "8d74b995",
      "metadata": {
        "id": "8d74b995",
        "outputId": "68f23459-9e62-4cf3-b44e-14a90827495c"
      },
      "outputs": [
        {
          "data": {
            "text/plain": [
              "[1,\n",
              " 4.5,\n",
              " 'string',\n",
              " True,\n",
              " 7890234567874345678765,\n",
              " 'this is a massive string with a tonne of characters']"
            ]
          },
          "execution_count": 2,
          "metadata": {},
          "output_type": "execute_result"
        }
      ],
      "source": [
        "a"
      ]
    },
    {
      "cell_type": "markdown",
      "id": "cd2d9e82",
      "metadata": {
        "id": "cd2d9e82"
      },
      "source": [
        "# <mark>Python lists are heterogenous</mark>"
      ]
    },
    {
      "cell_type": "markdown",
      "id": "84e7bbee",
      "metadata": {
        "id": "84e7bbee"
      },
      "source": [
        "* We have learnt about python lists. Lets talk about a very curious aspect of python lists.\n",
        "<u>We have seen that python lists can be heterogenous</u>, which means it can store various datatypes as its elements at the same  time as shown above.\n",
        "\n",
        "* But heterogeneity actually creates a problem. Now, in the example below, can we say that int \"1\" and the string that we have\n",
        "at the end will require different space in memory? <u>They will require different amount of memory to be stored in the RAM.</u>\n",
        "\n",
        "* Now because they are not same amount of data, they require different amounts of memory for their storage, the\n",
        "**storage actually cannot be together. They cannot be stored in boxes in continuous manner in RAM.**\n",
        "\n",
        "* Boxes in memory have same size-- for example, each box can store 4 bytes of data. So, if data is equal to or small in size\n",
        "than 4 bytes, we can keep on storing data in contiguous or continuous manner in boxes.\n",
        "\n",
        "* **Because python is a dynamic programming language which supports heterogeneity, which means when we create lists, we dont tell python what type of data we are going to store in it, means data can be variable in size and HENCE we dont or cant predict the size of data in python lists.**\n",
        "\n",
        "* Think of RAM as a hugh blob of memory. And now somewhere in RAM, \"1\" will be stored somewhere, \"4.5\" will be stored\n",
        "somewhere completely else, \"string\" will be completely at a different place, same goes with boolean and large int.\n",
        "\n",
        "* **What happens internally is, when we create a python list, python stores the memory addresses of the locations where the list elements are stored.**\n",
        "\n",
        "* Lets suppose we are makng tea and we go to a friend's house and make tea. Now in case 1, all the ingridients to make tea are very well organised and stored in one drawer next to each other. But in case 2, all of these ingridients are present in a list where you have been given the locations of those ingridients, where you will find them. But you have to go that address, fetch that ingridient and use it and repeat the process.\n",
        "\n",
        "* In which of the two cases, will we be able to make tea faster? Obviosly 1st case will be faster.\n",
        "\n",
        "* **So, whenever we have heterogeneity, it makes something slow. It comes at a cost. Its like a superpower but it makes lists bulky. Slow because they allow you for dynamic input of type of elements and customization.**"
      ]
    },
    {
      "cell_type": "markdown",
      "id": "0db84fa8",
      "metadata": {
        "id": "0db84fa8"
      },
      "source": [
        "# <mark>Numpy only handles homogenous data</mark>"
      ]
    },
    {
      "cell_type": "markdown",
      "id": "ca072063",
      "metadata": {
        "id": "ca072063"
      },
      "source": [
        "* **Whenever we will be working with numpy, we will always be working with homogenous data, which means numpy lists will only contain ints or it will only contain floats  or it will only contain strings. So, thats why numpy lists are called numpy arrays.**\n",
        "\n",
        "* These numpy arrays are similar to arrays in other programming languages like c++, where arrays are having elements of the\n",
        "same data type.\n",
        "\n",
        "* **Numpy arrays only store homogeneous data. Homogeneous data will be consistent in size, if its consistent in size, it can be stored in contiguous or continuous memory locations. Numpy arrays could actually be faster than python lists. WE WILL PROVE THIS.**\n",
        "\n",
        "* We have heard that Java, C, C++ are fast programming languages than python. Why is python slow?\n",
        "Because, we have discussed this in the first lecure of python, that **PYTHON IS BUILT AS AN ABSTRACTION ON TOP OF C. Python ultimately gets converted into C code, which then gets converted into machine code. \"C is where the python compiler sits.\"**\n",
        "\n",
        "* Numpy is also incredibly fast, as it has bindings to C libraries. For more info on why you would want to use Arrays instead of lists, check out this great [StackOverflow post](http://stackoverflow.com/questions/993984/why-numpy-instead-of-python-lists).\n",
        "\n",
        "* If we run python in cmd prompt, you will see Clang 13.0.0. and that tells you that python interpretor is built in C.\n",
        "**So, what happens is that python code gets converted into C code, which then gets complied into machine code.\n",
        "So, since there is an added step on top of C program, ultimately by nature its bound to get slow.**\n",
        "\n",
        "* **But numpy, even though it works with python, internally directly uses C, so numpy is not an abstraction on top of C.\n",
        "Numpy is also an abstraction on top of C, but it utilizes a lot of properties of C, which python does not. So, although python introduced heterogeneity, numpy doesnt introduce it. Numpy is homogenous. Numpy uses a lot of features directly from C and that is why numpy is faster than a lot of core python concepts. Since, numpy is directly compatible with C and C is a homogenous language, numpy arrays are faster than python lists.**\n",
        "\n",
        "* Numpy and python work in conjunction with each other to get their code converted to C and then to machine language.\n",
        "Numpy's compatibility with is actually better than python. At the same time all of the python concepts like indexing etc will also work with numpy.\n",
        "\n",
        "* **As a data scientist who has to work with millions and millions of data, numpy becomes very obvious choice. And, numpy\n",
        "is omnipresent in all DA/DS roles without fail its gonna come.**\n",
        "\n",
        "* So, numpy array is built on top of C and is more compatible with C and also takes a lot of features of both C and python, but since its homogenous, its lot faster than python lists. Numpy library is built on top of C not on python."
      ]
    },
    {
      "cell_type": "markdown",
      "id": "3d3ca9ee",
      "metadata": {
        "id": "3d3ca9ee"
      },
      "source": [
        "** Here \"a\" is a heterogenous python list. **"
      ]
    },
    {
      "cell_type": "markdown",
      "id": "d9009d11",
      "metadata": {
        "id": "d9009d11"
      },
      "source": [
        "** Importing a module. **"
      ]
    },
    {
      "cell_type": "code",
      "execution_count": null,
      "id": "cf670f9b",
      "metadata": {
        "id": "cf670f9b"
      },
      "outputs": [],
      "source": [
        "import math as m"
      ]
    },
    {
      "cell_type": "markdown",
      "id": "1e34b64b",
      "metadata": {
        "id": "1e34b64b"
      },
      "source": [
        "** Now all the module's methods are available to use with the help of the alias and dot operator. **"
      ]
    },
    {
      "cell_type": "code",
      "execution_count": null,
      "id": "f6025053",
      "metadata": {
        "id": "f6025053",
        "outputId": "54761308-2d1d-4a19-9536-a941d20ca11f"
      },
      "outputs": [
        {
          "data": {
            "text/plain": [
              "2.302585092994046"
            ]
          },
          "execution_count": 4,
          "metadata": {},
          "output_type": "execute_result"
        }
      ],
      "source": [
        "m.log(10)"
      ]
    },
    {
      "cell_type": "markdown",
      "id": "5630b21e",
      "metadata": {
        "id": "5630b21e"
      },
      "source": [
        "### <mark>Using NumPy</mark>"
      ]
    },
    {
      "cell_type": "markdown",
      "id": "a27574a5",
      "metadata": {
        "id": "a27574a5"
      },
      "source": [
        "** Once you've installed NumPy you can import it as a library. **"
      ]
    },
    {
      "cell_type": "code",
      "execution_count": null,
      "id": "be0e2ba9",
      "metadata": {
        "id": "be0e2ba9"
      },
      "outputs": [],
      "source": [
        "import numpy as np"
      ]
    },
    {
      "cell_type": "markdown",
      "id": "689412c7",
      "metadata": {
        "id": "689412c7"
      },
      "source": [
        "** Lets create a normal python list a. **"
      ]
    },
    {
      "cell_type": "code",
      "execution_count": null,
      "id": "c2092c4e",
      "metadata": {
        "id": "c2092c4e"
      },
      "outputs": [],
      "source": [
        "a = [1,2,3,4,5]"
      ]
    },
    {
      "cell_type": "markdown",
      "id": "f55336af",
      "metadata": {
        "id": "f55336af"
      },
      "source": [
        "** We are creating a python list \"res\", using list comprehension to create squares of elements of a. **"
      ]
    },
    {
      "cell_type": "code",
      "execution_count": null,
      "id": "0ac5f492",
      "metadata": {
        "id": "0ac5f492"
      },
      "outputs": [],
      "source": [
        "res = [i ** 2 for i in a]"
      ]
    },
    {
      "cell_type": "code",
      "execution_count": null,
      "id": "47c76630",
      "metadata": {
        "id": "47c76630",
        "outputId": "261a6edb-2066-4fa7-df15-0417510e7bf6"
      },
      "outputs": [
        {
          "data": {
            "text/plain": [
              "[1, 4, 9, 16, 25]"
            ]
          },
          "execution_count": 8,
          "metadata": {},
          "output_type": "execute_result"
        }
      ],
      "source": [
        "res"
      ]
    },
    {
      "cell_type": "markdown",
      "id": "6676bd6c",
      "metadata": {
        "id": "6676bd6c"
      },
      "source": [
        "### <mark>Creating NumPy Arrays from a Python List</mark>"
      ]
    },
    {
      "cell_type": "markdown",
      "id": "23f7adb6",
      "metadata": {
        "id": "23f7adb6"
      },
      "source": [
        "**We can create a numpy array using a method called <code style=\"background:yellow;color:black\">array()</code>, which is defined for array object in numpy. We pass a python list or nested lists in array() method as parameters to create nD numpy array.**\n",
        "\n",
        "**We can also create a nD array by directly converting a python list or nested list. Following is an example of creating a numpy array b using <mark>\"typecasting\"</mark> i.e. typecast a python list into a numpy array.**"
      ]
    },
    {
      "cell_type": "code",
      "execution_count": null,
      "id": "b0604110",
      "metadata": {
        "id": "b0604110"
      },
      "outputs": [],
      "source": [
        "b = np.array(a)"
      ]
    },
    {
      "cell_type": "code",
      "execution_count": null,
      "id": "7b1376ea",
      "metadata": {
        "id": "7b1376ea",
        "outputId": "288ad4b2-738f-497a-c52d-fc276a2cbf22"
      },
      "outputs": [
        {
          "data": {
            "text/plain": [
              "array([1, 2, 3, 4, 5])"
            ]
          },
          "execution_count": 10,
          "metadata": {},
          "output_type": "execute_result"
        }
      ],
      "source": [
        "b"
      ]
    },
    {
      "cell_type": "markdown",
      "id": "41b94a3f",
      "metadata": {
        "id": "41b94a3f"
      },
      "source": [
        "** Type of \"b\" is a n dimensional array. Here, \"b\" is 1D array. **"
      ]
    },
    {
      "cell_type": "code",
      "execution_count": null,
      "id": "af3c65fb",
      "metadata": {
        "id": "af3c65fb",
        "outputId": "95ab8bd2-aa24-48a3-96df-8eb397cf4d09"
      },
      "outputs": [
        {
          "data": {
            "text/plain": [
              "numpy.ndarray"
            ]
          },
          "execution_count": 11,
          "metadata": {},
          "output_type": "execute_result"
        }
      ],
      "source": [
        "type(b)"
      ]
    },
    {
      "cell_type": "markdown",
      "id": "47f3db69",
      "metadata": {
        "id": "47f3db69"
      },
      "source": [
        "** As we can see \"a\" is a normal python list. **"
      ]
    },
    {
      "cell_type": "code",
      "execution_count": null,
      "id": "e19f2a3d",
      "metadata": {
        "id": "e19f2a3d",
        "outputId": "1c7b5c8b-1b9a-4ab5-c695-e5acfded4180"
      },
      "outputs": [
        {
          "data": {
            "text/plain": [
              "list"
            ]
          },
          "execution_count": 12,
          "metadata": {},
          "output_type": "execute_result"
        }
      ],
      "source": [
        "type(a)"
      ]
    },
    {
      "cell_type": "markdown",
      "id": "a8119254",
      "metadata": {
        "id": "a8119254"
      },
      "source": [
        "### <mark>Numpy arrays support element wise operations</mark>"
      ]
    },
    {
      "cell_type": "code",
      "execution_count": null,
      "id": "250d1473",
      "metadata": {
        "id": "250d1473",
        "outputId": "6c8bb8f8-9682-4f08-c6e1-1f3f1c71cd49"
      },
      "outputs": [
        {
          "data": {
            "text/plain": [
              "array([1, 2, 3, 4, 5])"
            ]
          },
          "execution_count": 13,
          "metadata": {},
          "output_type": "execute_result"
        }
      ],
      "source": [
        "b"
      ]
    },
    {
      "cell_type": "markdown",
      "id": "f6a094b9",
      "metadata": {
        "id": "f6a094b9"
      },
      "source": [
        "** This operation of element wise operation wont work with python lists. **"
      ]
    },
    {
      "cell_type": "code",
      "execution_count": null,
      "id": "1d64782d",
      "metadata": {
        "id": "1d64782d",
        "outputId": "ccc057f7-3fed-4313-ffbb-5ad3c638e8c9"
      },
      "outputs": [
        {
          "ename": "TypeError",
          "evalue": "unsupported operand type(s) for ** or pow(): 'list' and 'int'",
          "output_type": "error",
          "traceback": [
            "\u001b[1;31m---------------------------------------------------------------------------\u001b[0m",
            "\u001b[1;31mTypeError\u001b[0m                                 Traceback (most recent call last)",
            "Cell \u001b[1;32mIn[14], line 1\u001b[0m\n\u001b[1;32m----> 1\u001b[0m a \u001b[38;5;241m*\u001b[39m\u001b[38;5;241m*\u001b[39m \u001b[38;5;241m2\u001b[39m\n",
            "\u001b[1;31mTypeError\u001b[0m: unsupported operand type(s) for ** or pow(): 'list' and 'int'"
          ]
        }
      ],
      "source": [
        "a ** 2"
      ]
    },
    {
      "cell_type": "markdown",
      "id": "4892707b",
      "metadata": {
        "id": "4892707b"
      },
      "source": [
        "** Same operation of squares of elements but using numpy. **"
      ]
    },
    {
      "cell_type": "code",
      "execution_count": null,
      "id": "fd7384cc",
      "metadata": {
        "id": "fd7384cc",
        "outputId": "26c4dbb6-a625-430e-a77a-0457a50cff45"
      },
      "outputs": [
        {
          "data": {
            "text/plain": [
              "array([ 1,  4,  9, 16, 25])"
            ]
          },
          "execution_count": 15,
          "metadata": {},
          "output_type": "execute_result"
        }
      ],
      "source": [
        "b ** 2"
      ]
    },
    {
      "cell_type": "markdown",
      "id": "08cf6e26",
      "metadata": {
        "id": "08cf6e26"
      },
      "source": [
        "### <mark>New function to check execution time of a particular operation</mark>"
      ]
    },
    {
      "cell_type": "markdown",
      "id": "a6dc972b",
      "metadata": {
        "id": "a6dc972b"
      },
      "source": [
        "** We are checking through this function, how much computation time it takes in case of a python list. **"
      ]
    },
    {
      "cell_type": "code",
      "execution_count": null,
      "id": "cf50b25a",
      "metadata": {
        "id": "cf50b25a",
        "outputId": "ee4eb67a-5794-4b86-f812-96639b0958d6"
      },
      "outputs": [
        {
          "name": "stdout",
          "output_type": "stream",
          "text": [
            "811 ns ± 40.5 ns per loop (mean ± std. dev. of 7 runs, 1,000,000 loops each)\n"
          ]
        }
      ],
      "source": [
        "%timeit [i ** 2 for i in a]"
      ]
    },
    {
      "cell_type": "markdown",
      "id": "db7c85d3",
      "metadata": {
        "id": "db7c85d3"
      },
      "source": [
        "** Python list's processing times in case of cubes, are in micro seconds. **"
      ]
    },
    {
      "cell_type": "code",
      "execution_count": null,
      "id": "ed33e046",
      "metadata": {
        "id": "ed33e046",
        "outputId": "1931921e-fd37-4bd2-afca-fedcc7cd4b7b"
      },
      "outputs": [
        {
          "name": "stdout",
          "output_type": "stream",
          "text": [
            "17.9 ms ± 715 µs per loop (mean ± std. dev. of 7 runs, 10 loops each)\n"
          ]
        }
      ],
      "source": [
        "%timeit [i ** 3 for i in range(100000)]"
      ]
    },
    {
      "cell_type": "code",
      "execution_count": null,
      "id": "7f6f6236",
      "metadata": {
        "id": "7f6f6236"
      },
      "outputs": [],
      "source": [
        "l = np.array(range(100000))"
      ]
    },
    {
      "cell_type": "markdown",
      "id": "13397711",
      "metadata": {
        "id": "13397711"
      },
      "source": [
        "** We are checking through this function, how much computation time it takes in case of a numpy array called l. **"
      ]
    },
    {
      "cell_type": "markdown",
      "id": "29320969",
      "metadata": {
        "id": "29320969"
      },
      "source": [
        "**Hence proved that <mark>numpy arrays are 1000 times faster than python lists</mark> because when we compare numpy array's processing times in case of cubes, they are in micro seconds whereas python list's processing times are in milliseconds.**"
      ]
    },
    {
      "cell_type": "code",
      "execution_count": null,
      "id": "f6dcbaa9",
      "metadata": {
        "id": "f6dcbaa9",
        "outputId": "60c5f93a-68cc-43bd-e465-205de2768d82"
      },
      "outputs": [
        {
          "name": "stdout",
          "output_type": "stream",
          "text": [
            "304 µs ± 5.25 µs per loop (mean ± std. dev. of 7 runs, 1,000 loops each)\n"
          ]
        }
      ],
      "source": [
        "%timeit l ** 3"
      ]
    },
    {
      "cell_type": "markdown",
      "id": "ea38f37e",
      "metadata": {
        "id": "ea38f37e"
      },
      "source": [
        "### <mark>Why is numpy so fast?</mark>\n",
        "\n",
        "Numpy is often significantly faster than pure python when it comes to numerical and scientific computing tasks. This is because numpy is designed for efficient array operations and mathematical computations, and it's implemented in low-level languages like C, which can perform operations much faster than python, which is an interpreted, high-level language.\n",
        "\n",
        "- **Homogeneous datatype-** Homogeneity allows NumPy to use contiguous blocks of memory and perform operations more efficiently.\n",
        "- **Parallelism-** Numpy divides tasks in parallel processes, meaning numpy can take advantage of multi-core processors and parallelism, which speeds up computations for large datasets.\n",
        "- **Optimized C Code-** Numpy functions are directly implemented in C. Many of the core functions in NumPy are implemented in C, which is a low-level language that can execute code much faster than Python. This means that many NumPy operations are faster than their equivalent pure Python implementations.\n",
        "- **Vectorization-** Numpy supports vectorized operations, which means it can operate on entire arrays without the need for explicit Python loops. This allows for highly optimized, low-level operations on data, leading to improved performance."
      ]
    },
    {
      "cell_type": "code",
      "execution_count": null,
      "id": "83a3c204",
      "metadata": {
        "id": "83a3c204"
      },
      "outputs": [],
      "source": [
        "a = np.array(range(10000))"
      ]
    },
    {
      "cell_type": "markdown",
      "id": "f4a8b862",
      "metadata": {
        "id": "f4a8b862"
      },
      "source": [
        "**The <mark>.ndim attribute</mark> in NumPy is used to determine the number of dimensions or axes in a NumPy array. It stands for \"number of dimensions.\" This attribute is particularly useful when you want to understand the dimensionality of an array, which is crucial for many operations and manipulations.**\n",
        "\n",
        "The .ndim attribute provides a simple and convenient way to check the dimensionality of an array, which is useful when you want to ensure that you are working with data of the correct shape or when you need to perform operations specific to the number of dimensions in your array."
      ]
    },
    {
      "cell_type": "code",
      "execution_count": null,
      "id": "ceef55cb",
      "metadata": {
        "id": "ceef55cb",
        "outputId": "bb855c02-2b26-4321-ac00-6f4972ff1aff"
      },
      "outputs": [
        {
          "data": {
            "text/plain": [
              "1"
            ]
          },
          "execution_count": 21,
          "metadata": {},
          "output_type": "execute_result"
        }
      ],
      "source": [
        "a.ndim"
      ]
    },
    {
      "cell_type": "markdown",
      "id": "d726c849",
      "metadata": {
        "id": "d726c849"
      },
      "source": [
        "**The <mark>.shape attribute</mark> in NumPy is not actually a method; it's an attribute of a NumPy array. It provides information about the dimensions of the array. Specifically, it returns a tuple that represents the size of each dimension in the array.**\n",
        "\n",
        "For a 1-dimensional array, the shape attribute will be a tuple with a single element indicating the number of elements along that dimension. For multi-dimensional arrays, the shape attribute will be a tuple with multiple elements, each element corresponding to the size of a particular dimension."
      ]
    },
    {
      "cell_type": "code",
      "execution_count": null,
      "id": "0f4e5d3d",
      "metadata": {
        "id": "0f4e5d3d",
        "outputId": "4fd04f7b-a340-4a6d-8798-9ed1f68eb240"
      },
      "outputs": [
        {
          "data": {
            "text/plain": [
              "(10000,)"
            ]
          },
          "execution_count": 22,
          "metadata": {},
          "output_type": "execute_result"
        }
      ],
      "source": [
        "a.shape"
      ]
    },
    {
      "cell_type": "markdown",
      "id": "bbf8b815",
      "metadata": {
        "id": "bbf8b815"
      },
      "source": [
        "**Lets create a 2D numpy array b using array() method introduced in the beginning.**"
      ]
    },
    {
      "cell_type": "code",
      "execution_count": null,
      "id": "9520596d",
      "metadata": {
        "id": "9520596d"
      },
      "outputs": [],
      "source": [
        "b = np.array([[1,2,3],[4,5,6],[7,8,9],[10,11,12]])"
      ]
    },
    {
      "cell_type": "code",
      "execution_count": null,
      "id": "3e06f43c",
      "metadata": {
        "id": "3e06f43c",
        "outputId": "ea621aea-8eb4-4562-e190-242b9c0e0896"
      },
      "outputs": [
        {
          "name": "stdout",
          "output_type": "stream",
          "text": [
            "[[ 1  2  3]\n",
            " [ 4  5  6]\n",
            " [ 7  8  9]\n",
            " [10 11 12]]\n"
          ]
        }
      ],
      "source": [
        "print(b)"
      ]
    },
    {
      "cell_type": "code",
      "execution_count": null,
      "id": "25dad31c",
      "metadata": {
        "id": "25dad31c",
        "outputId": "5a5f4e83-f02b-4584-9a9c-e4df1d435586"
      },
      "outputs": [
        {
          "data": {
            "text/plain": [
              "2"
            ]
          },
          "execution_count": 25,
          "metadata": {},
          "output_type": "execute_result"
        }
      ],
      "source": [
        "b.ndim"
      ]
    },
    {
      "cell_type": "code",
      "execution_count": null,
      "id": "c4e38305",
      "metadata": {
        "id": "c4e38305",
        "outputId": "a575bd08-fd33-4741-9745-269c6acf3ebd"
      },
      "outputs": [
        {
          "data": {
            "text/plain": [
              "(4, 3)"
            ]
          },
          "execution_count": 26,
          "metadata": {},
          "output_type": "execute_result"
        }
      ],
      "source": [
        "b.shape"
      ]
    },
    {
      "cell_type": "markdown",
      "id": "456a8d96",
      "metadata": {
        "id": "456a8d96"
      },
      "source": [
        "** Lets create a 1D numpy array a. **"
      ]
    },
    {
      "cell_type": "code",
      "execution_count": null,
      "id": "09bc22b3",
      "metadata": {
        "id": "09bc22b3"
      },
      "outputs": [],
      "source": [
        "a = np.array([1,2,3,4,5,6,7,8])"
      ]
    },
    {
      "cell_type": "code",
      "execution_count": null,
      "id": "ad02cd9a",
      "metadata": {
        "id": "ad02cd9a",
        "outputId": "74e598a3-3888-40e7-989e-ceb74a7fb167"
      },
      "outputs": [
        {
          "data": {
            "text/plain": [
              "1"
            ]
          },
          "execution_count": 28,
          "metadata": {},
          "output_type": "execute_result"
        }
      ],
      "source": [
        "a.ndim"
      ]
    },
    {
      "cell_type": "code",
      "execution_count": null,
      "id": "594aaaec",
      "metadata": {
        "id": "594aaaec",
        "outputId": "071c92fd-e3f9-469c-b991-c29d59a9c8ed"
      },
      "outputs": [
        {
          "data": {
            "text/plain": [
              "(8,)"
            ]
          },
          "execution_count": 29,
          "metadata": {},
          "output_type": "execute_result"
        }
      ],
      "source": [
        "a.shape"
      ]
    },
    {
      "cell_type": "markdown",
      "id": "26b21b6c",
      "metadata": {
        "id": "26b21b6c"
      },
      "source": [
        "** Visualization of 3D array is in the notes. Refer that. In fact refer notes always. **"
      ]
    },
    {
      "cell_type": "markdown",
      "id": "16a84281",
      "metadata": {
        "id": "16a84281"
      },
      "source": [
        "We have already learnt about range() method in python.\n",
        "\n",
        "**A similar method also exists in numpy called <mark>arange()</mark>, by which we can create a 1D array or a sequence of elements in numpy.**\n",
        "\n",
        "Range in python generates a sequence, we can have a start point, end point and a step size; Similarly arange() can also have starting point, end point and step size. Starting point is included, ending point isnt included just like range().\n",
        "\n",
        "There is one very important thing about this, that its spelled as arange() with a single \"r\" not double \"rr\".\n",
        "Many people make this mistake, so be careful.\n",
        "\n",
        "**<mark>np.arange() and np.array(range())</mark> are two ways to create 1D Numpy arrays with regularly spaced values, but they differ in terms of usage and flexibility.**\n",
        "\n",
        "* **np.arange()**: np.arange() is a function provided by numpy to create a 1D array of evenly spaced values within a specified range. We specify the start, stop, and step size as arguments. For example: np.arange(start, stop, step). It returns an array with values from start to (but not including) stop, incrementing by step.\n",
        "\n",
        "* **np.array(range())**: In this approach, we first create a python range object using the built-in range() method and then convert it to a numpy array using np.array(). We typically specify the start, stop, and step size using range() and then convert it into an array.\n",
        "\n",
        "**In practice, np.arange() is more convenient and commonly used because it directly generates a numpy array with the specified values, whereas np.array(range()) involves an extra step of creating a python range object and then converting it into a numpy array. However, both methods ultimately achieve the same result in terms of creating 1D arrays with evenly spaced values.**"
      ]
    },
    {
      "cell_type": "markdown",
      "id": "cae085eb",
      "metadata": {
        "id": "cae085eb"
      },
      "source": [
        "** Format of \"arange()\" is - np.arange(start, end, step_size) **\n",
        "\n",
        "** It works exactly like range(), default step size is 1 same as range(), ending value isnt included just like range(). **\n",
        "\n",
        "** Lets create a 1D numpy array a1. **"
      ]
    },
    {
      "cell_type": "code",
      "execution_count": null,
      "id": "00283601",
      "metadata": {
        "id": "00283601"
      },
      "outputs": [],
      "source": [
        "a1 = np.arange(1, 5)"
      ]
    },
    {
      "cell_type": "code",
      "execution_count": null,
      "id": "aa2d4c7f",
      "metadata": {
        "id": "aa2d4c7f",
        "outputId": "83c60f7e-30f5-4cc1-a4d5-264137f19f3f"
      },
      "outputs": [
        {
          "data": {
            "text/plain": [
              "array([1, 2, 3, 4])"
            ]
          },
          "execution_count": 31,
          "metadata": {},
          "output_type": "execute_result"
        }
      ],
      "source": [
        "a1"
      ]
    },
    {
      "cell_type": "markdown",
      "id": "b7388d93",
      "metadata": {
        "id": "b7388d93"
      },
      "source": [
        "** Different step size. **"
      ]
    },
    {
      "cell_type": "code",
      "execution_count": null,
      "id": "cc1f1099",
      "metadata": {
        "id": "cc1f1099"
      },
      "outputs": [],
      "source": [
        "a2 = np.arange(1, 5, 2)"
      ]
    },
    {
      "cell_type": "markdown",
      "id": "53c654dd",
      "metadata": {
        "id": "53c654dd"
      },
      "source": [
        "** Note that ending element i.e \"5\" isnt included. **"
      ]
    },
    {
      "cell_type": "code",
      "execution_count": null,
      "id": "3f55a5c8",
      "metadata": {
        "id": "3f55a5c8",
        "outputId": "083bc8b4-8d34-41c8-c08e-f1b6608b2b4a"
      },
      "outputs": [
        {
          "data": {
            "text/plain": [
              "array([1, 3])"
            ]
          },
          "execution_count": 33,
          "metadata": {},
          "output_type": "execute_result"
        }
      ],
      "source": [
        "a2"
      ]
    },
    {
      "cell_type": "markdown",
      "id": "7da3654a",
      "metadata": {
        "id": "7da3654a"
      },
      "source": [
        "One added functionality we get in \"arange()\" but will not work in case of lists or python range() function is that it can also work with <mark>floating point step sizes or jump values.</mark>\n",
        "\n",
        "This is one added advantage that we get on top of python range() function."
      ]
    },
    {
      "cell_type": "code",
      "execution_count": null,
      "id": "e368094e",
      "metadata": {
        "id": "e368094e"
      },
      "outputs": [],
      "source": [
        "a3 = np.arange(1, 5, 0.5)"
      ]
    },
    {
      "cell_type": "markdown",
      "id": "3008f37c",
      "metadata": {
        "id": "3008f37c"
      },
      "source": [
        "Here, step size or jump is of \"0.5\".\n",
        "\n",
        "One imp thing to note here is that since numpy arrays are homogenous, it cant have int and float together, so in final result array <mark>all integers got automatically converted to floating point values to maintain homogeneity.</mark>"
      ]
    },
    {
      "cell_type": "code",
      "execution_count": null,
      "id": "fd3c22f3",
      "metadata": {
        "id": "fd3c22f3",
        "outputId": "b55d682b-76f8-4564-dd4d-41f9a656db6e"
      },
      "outputs": [
        {
          "data": {
            "text/plain": [
              "array([1. , 1.5, 2. , 2.5, 3. , 3.5, 4. , 4.5])"
            ]
          },
          "execution_count": 35,
          "metadata": {},
          "output_type": "execute_result"
        }
      ],
      "source": [
        "a3"
      ]
    },
    {
      "cell_type": "markdown",
      "id": "c83a4ae7",
      "metadata": {
        "id": "c83a4ae7"
      },
      "source": [
        "### <mark>Indexing-</mark>\n",
        "\n",
        "**All sorts of indexing - positive, negetive works on numpy arrays, we can fetch first element like this-**"
      ]
    },
    {
      "cell_type": "code",
      "execution_count": null,
      "id": "eb8de100",
      "metadata": {
        "id": "eb8de100",
        "outputId": "3a9a5c72-d75c-48c8-f227-de63ac7d874d"
      },
      "outputs": [
        {
          "data": {
            "text/plain": [
              "1.0"
            ]
          },
          "execution_count": 36,
          "metadata": {},
          "output_type": "execute_result"
        }
      ],
      "source": [
        "a3[0]"
      ]
    },
    {
      "cell_type": "markdown",
      "id": "806295a2",
      "metadata": {
        "id": "806295a2"
      },
      "source": [
        "** Last element can be fetched like this- **"
      ]
    },
    {
      "cell_type": "code",
      "execution_count": null,
      "id": "0ff00742",
      "metadata": {
        "id": "0ff00742",
        "outputId": "d4d92e9f-5a16-4604-82b2-e4b4c9e1ffcb"
      },
      "outputs": [
        {
          "data": {
            "text/plain": [
              "4.5"
            ]
          },
          "execution_count": 37,
          "metadata": {},
          "output_type": "execute_result"
        }
      ],
      "source": [
        "a3[-1]"
      ]
    },
    {
      "cell_type": "markdown",
      "id": "387300d9",
      "metadata": {
        "id": "387300d9"
      },
      "source": [
        "### <mark>Slicing-</mark>\n",
        "\n",
        "**Slicing also works similarly in numpy.**"
      ]
    },
    {
      "cell_type": "code",
      "execution_count": null,
      "id": "3846fad8",
      "metadata": {
        "id": "3846fad8",
        "outputId": "2975e7be-9112-4cef-d69f-99248442aebb"
      },
      "outputs": [
        {
          "data": {
            "text/plain": [
              "array([2. , 2.5, 3. ])"
            ]
          },
          "execution_count": 39,
          "metadata": {},
          "output_type": "execute_result"
        }
      ],
      "source": [
        "a3[2:5]"
      ]
    },
    {
      "cell_type": "markdown",
      "id": "b816c9a6",
      "metadata": {
        "id": "b816c9a6"
      },
      "source": [
        "Like we saw, all the integer values got converted automatically to floating point values in order for it to maintain homogeneity; so if we have a list of int and float, numpy will automatically convert them all into floating\n",
        "point values, like in this example below:"
      ]
    },
    {
      "cell_type": "code",
      "execution_count": null,
      "id": "24afbdd0",
      "metadata": {
        "id": "24afbdd0"
      },
      "outputs": [],
      "source": [
        "a = [1, 2, 3, 4, 5.6]"
      ]
    },
    {
      "cell_type": "code",
      "execution_count": null,
      "id": "5533af46",
      "metadata": {
        "id": "5533af46"
      },
      "outputs": [],
      "source": [
        "a = np.array(a)"
      ]
    },
    {
      "cell_type": "code",
      "execution_count": null,
      "id": "8da2408a",
      "metadata": {
        "id": "8da2408a",
        "outputId": "d1e5834f-d6ad-4630-918f-7cba13afc1e2"
      },
      "outputs": [
        {
          "data": {
            "text/plain": [
              "array([1. , 2. , 3. , 4. , 5.6])"
            ]
          },
          "execution_count": 42,
          "metadata": {},
          "output_type": "execute_result"
        }
      ],
      "source": [
        "a"
      ]
    },
    {
      "cell_type": "markdown",
      "id": "7358f775",
      "metadata": {
        "id": "7358f775"
      },
      "source": [
        "But what if, we have something like this in the example below.\n",
        "\n",
        "We have a string and integers, what will numpy do now? -- <mark>It converts them all to strings.</mark> Everything is convertible to strings. Even numbers can be strings. Homogeneity is still maintained. And it also tells us the datatype in the rightmost area of the output.\n",
        "\n",
        "U21 is basically a unicode representation, its a mapping similar to ASCII. It basically tells you that these are strings."
      ]
    },
    {
      "cell_type": "code",
      "execution_count": null,
      "id": "65c625d9",
      "metadata": {
        "id": "65c625d9"
      },
      "outputs": [],
      "source": [
        "b = np.array([\"bipin kalra\", 1, 2, 3, 4, 5])"
      ]
    },
    {
      "cell_type": "code",
      "execution_count": null,
      "id": "339f5210",
      "metadata": {
        "id": "339f5210",
        "outputId": "c6a855ae-eee7-4f9d-d056-9af9e7cfe01f"
      },
      "outputs": [
        {
          "data": {
            "text/plain": [
              "array(['bipin kalra', '1', '2', '3', '4', '5'], dtype='<U11')"
            ]
          },
          "execution_count": 44,
          "metadata": {},
          "output_type": "execute_result"
        }
      ],
      "source": [
        "b"
      ]
    },
    {
      "cell_type": "markdown",
      "id": "f984a09c",
      "metadata": {
        "id": "f984a09c"
      },
      "source": [
        "Like we saw, all the integer values got converted automatically to floating point values in order for it to maintain homogeneity; so if we have a list of int and float, numpy will automatically convert them all into floating\n",
        "point values.\n",
        "\n",
        "But what if we dont want it to do automatically, that is, we dont want numpy to convert ints to floats forcibly, automatically.\n",
        "For eg, if we provide an array like this in example - c = np.array([1,2,3,4.5]), we dont want the default output - array([1. , 2. , 3. , 4.5]).\n",
        "\n",
        "**When typecasting happens automaticaly, we call this <mark>INTRINSIC TYPECASTING,</mark> but when typecasting happens manually based on user preference, we call this <mark>EXTRINSIC TYPECASTING.</mark>**\n",
        "\n",
        "Lets see this example below of extrinsic typecasting- here we are specifying, in the rightmost area the datatype of float."
      ]
    },
    {
      "cell_type": "code",
      "execution_count": null,
      "id": "aad71898",
      "metadata": {
        "id": "aad71898"
      },
      "outputs": [],
      "source": [
        "d = np.array([1,2,3,4], dtype = \"float\")"
      ]
    },
    {
      "cell_type": "code",
      "execution_count": null,
      "id": "459e379d",
      "metadata": {
        "id": "459e379d",
        "outputId": "f789b2cf-a852-4f4d-a83d-2b88e8af333f"
      },
      "outputs": [
        {
          "data": {
            "text/plain": [
              "array([1., 2., 3., 4.])"
            ]
          },
          "execution_count": 46,
          "metadata": {},
          "output_type": "execute_result"
        }
      ],
      "source": [
        "d"
      ]
    },
    {
      "cell_type": "markdown",
      "id": "781cb4c6",
      "metadata": {
        "id": "781cb4c6"
      },
      "source": [
        "If we provide a heterogenous list to a numpy array, all the different datatypes can be converted to one common consistent datatype, and numpy will do that. It will automatically do that type conversion.\n",
        "\n",
        "But if we want to do it ourself, lets suppose we are providing a bunch of ints and we want to convert them to floats manually,\n",
        "we can also specify the datatype that this numpy array is going to have at the time of creation of that array,\n",
        "by specifying dtype = \"float\" or for string dtype = \"U21\".\n",
        "\n",
        "**A problem or shortcoming of this, that when we provide the user the capability to change, user can do something like this\n",
        "in the example below. Floats can be converted to strings. <mark>CAN STRINGS BE CONVERTED TO FLOATS? NO THATS NO POSSIBLE. THATS WHERE ERROR OCCURS.</mark> Its nonsensical to a certain degree. And thats why numpy does not allow that.**\n",
        "\n",
        "While you have a lot of manual conversion capability avaliable, some of it cant be used."
      ]
    },
    {
      "cell_type": "code",
      "execution_count": null,
      "id": "fee79081",
      "metadata": {
        "id": "fee79081",
        "outputId": "770bdadb-fafe-48b6-e599-be29f5acf3ef"
      },
      "outputs": [
        {
          "ename": "ValueError",
          "evalue": "could not convert string to float: 'This'",
          "output_type": "error",
          "traceback": [
            "\u001b[1;31m---------------------------------------------------------------------------\u001b[0m",
            "\u001b[1;31mValueError\u001b[0m                                Traceback (most recent call last)",
            "Cell \u001b[1;32mIn[47], line 1\u001b[0m\n\u001b[1;32m----> 1\u001b[0m e \u001b[38;5;241m=\u001b[39m np\u001b[38;5;241m.\u001b[39marray([\u001b[38;5;124m\"\u001b[39m\u001b[38;5;124mThis\u001b[39m\u001b[38;5;124m\"\u001b[39m, \u001b[38;5;124m\"\u001b[39m\u001b[38;5;124mis\u001b[39m\u001b[38;5;124m\"\u001b[39m, \u001b[38;5;124m\"\u001b[39m\u001b[38;5;124mabsurd!\u001b[39m\u001b[38;5;124m\"\u001b[39m], dtype \u001b[38;5;241m=\u001b[39m \u001b[38;5;124m\"\u001b[39m\u001b[38;5;124mfloat\u001b[39m\u001b[38;5;124m\"\u001b[39m)\n",
            "\u001b[1;31mValueError\u001b[0m: could not convert string to float: 'This'"
          ]
        }
      ],
      "source": [
        "e = np.array([\"This\", \"is\", \"absurd!\"], dtype = \"float\")"
      ]
    },
    {
      "cell_type": "markdown",
      "id": "3bbd05e2",
      "metadata": {
        "id": "3bbd05e2"
      },
      "source": [
        "### <mark>FANCY INDEXING- indexing that is unique to numpy- also called MASKING</mark>"
      ]
    },
    {
      "cell_type": "markdown",
      "id": "86dd4e38",
      "metadata": {
        "id": "86dd4e38"
      },
      "source": [
        "Fancy indexing, often referred to as \"masking\" in NumPy, is a technique that involves selecting elements from an array based on a set of Boolean conditions (masks) or a list of indices. It allows you to create new arrays or extract specific elements from an existing array by applying conditions or specifying positions. Fancy indexing is a powerful feature in NumPy that provides flexibility in data selection and manipulation."
      ]
    },
    {
      "cell_type": "code",
      "execution_count": null,
      "id": "e62e5536",
      "metadata": {
        "id": "e62e5536"
      },
      "outputs": [],
      "source": [
        "m1 = np.array(range(1,11))"
      ]
    },
    {
      "cell_type": "code",
      "execution_count": null,
      "id": "0b7c9d03",
      "metadata": {
        "id": "0b7c9d03",
        "outputId": "738751a9-940d-4d9d-d405-015dac8b4a47"
      },
      "outputs": [
        {
          "data": {
            "text/plain": [
              "array([ 1,  2,  3,  4,  5,  6,  7,  8,  9, 10])"
            ]
          },
          "execution_count": 51,
          "metadata": {},
          "output_type": "execute_result"
        }
      ],
      "source": [
        "m1"
      ]
    },
    {
      "cell_type": "markdown",
      "id": "1a7a64eb",
      "metadata": {
        "id": "1a7a64eb"
      },
      "source": [
        "What is the output of this code below? It will return another numpy array which will contain element wise responses. Basically it returns element wise result as a numpy array. Numpy supports element wise operation we know that."
      ]
    },
    {
      "cell_type": "code",
      "execution_count": null,
      "id": "7a35bb32",
      "metadata": {
        "id": "7a35bb32",
        "outputId": "5705891a-cd9b-4abc-9068-52d033e3aea9"
      },
      "outputs": [
        {
          "data": {
            "text/plain": [
              "array([ True,  True,  True,  True,  True, False, False, False, False,\n",
              "       False])"
            ]
          },
          "execution_count": 49,
          "metadata": {},
          "output_type": "execute_result"
        }
      ],
      "source": [
        "m1 < 6"
      ]
    },
    {
      "cell_type": "markdown",
      "id": "203ab5ff",
      "metadata": {
        "id": "203ab5ff"
      },
      "source": [
        "We will learn three different concepts, and we will combine all to create something very powerful.\n",
        "\n",
        "1. **<u>First concept</u> is that element wise operations are possible, as shown above.**\n",
        "\n",
        "2. **<u>Second concept</u>- Usually in python, when we have a list like this - a = [1,2,3,4,5] , we cant get different indexes's elements like this - a[1,2,4]. It will throw an error, its not possible in python; selective picking of indexes at the same time. But <u>selective indexing</u> is possible in numpy arrays, as shown below.**\n",
        "\n",
        "3. **<u>Third concept</u>- Combine the above two types and make a special type of indexing called fancy indexing. Such as - m1[m1 % 2 == 0] -> output -> This will give all the even elements - array([ 2,  4,  6,  8, 10]). WHat happens in details working is explained below.**"
      ]
    },
    {
      "cell_type": "code",
      "execution_count": null,
      "id": "270c0627",
      "metadata": {
        "id": "270c0627"
      },
      "outputs": [],
      "source": [
        "a = [1,2,3,4,5]"
      ]
    },
    {
      "cell_type": "markdown",
      "id": "0466529e",
      "metadata": {
        "id": "0466529e"
      },
      "source": [
        "** Fetching elements at multiple indexes at the same time is not possible in lists. **"
      ]
    },
    {
      "cell_type": "code",
      "execution_count": null,
      "id": "b65efa87",
      "metadata": {
        "id": "b65efa87",
        "outputId": "0c21b128-98b8-428e-a282-cf29a7e46535"
      },
      "outputs": [
        {
          "ename": "IndexError",
          "evalue": "too many indices for array: array is 1-dimensional, but 3 were indexed",
          "output_type": "error",
          "traceback": [
            "\u001b[1;31m---------------------------------------------------------------------------\u001b[0m",
            "\u001b[1;31mIndexError\u001b[0m                                Traceback (most recent call last)",
            "Cell \u001b[1;32mIn[53], line 1\u001b[0m\n\u001b[1;32m----> 1\u001b[0m a[\u001b[38;5;241m1\u001b[39m,\u001b[38;5;241m2\u001b[39m,\u001b[38;5;241m4\u001b[39m]\n",
            "\u001b[1;31mIndexError\u001b[0m: too many indices for array: array is 1-dimensional, but 3 were indexed"
          ]
        }
      ],
      "source": [
        "a[1,2,4]"
      ]
    },
    {
      "cell_type": "markdown",
      "id": "e45d389f",
      "metadata": {
        "id": "e45d389f"
      },
      "source": [
        "**Fetching elements at multiple indexes at the same time is possible in numpy.**"
      ]
    },
    {
      "cell_type": "code",
      "execution_count": null,
      "id": "50a89ff4",
      "metadata": {
        "id": "50a89ff4",
        "outputId": "36ebcb30-cf0f-468f-b39f-42d18d48ac03"
      },
      "outputs": [
        {
          "data": {
            "text/plain": [
              "array([ 1,  2,  3,  4,  5,  6,  7,  8,  9, 10])"
            ]
          },
          "execution_count": 54,
          "metadata": {},
          "output_type": "execute_result"
        }
      ],
      "source": [
        "m1"
      ]
    },
    {
      "cell_type": "markdown",
      "id": "976f07ad",
      "metadata": {
        "id": "976f07ad"
      },
      "source": [
        "** You have to provide two sets of square brackets; random order of indexes works too. **"
      ]
    },
    {
      "cell_type": "code",
      "execution_count": null,
      "id": "a0b789a9",
      "metadata": {
        "id": "a0b789a9",
        "outputId": "103452b5-5f3b-47b4-fa6b-db320310f8c5"
      },
      "outputs": [
        {
          "data": {
            "text/plain": [
              "array([2, 6, 4, 5])"
            ]
          },
          "execution_count": 53,
          "metadata": {},
          "output_type": "execute_result"
        }
      ],
      "source": [
        "m1[[1,5,3,4]]"
      ]
    },
    {
      "cell_type": "code",
      "execution_count": null,
      "id": "6e3ad3a3",
      "metadata": {
        "id": "6e3ad3a3",
        "outputId": "fa733110-086a-4d1a-e93e-bd4f127cfc13"
      },
      "outputs": [
        {
          "data": {
            "text/plain": [
              "array([ 1,  2,  3,  4,  5,  6,  7,  8,  9, 10])"
            ]
          },
          "execution_count": 54,
          "metadata": {},
          "output_type": "execute_result"
        }
      ],
      "source": [
        "m1"
      ]
    },
    {
      "cell_type": "code",
      "execution_count": null,
      "id": "d852d795",
      "metadata": {
        "id": "d852d795",
        "outputId": "baef7c14-7c2e-4628-f4bc-03744a4bf97b"
      },
      "outputs": [
        {
          "data": {
            "text/plain": [
              "array([ 2,  4,  6,  8, 10])"
            ]
          },
          "execution_count": 55,
          "metadata": {},
          "output_type": "execute_result"
        }
      ],
      "source": [
        "m1[m1 % 2 == 0]"
      ]
    },
    {
      "cell_type": "code",
      "execution_count": null,
      "id": "0ca47c95",
      "metadata": {
        "id": "0ca47c95",
        "outputId": "b18d3d17-9c36-4492-963d-ac551ce7db74"
      },
      "outputs": [
        {
          "data": {
            "text/plain": [
              "array([False,  True, False,  True, False,  True, False,  True, False,\n",
              "        True])"
            ]
          },
          "execution_count": 56,
          "metadata": {},
          "output_type": "execute_result"
        }
      ],
      "source": [
        "m1 % 2 == 0"
      ]
    },
    {
      "cell_type": "markdown",
      "id": "ee9b938e",
      "metadata": {
        "id": "ee9b938e"
      },
      "source": [
        "### BREAKDOWN\n",
        "\n",
        "- First it will generate result of this - m1 % 2 == 0 -> output of which is an array --> [False, True, False, True, False, True, False, True, False, True]\n",
        "\n",
        "- And then it will superimpose this on top of this array - [ 1,  2,  3,  4,  5,  6,  7,  8,  9, 10]. And basically, put them together.\n",
        "\n",
        "- It will work like this - If the corresponding value to \"1\" is \"false\", then it will not keep it and vice versa. And hence we get the final result.\n",
        "\n",
        "So, this is sort of indexing by using filters or its like a filtering of data because we are filtering data on the basis\n",
        "of a condition. Only values that correspond to \"true\" are filtered."
      ]
    },
    {
      "cell_type": "markdown",
      "id": "c09ac139",
      "metadata": {
        "id": "c09ac139"
      },
      "source": [
        "<mark>**Everything in python is an object.**</mark>\n",
        "\n",
        "When you run the following code, error says it has an inhomogenous shape, which means that when you are working with numpy arrays, you only work with numpy matrices, and you dont work with a data which is not a matrix.\n",
        "\n",
        "<mark>NumPy arrays are designed to represent multi-dimensional arrays where each dimension (or axis) must have consistent lengths.</mark>\n",
        "\n",
        "**In terminology, 1D numpy array is called a VECTOR, 2D numpy array is called a MATRIX and 3D numpy array is called 3D numpy array and so on.**\n",
        "\n",
        "**So, we dont create a 2D numpy array, we create 2D numpy matrix.**"
      ]
    },
    {
      "cell_type": "code",
      "execution_count": null,
      "id": "f1a8f5d1",
      "metadata": {
        "id": "f1a8f5d1",
        "outputId": "6e08ffbd-4e1f-4752-8669-a0d57566a0b6"
      },
      "outputs": [
        {
          "ename": "ValueError",
          "evalue": "setting an array element with a sequence. The requested array has an inhomogeneous shape after 1 dimensions. The detected shape was (4,) + inhomogeneous part.",
          "output_type": "error",
          "traceback": [
            "\u001b[1;31m---------------------------------------------------------------------------\u001b[0m",
            "\u001b[1;31mValueError\u001b[0m                                Traceback (most recent call last)",
            "Cell \u001b[1;32mIn[57], line 8\u001b[0m\n\u001b[0;32m      1\u001b[0m \u001b[38;5;124;03m'''\u001b[39;00m\n\u001b[0;32m      2\u001b[0m \u001b[38;5;124;03mEverything in python is an object.\u001b[39;00m\n\u001b[0;32m      3\u001b[0m \u001b[38;5;124;03mWhen you run the following code, error says it has an inhomogenous shape, which means that when you are working \u001b[39;00m\n\u001b[0;32m      4\u001b[0m \u001b[38;5;124;03mwith numpy arrays, you only work with matrices, and you dont work with a data which is not a matrix.\u001b[39;00m\n\u001b[0;32m      5\u001b[0m \u001b[38;5;124;03mSo, we dont usually create 2D numpy array, we usually create 2D numpy matrices.\u001b[39;00m\n\u001b[0;32m      6\u001b[0m \u001b[38;5;124;03m'''\u001b[39;00m\n\u001b[1;32m----> 8\u001b[0m np\u001b[38;5;241m.\u001b[39marray([[\u001b[38;5;241m1\u001b[39m],[\u001b[38;5;241m2\u001b[39m,\u001b[38;5;241m3\u001b[39m],[\u001b[38;5;241m4\u001b[39m,\u001b[38;5;241m5\u001b[39m,\u001b[38;5;241m6\u001b[39m],[\u001b[38;5;241m7\u001b[39m,\u001b[38;5;241m8\u001b[39m,\u001b[38;5;241m9\u001b[39m,\u001b[38;5;241m10\u001b[39m]])\n",
            "\u001b[1;31mValueError\u001b[0m: setting an array element with a sequence. The requested array has an inhomogeneous shape after 1 dimensions. The detected shape was (4,) + inhomogeneous part."
          ]
        }
      ],
      "source": [
        "np.array([[1],[2,3],[4,5,6],[7,8,9,10]])"
      ]
    },
    {
      "cell_type": "markdown",
      "id": "44010879",
      "metadata": {
        "id": "44010879"
      },
      "source": [
        "<hr style=\"border:2px solid gray\">\n",
        "\n",
        "1. Wherever possible, in numpy lectures, we will discuss very very small case studies or discussions, where we will utilize\n",
        "whatever we have learnt in the current lecture. In some lectures, we will have it. So, today's case study is about NPS.\n",
        "\n",
        "2. <mark>**NPS is Net Promoter Score.</mark> Many companies are using NPS as a very important metric to understand how customers are perceiving our product, what is their experience with our product.**\n",
        "\n",
        "3. In NPS, what we usually get is a rating from 0 to 10. So how likely are you to recommend this product or company to your\n",
        "friends or colleagues. You are asked to rate on a basis of 0 to 10.\n",
        "\n",
        "4. Anybody in a range of 0 to 6 is called a **detractor**, that is, this is somebody who might not recommend our product to\n",
        "somebody else. Anybody in range of 7,8 is called **neutral**, that is, does not like does not hate it but may not recommend.\n",
        "Anybody in range of 9,10 is basically a **promoter**, that is, somebody who is happy with the product and will recommend\n",
        "the product to other people and these are the kind of people we need.\n",
        "\n",
        "5. How we calculate NPS? We calculate NPS by saying **NPS = % promoters - % detrators**. So, fo eg, in 1000 people, how much percentage of people are promoters and how much percentage of people are detractors.\n",
        "\n",
        "6. **Usually in companies, getting a NPS of > 70 is considered to be amazing. And interestingly NPS IS USED BY MAJORITY OF\n",
        "FORTUNE 500 COMPANIES. Scaler also uses it. So, if you go in a company to work as a DA, you might work on NPS.**"
      ]
    },
    {
      "cell_type": "markdown",
      "id": "e93a2174",
      "metadata": {
        "id": "e93a2174"
      },
      "source": [
        "## <mark>NPS CASE STUDY</mark>"
      ]
    },
    {
      "cell_type": "markdown",
      "id": "5bb4f75a",
      "metadata": {
        "id": "5bb4f75a"
      },
      "source": [
        "**The \"gdown\" tool is a command-line utility and Python library for downloading files from Google Drive using their unique file IDs. It's a convenient way to download files from Google Drive without requiring a Google Drive share link. You can use \"gdown\" to fetch files directly by specifying the file's ID in the URL.**\n",
        "\n",
        "You need to install the \"gdown\" library if you haven't already by using pip"
      ]
    },
    {
      "cell_type": "code",
      "execution_count": null,
      "id": "b90d0605",
      "metadata": {
        "id": "b90d0605",
        "outputId": "82aa35be-b966-49d2-a828-a84301c6f50e"
      },
      "outputs": [
        {
          "name": "stderr",
          "output_type": "stream",
          "text": [
            "Downloading...\n",
            "From: https://drive.google.com/uc?id=1c0ClC8SrPwJq5rrkyMKyPn80nyHcFikK\n",
            "To: C:\\Users\\LENOVO\\Desktop\\New folder\\Module 5- Python Libraries\\My Practice\\Class Practice\\survey.txt\n",
            "\n",
            "  0%|          | 0.00/2.55k [00:00<?, ?B/s]\n",
            "100%|##########| 2.55k/2.55k [00:00<?, ?B/s]\n"
          ]
        }
      ],
      "source": [
        "!gdown 1c0ClC8SrPwJq5rrkyMKyPn80nyHcFikK"
      ]
    },
    {
      "cell_type": "code",
      "execution_count": null,
      "id": "b6b043b6",
      "metadata": {
        "id": "b6b043b6"
      },
      "outputs": [],
      "source": [
        "score = np.loadtxt(\"survey.txt\", dtype = \"int\")"
      ]
    },
    {
      "cell_type": "code",
      "execution_count": null,
      "id": "e1490237",
      "metadata": {
        "id": "e1490237",
        "outputId": "ccec8804-6804-4b4a-8844-13d37a04b2dc"
      },
      "outputs": [
        {
          "data": {
            "text/plain": [
              "numpy.ndarray"
            ]
          },
          "execution_count": 46,
          "metadata": {},
          "output_type": "execute_result"
        }
      ],
      "source": [
        "type(score)"
      ]
    },
    {
      "cell_type": "code",
      "execution_count": null,
      "id": "ee3b58f5",
      "metadata": {
        "id": "ee3b58f5",
        "outputId": "86941a79-da25-47dd-9aad-87918dca469d"
      },
      "outputs": [
        {
          "data": {
            "text/plain": [
              "(1167,)"
            ]
          },
          "execution_count": 47,
          "metadata": {},
          "output_type": "execute_result"
        }
      ],
      "source": [
        "score.shape"
      ]
    },
    {
      "cell_type": "code",
      "execution_count": null,
      "id": "6a3c6e0f",
      "metadata": {
        "id": "6a3c6e0f",
        "outputId": "3d869839-6ec5-457d-fbbe-3206bad9bd40"
      },
      "outputs": [
        {
          "data": {
            "text/plain": [
              "array([ 7, 10,  5,  9,  9])"
            ]
          },
          "execution_count": 48,
          "metadata": {},
          "output_type": "execute_result"
        }
      ],
      "source": [
        "score[:5]"
      ]
    },
    {
      "cell_type": "code",
      "execution_count": null,
      "id": "1156af43",
      "metadata": {
        "id": "1156af43",
        "outputId": "09da9114-8e74-43a1-bfab-5dc42d572a18"
      },
      "outputs": [
        {
          "data": {
            "text/plain": [
              "332"
            ]
          },
          "execution_count": 49,
          "metadata": {},
          "output_type": "execute_result"
        }
      ],
      "source": [
        "len(score[score < 7])"
      ]
    },
    {
      "cell_type": "code",
      "execution_count": null,
      "id": "f1820b5c",
      "metadata": {
        "id": "f1820b5c",
        "outputId": "fdb04621-16b5-43f8-9012-b5ce61464acd"
      },
      "outputs": [
        {
          "data": {
            "text/plain": [
              "1167"
            ]
          },
          "execution_count": 50,
          "metadata": {},
          "output_type": "execute_result"
        }
      ],
      "source": [
        "len(score)"
      ]
    },
    {
      "cell_type": "code",
      "execution_count": null,
      "id": "3f50b829",
      "metadata": {
        "id": "3f50b829",
        "outputId": "3843f965-1046-4a01-bcdc-22e11a544586"
      },
      "outputs": [
        {
          "data": {
            "text/plain": [
              "609"
            ]
          },
          "execution_count": 51,
          "metadata": {},
          "output_type": "execute_result"
        }
      ],
      "source": [
        "len(score[score > 8])"
      ]
    },
    {
      "cell_type": "code",
      "execution_count": null,
      "id": "e08dde62",
      "metadata": {
        "id": "e08dde62"
      },
      "outputs": [],
      "source": [
        "detractor_percent = len(score[score < 7]) / len(score) * 100"
      ]
    },
    {
      "cell_type": "code",
      "execution_count": null,
      "id": "fdeb5aa8",
      "metadata": {
        "id": "fdeb5aa8"
      },
      "outputs": [],
      "source": [
        "promoter_percent = len(score[score > 8]) / len(score) * 100"
      ]
    },
    {
      "cell_type": "code",
      "execution_count": null,
      "id": "415240d6",
      "metadata": {
        "id": "415240d6"
      },
      "outputs": [],
      "source": [
        "NPS = round((promoter_percent - detractor_percent),2)"
      ]
    },
    {
      "cell_type": "code",
      "execution_count": null,
      "id": "6924ccf2",
      "metadata": {
        "id": "6924ccf2",
        "outputId": "1dda0631-ae0b-40cd-b318-9756db3414aa"
      },
      "outputs": [
        {
          "name": "stdout",
          "output_type": "stream",
          "text": [
            "NPS is 23.74\n"
          ]
        }
      ],
      "source": [
        "print(f\"NPS is {NPS}\")"
      ]
    }
  ],
  "metadata": {
    "celltoolbar": "Raw Cell Format",
    "kernelspec": {
      "display_name": "Python 3 (ipykernel)",
      "language": "python",
      "name": "python3"
    },
    "language_info": {
      "codemirror_mode": {
        "name": "ipython",
        "version": 3
      },
      "file_extension": ".py",
      "mimetype": "text/x-python",
      "name": "python",
      "nbconvert_exporter": "python",
      "pygments_lexer": "ipython3",
      "version": "3.11.3"
    },
    "colab": {
      "provenance": [],
      "include_colab_link": true
    }
  },
  "nbformat": 4,
  "nbformat_minor": 5
}