{
  "cells": [
    {
      "cell_type": "markdown",
      "metadata": {
        "id": "view-in-github",
        "colab_type": "text"
      },
      "source": [
        "<a href=\"https://colab.research.google.com/github/maharshi112/looking-forward/blob/master/Day_2_Numpy_2_Class_Practice.ipynb\" target=\"_parent\"><img src=\"https://colab.research.google.com/assets/colab-badge.svg\" alt=\"Open In Colab\"/></a>"
      ]
    },
    {
      "cell_type": "markdown",
      "id": "24f3e852",
      "metadata": {
        "id": "24f3e852"
      },
      "source": [
        "# <code style=\"background:yellow;color:black\">2D ARRAYS</code>"
      ]
    },
    {
      "cell_type": "markdown",
      "id": "87794d49",
      "metadata": {
        "id": "87794d49"
      },
      "source": [
        "In the first lecture, we talked about-\n",
        "* differences between python lists and numpy arrays\n",
        "* why they are faster than python lists\n",
        "* various properties of numpy arrays\n",
        "* we literally compared the speed between the two\n",
        "* how to create numpy arrays\n",
        "* operations like indexing and slicing on them\n",
        "* fancy indexing about numpy arrays which can also be called masking\n",
        "* NPS case study"
      ]
    },
    {
      "cell_type": "markdown",
      "id": "bd91e322",
      "metadata": {
        "id": "bd91e322"
      },
      "source": [
        "**We will today primarily work with 2D arrays, because the data in real world that we will get will be a table of rows and cols.\n",
        "A table is nothing but a 2D array or a 2 dimensional representation of data.**"
      ]
    },
    {
      "cell_type": "code",
      "execution_count": null,
      "id": "ce379929",
      "metadata": {
        "id": "ce379929"
      },
      "outputs": [],
      "source": [
        "import numpy as np"
      ]
    },
    {
      "cell_type": "code",
      "execution_count": null,
      "id": "578e7c40",
      "metadata": {
        "id": "578e7c40"
      },
      "outputs": [],
      "source": [
        "a = np.array(range(16))"
      ]
    },
    {
      "cell_type": "code",
      "execution_count": null,
      "id": "572b79c7",
      "metadata": {
        "id": "572b79c7",
        "outputId": "72c75548-80cd-41a3-e64a-704e1f92b467"
      },
      "outputs": [
        {
          "data": {
            "text/plain": [
              "array([ 0,  1,  2,  3,  4,  5,  6,  7,  8,  9, 10, 11, 12, 13, 14, 15])"
            ]
          },
          "execution_count": 4,
          "metadata": {},
          "output_type": "execute_result"
        }
      ],
      "source": [
        "a"
      ]
    },
    {
      "cell_type": "code",
      "execution_count": null,
      "id": "bb6373bb",
      "metadata": {
        "id": "bb6373bb",
        "outputId": "7d8663cd-7163-45e5-b592-f31bd5def849"
      },
      "outputs": [
        {
          "data": {
            "text/plain": [
              "(16,)"
            ]
          },
          "execution_count": 5,
          "metadata": {},
          "output_type": "execute_result"
        }
      ],
      "source": [
        "a.shape"
      ]
    },
    {
      "cell_type": "code",
      "execution_count": null,
      "id": "892f2545",
      "metadata": {
        "id": "892f2545",
        "outputId": "0ab5069d-2df8-4905-ea2b-44b95b138f93"
      },
      "outputs": [
        {
          "data": {
            "text/plain": [
              "1"
            ]
          },
          "execution_count": 6,
          "metadata": {},
          "output_type": "execute_result"
        }
      ],
      "source": [
        "a.ndim"
      ]
    },
    {
      "cell_type": "markdown",
      "id": "23c9a076",
      "metadata": {
        "id": "23c9a076"
      },
      "source": [
        "**<code style=\"background:yellow;color:black\">reshape()-</code>** Lets suppose we want to convert a 1D array to a 2D array. We can use a method called <mark>np.reshape().</mark>\n",
        "\n",
        "**The reshape() method in Numpy is used to change the shape or dimensions of a NumPy array while keeping the same elements. It allows us to reorganize the elements of an array into a new shape, provided that the total number of elements remains the same.**\n",
        "\n",
        "The reshape() method takes one argument, which is the new shape that we want for our array. This new shape should be specified as a tuple of dimensions. The product of the dimensions in the new shape should equal the total number of elements in the original array. If it doesn't, we will get a ValueError because it's not possible to reshape the array into the specified shape without changing the total number of elements.\n",
        "\n",
        "**Format of function is: np_array.reshape(num_rows, num_columns)**\n",
        "\n",
        "Here in the example below we use - a.reshape(8, 2) - this converts 1D array into 2D array with 8 rows and 2 cols.\n",
        "We can always play with the structure of the array once we have a numpy array."
      ]
    },
    {
      "cell_type": "code",
      "execution_count": null,
      "id": "d0795ce3",
      "metadata": {
        "id": "d0795ce3",
        "outputId": "64a00031-c510-4559-f17b-9a53a6729757"
      },
      "outputs": [
        {
          "data": {
            "text/plain": [
              "array([[ 0,  1],\n",
              "       [ 2,  3],\n",
              "       [ 4,  5],\n",
              "       [ 6,  7],\n",
              "       [ 8,  9],\n",
              "       [10, 11],\n",
              "       [12, 13],\n",
              "       [14, 15]])"
            ]
          },
          "execution_count": 7,
          "metadata": {},
          "output_type": "execute_result"
        }
      ],
      "source": [
        "a.reshape(8, 2)"
      ]
    },
    {
      "cell_type": "code",
      "execution_count": null,
      "id": "a79c39a7",
      "metadata": {
        "id": "a79c39a7",
        "outputId": "898ca351-7f49-47a7-f339-5b544f84298f"
      },
      "outputs": [
        {
          "data": {
            "text/plain": [
              "array([[ 0,  1,  2,  3],\n",
              "       [ 4,  5,  6,  7],\n",
              "       [ 8,  9, 10, 11],\n",
              "       [12, 13, 14, 15]])"
            ]
          },
          "execution_count": 8,
          "metadata": {},
          "output_type": "execute_result"
        }
      ],
      "source": [
        "a.reshape(4, 4)"
      ]
    },
    {
      "cell_type": "markdown",
      "id": "25bf7d2a",
      "metadata": {
        "id": "25bf7d2a"
      },
      "source": [
        "** Here in the code below, our array has 16 elements which cannot be stored in 20 spaces. So always make sure that product of rows and columns should always be equal to the total elements in original array. **"
      ]
    },
    {
      "cell_type": "code",
      "execution_count": null,
      "id": "4b0ece69",
      "metadata": {
        "id": "4b0ece69",
        "outputId": "b90d0753-c707-4300-bca1-6beed6bed5d6"
      },
      "outputs": [
        {
          "ename": "ValueError",
          "evalue": "cannot reshape array of size 16 into shape (4,5)",
          "output_type": "error",
          "traceback": [
            "\u001b[1;31m---------------------------------------------------------------------------\u001b[0m",
            "\u001b[1;31mValueError\u001b[0m                                Traceback (most recent call last)",
            "Cell \u001b[1;32mIn[9], line 4\u001b[0m\n\u001b[0;32m      1\u001b[0m \u001b[38;5;66;03m# Our array has 16 elements which cant be stored in 20 spaces.\u001b[39;00m\n\u001b[0;32m      2\u001b[0m \u001b[38;5;66;03m# So always make sure that product of rows and cols should always be equal to the total elements in original array.\u001b[39;00m\n\u001b[1;32m----> 4\u001b[0m a\u001b[38;5;241m.\u001b[39mreshape(\u001b[38;5;241m4\u001b[39m, \u001b[38;5;241m5\u001b[39m)\n",
            "\u001b[1;31mValueError\u001b[0m: cannot reshape array of size 16 into shape (4,5)"
          ]
        }
      ],
      "source": [
        "a.reshape(4, 5)"
      ]
    },
    {
      "cell_type": "markdown",
      "id": "ec58b1d7",
      "metadata": {
        "id": "ec58b1d7"
      },
      "source": [
        "**This reshape() method is actually very powerful. If we say - a.reshape(8) - rows are set to 8, so number of cols in this case\n",
        "will be 2 only, no other option, when we have 16 values in our data.**\n",
        "\n",
        "So, lets suppose maybe data is in millions and we dont want to calculate the number of cols, we can simply give 2nd argument\n",
        "as \"-1\". -1 denotes that we want python to automatically calculate the second argument.\n",
        "\n",
        "You can also use -1 as one of the dimensions in the new shape, and NumPy will automatically calculate it based on the size of the array and the other specified dimensions. This is useful when you want to reshape an array without specifying all dimensions explicitly.\n",
        "\n",
        "So, if we give only one argument that is rows argument, python will automatically calculate 2nd column argument."
      ]
    },
    {
      "cell_type": "code",
      "execution_count": null,
      "id": "1644f6a6",
      "metadata": {
        "id": "1644f6a6",
        "outputId": "7c6f0d8f-6181-4555-8c9d-dc6d35a70f8b"
      },
      "outputs": [
        {
          "data": {
            "text/plain": [
              "array([[ 0,  1],\n",
              "       [ 2,  3],\n",
              "       [ 4,  5],\n",
              "       [ 6,  7],\n",
              "       [ 8,  9],\n",
              "       [10, 11],\n",
              "       [12, 13],\n",
              "       [14, 15]])"
            ]
          },
          "execution_count": 10,
          "metadata": {},
          "output_type": "execute_result"
        }
      ],
      "source": [
        "a.reshape(8, -1)"
      ]
    },
    {
      "cell_type": "markdown",
      "id": "03cd1105",
      "metadata": {
        "id": "03cd1105"
      },
      "source": [
        "We can do this for rows as well. Python will automatically compute that since there are 16 total elements,\n",
        "and you want to store that data in 4 cols, so there will be 4 rows only, to make the product of rows and cols 16."
      ]
    },
    {
      "cell_type": "code",
      "execution_count": null,
      "id": "b2409978",
      "metadata": {
        "id": "b2409978",
        "outputId": "b3b7f49f-2c28-4098-b4e5-ec41f341d933"
      },
      "outputs": [
        {
          "data": {
            "text/plain": [
              "array([[ 0,  1,  2,  3],\n",
              "       [ 4,  5,  6,  7],\n",
              "       [ 8,  9, 10, 11],\n",
              "       [12, 13, 14, 15]])"
            ]
          },
          "execution_count": 11,
          "metadata": {},
          "output_type": "execute_result"
        }
      ],
      "source": [
        "a.reshape(-1, 4)"
      ]
    },
    {
      "cell_type": "markdown",
      "id": "d5dc2000",
      "metadata": {
        "id": "d5dc2000"
      },
      "source": [
        "This example code below will create ambiguity, because multiple values will satisfy this equation or condition;\n",
        "4 x 4, 2 x 8, 8 x 2 all will satisfy this condition. Now python cannot randomly choose any one of them and return.\n",
        "\n",
        "So, in order for python to compute any one of the arguments, you MUST provide other argument.\n",
        "You can only specify one unknown dimension, the other dimension or argument needs to be specified."
      ]
    },
    {
      "cell_type": "code",
      "execution_count": null,
      "id": "51a4a106",
      "metadata": {
        "id": "51a4a106",
        "outputId": "0695de52-a4a6-4ffc-f0f3-43ed78e3cdd7"
      },
      "outputs": [
        {
          "ename": "ValueError",
          "evalue": "can only specify one unknown dimension",
          "output_type": "error",
          "traceback": [
            "\u001b[1;31m---------------------------------------------------------------------------\u001b[0m",
            "\u001b[1;31mValueError\u001b[0m                                Traceback (most recent call last)",
            "Cell \u001b[1;32mIn[12], line 1\u001b[0m\n\u001b[1;32m----> 1\u001b[0m a\u001b[38;5;241m.\u001b[39mreshape(\u001b[38;5;241m-\u001b[39m\u001b[38;5;241m1\u001b[39m, \u001b[38;5;241m-\u001b[39m\u001b[38;5;241m1\u001b[39m)\n",
            "\u001b[1;31mValueError\u001b[0m: can only specify one unknown dimension"
          ]
        }
      ],
      "source": [
        "a.reshape(-1, -1)"
      ]
    },
    {
      "cell_type": "code",
      "execution_count": null,
      "id": "c3adf8d9",
      "metadata": {
        "id": "c3adf8d9"
      },
      "outputs": [],
      "source": [
        "a = a.reshape(8, 2)"
      ]
    },
    {
      "cell_type": "code",
      "execution_count": null,
      "id": "3c798de5",
      "metadata": {
        "id": "3c798de5",
        "outputId": "5ab41b9b-f71a-4c59-dad5-387d2874271f"
      },
      "outputs": [
        {
          "data": {
            "text/plain": [
              "array([[ 0,  1],\n",
              "       [ 2,  3],\n",
              "       [ 4,  5],\n",
              "       [ 6,  7],\n",
              "       [ 8,  9],\n",
              "       [10, 11],\n",
              "       [12, 13],\n",
              "       [14, 15]])"
            ]
          },
          "execution_count": 14,
          "metadata": {},
          "output_type": "execute_result"
        }
      ],
      "source": [
        "a"
      ]
    },
    {
      "cell_type": "markdown",
      "id": "8f8b9083",
      "metadata": {
        "id": "8f8b9083"
      },
      "source": [
        "** Since numpy arrays are similar to python 2D lists, we can get number of rows as follows- **"
      ]
    },
    {
      "cell_type": "code",
      "execution_count": null,
      "id": "969e6210",
      "metadata": {
        "id": "969e6210",
        "outputId": "687c172c-15fd-4f3a-9805-bff079f6440f"
      },
      "outputs": [
        {
          "data": {
            "text/plain": [
              "8"
            ]
          },
          "execution_count": 15,
          "metadata": {},
          "output_type": "execute_result"
        }
      ],
      "source": [
        "len(a)"
      ]
    },
    {
      "cell_type": "markdown",
      "id": "6e5ee1cc",
      "metadata": {
        "id": "6e5ee1cc"
      },
      "source": [
        "** We can get number of columns as below - len(a[0]) = len(a[1]) = len(a[2]) - because in matrix each row contains same no of cols **"
      ]
    },
    {
      "cell_type": "code",
      "execution_count": null,
      "id": "3353af37",
      "metadata": {
        "id": "3353af37",
        "outputId": "3417b582-6837-45b5-b4b1-20cb1cb923cc"
      },
      "outputs": [
        {
          "data": {
            "text/plain": [
              "2"
            ]
          },
          "execution_count": 16,
          "metadata": {},
          "output_type": "execute_result"
        }
      ],
      "source": [
        "len(a[0])"
      ]
    },
    {
      "cell_type": "code",
      "execution_count": null,
      "id": "0dda2460",
      "metadata": {
        "id": "0dda2460"
      },
      "outputs": [],
      "source": [
        "a = np.arange(12)"
      ]
    },
    {
      "cell_type": "code",
      "execution_count": null,
      "id": "80449469",
      "metadata": {
        "id": "80449469",
        "outputId": "b7dd5d91-6b81-4634-9bfe-2d1ded442c3a"
      },
      "outputs": [
        {
          "data": {
            "text/plain": [
              "array([ 0,  1,  2,  3,  4,  5,  6,  7,  8,  9, 10, 11])"
            ]
          },
          "execution_count": 18,
          "metadata": {},
          "output_type": "execute_result"
        }
      ],
      "source": [
        "a"
      ]
    },
    {
      "cell_type": "code",
      "execution_count": null,
      "id": "f686ec5d",
      "metadata": {
        "id": "f686ec5d"
      },
      "outputs": [],
      "source": [
        "a = a.reshape(3, 4)"
      ]
    },
    {
      "cell_type": "code",
      "execution_count": null,
      "id": "7afee8e2",
      "metadata": {
        "id": "7afee8e2",
        "outputId": "eaf1637d-1657-48c0-ce07-ab09ce3e1fbb"
      },
      "outputs": [
        {
          "data": {
            "text/plain": [
              "array([[ 0,  1,  2,  3],\n",
              "       [ 4,  5,  6,  7],\n",
              "       [ 8,  9, 10, 11]])"
            ]
          },
          "execution_count": 20,
          "metadata": {},
          "output_type": "execute_result"
        }
      ],
      "source": [
        "a"
      ]
    },
    {
      "cell_type": "markdown",
      "id": "d887fd1d",
      "metadata": {
        "id": "d887fd1d"
      },
      "source": [
        "### <code style=\"background:yellow;color:black\">METHOD CHAINING-</code>\n",
        "\n",
        "* Step 1- We created a numpy array consisting of 12 elements as above, by calling the arange() function.\n",
        "* Step 2- We reshaped that array by calling the reshape() function.\n",
        "\n",
        "In method chaining, we can do it all together. We can chain both the methods one after the other in a single step.\n",
        "\n",
        "<mark>Advantage-</mark> Makes syntax easy, sometimes these two tasks are done one after the other, so it saves time, looks nice.\n",
        "Method chaining isnt faster, it just looks good.\n",
        "\n",
        "<mark>OPTIMISATION IS MORE IN REFERENCE TO PERFORMANCE OF CODE, AND NOT WRT SHAPE AND SIZE OF THE CODE.</mark>\n",
        "No doubt that making the code look clean, readable and faster to write is vital because most of the time you will be\n",
        "working in a team, and team can easily understand your code; maybe you have to collaborate on your single python file.\n",
        "\n",
        "The format of that chaining looks like this code implementation below-"
      ]
    },
    {
      "cell_type": "code",
      "execution_count": null,
      "id": "fa6aa325",
      "metadata": {
        "id": "fa6aa325"
      },
      "outputs": [],
      "source": [
        "b = np.arange(12).reshape(3, 4)"
      ]
    },
    {
      "cell_type": "code",
      "execution_count": null,
      "id": "2f4452d0",
      "metadata": {
        "id": "2f4452d0",
        "outputId": "4fb3b1c9-aca2-4d13-98fb-7ab718f5b005"
      },
      "outputs": [
        {
          "data": {
            "text/plain": [
              "array([[ 0,  1,  2,  3],\n",
              "       [ 4,  5,  6,  7],\n",
              "       [ 8,  9, 10, 11]])"
            ]
          },
          "execution_count": 22,
          "metadata": {},
          "output_type": "execute_result"
        }
      ],
      "source": [
        "b"
      ]
    },
    {
      "cell_type": "code",
      "execution_count": null,
      "id": "943d9e56",
      "metadata": {
        "id": "943d9e56",
        "outputId": "56fbb4bf-7ca1-4bb6-e1b2-6d88be6b5dd1"
      },
      "outputs": [
        {
          "data": {
            "text/plain": [
              "(3, 4)"
            ]
          },
          "execution_count": 23,
          "metadata": {},
          "output_type": "execute_result"
        }
      ],
      "source": [
        "b.shape"
      ]
    },
    {
      "cell_type": "markdown",
      "id": "ff0bcfcd",
      "metadata": {
        "id": "ff0bcfcd"
      },
      "source": [
        "**<mark>T represents the transpose of any matrix in numpy.</mark> Transpose of any matrix is matrix rotated by 90 degress, rows will become cols and cols will become rows, sort of like a pivot. Transpose of a matrix is readily available in numpy.**\n",
        "\n",
        "**In NumPy, the transpose of a matrix can be obtained using the .T attribute, or by using the numpy.transpose() method.** The transpose of a matrix essentially switches its rows and columns. It's a fundamental linear algebra operation that is used for various purposes in mathematics, science, and engineering.\n",
        "\n",
        "<mark>Why do we need Transpose?</mark> We will do a fitbit case study to see the application of transpose.\n",
        "\n",
        "* In image processing, transposing a matrix can be used to perform various operations, such as rotating or flipping images.\n",
        "\n",
        "* In linear regression and related statistical techniques, the transpose is used when calculating coefficients or solving the normal equations.\n",
        "\n",
        "* If you have data with rows representing variables and columns representing observations, you can transpose it to switch the orientation for better analysis or visualization."
      ]
    },
    {
      "cell_type": "code",
      "execution_count": null,
      "id": "92c614ee",
      "metadata": {
        "id": "92c614ee",
        "outputId": "11790123-1fb7-4bc0-9bb5-a3b87f3c09e0"
      },
      "outputs": [
        {
          "data": {
            "text/plain": [
              "array([[ 0,  4,  8],\n",
              "       [ 1,  5,  9],\n",
              "       [ 2,  6, 10],\n",
              "       [ 3,  7, 11]])"
            ]
          },
          "execution_count": 24,
          "metadata": {},
          "output_type": "execute_result"
        }
      ],
      "source": [
        "b.T"
      ]
    },
    {
      "cell_type": "code",
      "execution_count": null,
      "id": "760e0f8c",
      "metadata": {
        "id": "760e0f8c",
        "outputId": "646a3a96-8320-45b3-e199-8672435d7785"
      },
      "outputs": [
        {
          "data": {
            "text/plain": [
              "(4, 3)"
            ]
          },
          "execution_count": 25,
          "metadata": {},
          "output_type": "execute_result"
        }
      ],
      "source": [
        "b.T.shape"
      ]
    },
    {
      "cell_type": "code",
      "execution_count": null,
      "id": "2bcefccd",
      "metadata": {
        "id": "2bcefccd",
        "outputId": "af337e81-3916-4495-fb7b-01493419c18e"
      },
      "outputs": [
        {
          "data": {
            "text/plain": [
              "array([[ 0,  1,  2,  3],\n",
              "       [ 4,  5,  6,  7],\n",
              "       [ 8,  9, 10, 11]])"
            ]
          },
          "execution_count": 26,
          "metadata": {},
          "output_type": "execute_result"
        }
      ],
      "source": [
        "b"
      ]
    },
    {
      "cell_type": "markdown",
      "id": "5dea5549",
      "metadata": {
        "id": "5dea5549"
      },
      "source": [
        "The expression b[0][1] gives us the value located in the first row (index 0) and the second column (index 1) of the NumPy array b.\n",
        "\n",
        "b[0][1] corresponds to the element at the intersection of the first row and the second column, which is 1. This is how you access a specific element in a multi-dimensional array in NumPy.\n",
        "\n",
        "**<mark>This type of indexing is called \"nested indexing\" or \"double indexing\" or \"chained indexing\".</mark>**"
      ]
    },
    {
      "cell_type": "code",
      "execution_count": null,
      "id": "d506a2ee",
      "metadata": {
        "id": "d506a2ee",
        "outputId": "0554cca0-7de0-4d01-b726-f23a86f342b7"
      },
      "outputs": [
        {
          "data": {
            "text/plain": [
              "1"
            ]
          },
          "execution_count": 27,
          "metadata": {},
          "output_type": "execute_result"
        }
      ],
      "source": [
        "b[0][1]"
      ]
    },
    {
      "cell_type": "markdown",
      "id": "0fbf9238",
      "metadata": {
        "id": "0fbf9238"
      },
      "source": [
        "**<mark>Following indexing is called \"concise indexing\" and it only works with numpy arrays -> NOT WITH PYTHON LISTS.</mark>**\n",
        "\n",
        "This is not much advantageous, actually its confusing. Although there is one <u>**small advantage of finding diagonal elements easily**</u> that we will discuss further below, there are other advantages of indexing shown below.\n",
        "\n",
        "* <u>Performance:</u> The concise indexing is often more efficient in terms of performance. When you use a[0, 1], NumPy can access the element directly, whereas with nested indexing, it may involve additional intermediate steps.\n",
        "* <u>Multi-dimensional Arrays:</u> When working with multi-dimensional arrays (more than two dimensions), concise indexing becomes essential for clarity and ease of use.\n",
        "* <u>Broadcasting:</u> NumPy supports broadcasting, which allows you to perform operations on arrays with different shapes. Concise indexing helps you understand and work with broadcasting rules more effectively."
      ]
    },
    {
      "cell_type": "code",
      "execution_count": null,
      "id": "ae0853d8",
      "metadata": {
        "id": "ae0853d8",
        "outputId": "e83a2ba3-4289-437e-b5ad-1dda59bce8ca"
      },
      "outputs": [
        {
          "data": {
            "text/plain": [
              "1"
            ]
          },
          "execution_count": 45,
          "metadata": {},
          "output_type": "execute_result"
        }
      ],
      "source": [
        "b[0, 1]"
      ]
    },
    {
      "cell_type": "markdown",
      "id": "039a9c7d",
      "metadata": {
        "id": "039a9c7d"
      },
      "source": [
        "** Lets suppose we have a numpy array called c like this - **"
      ]
    },
    {
      "cell_type": "code",
      "execution_count": null,
      "id": "7189b04c",
      "metadata": {
        "id": "7189b04c"
      },
      "outputs": [],
      "source": [
        "c = np.arange(9).reshape(3, 3)"
      ]
    },
    {
      "cell_type": "code",
      "execution_count": null,
      "id": "f99173f1",
      "metadata": {
        "id": "f99173f1",
        "outputId": "ea893aa9-5fde-4219-9730-e6e958ba2867"
      },
      "outputs": [
        {
          "data": {
            "text/plain": [
              "array([[0, 1, 2],\n",
              "       [3, 4, 5],\n",
              "       [6, 7, 8]])"
            ]
          },
          "execution_count": 46,
          "metadata": {},
          "output_type": "execute_result"
        }
      ],
      "source": [
        "c"
      ]
    },
    {
      "cell_type": "markdown",
      "id": "572071f0",
      "metadata": {
        "id": "572071f0"
      },
      "source": [
        "** Lets suppose we have a numpy array called d like this - **"
      ]
    },
    {
      "cell_type": "code",
      "execution_count": null,
      "id": "4e208836",
      "metadata": {
        "id": "4e208836"
      },
      "outputs": [],
      "source": [
        "d = np.arange(10)"
      ]
    },
    {
      "cell_type": "code",
      "execution_count": null,
      "id": "49a3eed5",
      "metadata": {
        "id": "49a3eed5",
        "outputId": "e44fccc6-b939-4488-e6bc-0562b05abde0"
      },
      "outputs": [
        {
          "data": {
            "text/plain": [
              "array([0, 1, 2, 3, 4, 5, 6, 7, 8, 9])"
            ]
          },
          "execution_count": 35,
          "metadata": {},
          "output_type": "execute_result"
        }
      ],
      "source": [
        "d"
      ]
    },
    {
      "cell_type": "markdown",
      "id": "f5c3c6fa",
      "metadata": {
        "id": "f5c3c6fa"
      },
      "source": [
        "Now, this is an old concept of previous lecture. We learnt that if we have a numpy array like \"d\", then what we can do is\n",
        "**inside of indexes we can provide another list of indexes and all of the corresponding elements in the array will be returned.**\n",
        "\n",
        "This is possible with a 1D np array. But what for a 2D np array- is this kind of thing possible? - YES. How, we will see in the below note."
      ]
    },
    {
      "cell_type": "code",
      "execution_count": null,
      "id": "72e8dc5b",
      "metadata": {
        "id": "72e8dc5b",
        "outputId": "c3d831ce-d625-494d-fcd6-c6ec8287563e"
      },
      "outputs": [
        {
          "data": {
            "text/plain": [
              "array([6, 7, 8, 1])"
            ]
          },
          "execution_count": 47,
          "metadata": {},
          "output_type": "execute_result"
        }
      ],
      "source": [
        "d[[6,7,8,1]]"
      ]
    },
    {
      "cell_type": "code",
      "execution_count": null,
      "id": "307e0303",
      "metadata": {
        "id": "307e0303",
        "outputId": "48f8043a-8124-41a9-ccfc-773d271bdd59"
      },
      "outputs": [
        {
          "data": {
            "text/plain": [
              "array([[0, 1, 2],\n",
              "       [3, 4, 5],\n",
              "       [6, 7, 8]])"
            ]
          },
          "execution_count": 37,
          "metadata": {},
          "output_type": "execute_result"
        }
      ],
      "source": [
        "c"
      ]
    },
    {
      "cell_type": "markdown",
      "id": "4417cdf7",
      "metadata": {
        "id": "4417cdf7"
      },
      "source": [
        "We will provide indexes in the form of a list of indexes of rows and cols. In other words we are asking numpy to pick ith and jth elements from the array.  \n",
        "\n",
        "**Inside a index, we are providing 2 sets of indexes- one for the rows and one for the columns. So, it will return an array containing diagonal elements of the \"c\" array.** So basically, it will pick 0,0th  1,1th  2,2th elements from the array and return the array of diagonal elements.\n",
        "\n",
        "**<mark>We can essentially pick <u>ANY NUMBER</u> of elements in a 2D array, unlike in above code -- b[0,1] where we get just one element, by providing concise indexes like the one shown below.</mark>**\n",
        "\n",
        "Since this works with 1D lists, in which we just provide column numbers, it also works with 2D lists, in which we provide row and column both."
      ]
    },
    {
      "cell_type": "code",
      "execution_count": null,
      "id": "3a831315",
      "metadata": {
        "id": "3a831315",
        "outputId": "b342d664-2234-4dc8-e9ed-a0834191af53"
      },
      "outputs": [
        {
          "data": {
            "text/plain": [
              "array([0, 4, 8])"
            ]
          },
          "execution_count": 38,
          "metadata": {},
          "output_type": "execute_result"
        }
      ],
      "source": [
        "c[[0,1,2],[0,1,2]]"
      ]
    },
    {
      "cell_type": "markdown",
      "id": "7b5b51fb",
      "metadata": {
        "id": "7b5b51fb"
      },
      "source": [
        "** U can pick any elements, it doesnt have to be diagonal or any pattern always, it can be anything random. **"
      ]
    },
    {
      "cell_type": "code",
      "execution_count": null,
      "id": "9aa79e51",
      "metadata": {
        "id": "9aa79e51",
        "outputId": "51dea833-ebe9-41e8-c991-c1da0bc10c34"
      },
      "outputs": [
        {
          "data": {
            "text/plain": [
              "array([1, 7])"
            ]
          },
          "execution_count": 39,
          "metadata": {},
          "output_type": "execute_result"
        }
      ],
      "source": [
        "c[[0,2],[1,1]]"
      ]
    },
    {
      "cell_type": "markdown",
      "id": "8cc9a5d4",
      "metadata": {
        "id": "8cc9a5d4"
      },
      "source": [
        "** This index is out of range, index should be available. So, out of bounds error.**"
      ]
    },
    {
      "cell_type": "code",
      "execution_count": null,
      "id": "0639fdb0",
      "metadata": {
        "id": "0639fdb0",
        "outputId": "27c6360f-8c36-478d-fd69-7c28f394fef8"
      },
      "outputs": [
        {
          "ename": "IndexError",
          "evalue": "index 5 is out of bounds for axis 1 with size 3",
          "output_type": "error",
          "traceback": [
            "\u001b[1;31m---------------------------------------------------------------------------\u001b[0m",
            "\u001b[1;31mIndexError\u001b[0m                                Traceback (most recent call last)",
            "Cell \u001b[1;32mIn[40], line 1\u001b[0m\n\u001b[1;32m----> 1\u001b[0m c[[\u001b[38;5;241m0\u001b[39m,\u001b[38;5;241m2\u001b[39m],[\u001b[38;5;241m1\u001b[39m,\u001b[38;5;241m5\u001b[39m]]\n",
            "\u001b[1;31mIndexError\u001b[0m: index 5 is out of bounds for axis 1 with size 3"
          ]
        }
      ],
      "source": [
        "c[[0,2],[1,5]]"
      ]
    },
    {
      "cell_type": "markdown",
      "id": "4c708c72",
      "metadata": {
        "id": "4c708c72"
      },
      "source": [
        "** Shape mismatch error. **"
      ]
    },
    {
      "cell_type": "code",
      "execution_count": null,
      "id": "88591bd5",
      "metadata": {
        "id": "88591bd5",
        "outputId": "4ca1aceb-7d65-4c76-9195-1c3786e4886e"
      },
      "outputs": [
        {
          "ename": "IndexError",
          "evalue": "shape mismatch: indexing arrays could not be broadcast together with shapes (3,) (2,) ",
          "output_type": "error",
          "traceback": [
            "\u001b[1;31m---------------------------------------------------------------------------\u001b[0m",
            "\u001b[1;31mIndexError\u001b[0m                                Traceback (most recent call last)",
            "Cell \u001b[1;32mIn[41], line 1\u001b[0m\n\u001b[1;32m----> 1\u001b[0m c[[\u001b[38;5;241m1\u001b[39m,\u001b[38;5;241m2\u001b[39m,\u001b[38;5;241m0\u001b[39m],[\u001b[38;5;241m1\u001b[39m,\u001b[38;5;241m2\u001b[39m]]\n",
            "\u001b[1;31mIndexError\u001b[0m: shape mismatch: indexing arrays could not be broadcast together with shapes (3,) (2,) "
          ]
        }
      ],
      "source": [
        "c[[1,2,0],[1,2]]"
      ]
    },
    {
      "cell_type": "markdown",
      "id": "1b6f38bf",
      "metadata": {
        "id": "1b6f38bf"
      },
      "source": [
        "** Lets suppose we have a numpy array called test like this - **"
      ]
    },
    {
      "cell_type": "code",
      "execution_count": null,
      "id": "fdeb28d1",
      "metadata": {
        "id": "fdeb28d1"
      },
      "outputs": [],
      "source": [
        "test = np.arange(64).reshape(8,8)"
      ]
    },
    {
      "cell_type": "code",
      "execution_count": null,
      "id": "44b24789",
      "metadata": {
        "id": "44b24789",
        "outputId": "43b55108-cd00-4f8e-c5d8-884e10867dcd"
      },
      "outputs": [
        {
          "data": {
            "text/plain": [
              "array([[ 0,  1,  2,  3,  4,  5,  6,  7],\n",
              "       [ 8,  9, 10, 11, 12, 13, 14, 15],\n",
              "       [16, 17, 18, 19, 20, 21, 22, 23],\n",
              "       [24, 25, 26, 27, 28, 29, 30, 31],\n",
              "       [32, 33, 34, 35, 36, 37, 38, 39],\n",
              "       [40, 41, 42, 43, 44, 45, 46, 47],\n",
              "       [48, 49, 50, 51, 52, 53, 54, 55],\n",
              "       [56, 57, 58, 59, 60, 61, 62, 63]])"
            ]
          },
          "execution_count": 43,
          "metadata": {},
          "output_type": "execute_result"
        }
      ],
      "source": [
        "test"
      ]
    },
    {
      "cell_type": "markdown",
      "id": "6b7f5627",
      "metadata": {
        "id": "6b7f5627"
      },
      "source": [
        "What below code will do is- len(test) is 8, so we have range(8); and this will generate a list of numbers from 0 to 7.\n",
        "\n",
        "So, it will essentially look like this- test[[0,1,2,3,4,5,6,7], [0,1,2,3,4,5,6,7]].\n",
        "\n",
        "And this will give 0,0th  1,1th  2,2th  3,3th,  4,4th and so on to return the diagonal elements."
      ]
    },
    {
      "cell_type": "code",
      "execution_count": null,
      "id": "256c4008",
      "metadata": {
        "id": "256c4008",
        "outputId": "6a681f9d-c09f-4c9b-daf4-7f1937153415"
      },
      "outputs": [
        {
          "data": {
            "text/plain": [
              "array([ 0,  9, 18, 27, 36, 45, 54, 63])"
            ]
          },
          "execution_count": 44,
          "metadata": {},
          "output_type": "execute_result"
        }
      ],
      "source": [
        "test[list(range(len(test))),list(range(len(test)))]"
      ]
    },
    {
      "cell_type": "markdown",
      "id": "1a022e58",
      "metadata": {
        "id": "1a022e58"
      },
      "source": [
        "**<mark>SLICING-</mark>**\n",
        "\n",
        "Since we talk about indexing in 2D arrays, we will also talk about slicing in 2D arrays because its also important.\n",
        "\n",
        "Similar to how we can provide indexes to both rows and columns, we can also provide slices for both rows and columns.\n",
        "\n",
        "**BY DEFAULT SLICING IS DONE ON ROWS.**"
      ]
    },
    {
      "cell_type": "code",
      "execution_count": null,
      "id": "cc308cbb",
      "metadata": {
        "id": "cc308cbb"
      },
      "outputs": [],
      "source": [
        "a = np.arange(12).reshape(3, 4)"
      ]
    },
    {
      "cell_type": "code",
      "execution_count": null,
      "id": "a74291b5",
      "metadata": {
        "id": "a74291b5",
        "outputId": "1afed70b-f53c-418d-d479-9015b173fefe"
      },
      "outputs": [
        {
          "data": {
            "text/plain": [
              "array([[ 0,  1,  2,  3],\n",
              "       [ 4,  5,  6,  7],\n",
              "       [ 8,  9, 10, 11]])"
            ]
          },
          "execution_count": 49,
          "metadata": {},
          "output_type": "execute_result"
        }
      ],
      "source": [
        "a"
      ]
    },
    {
      "cell_type": "markdown",
      "id": "e22c37f5",
      "metadata": {
        "id": "e22c37f5"
      },
      "source": [
        "This slice got us 0th row and 1st row, last \"2\" isnt included.\n",
        "\n",
        "This slice got applied to rows and we got all columns.\n",
        "\n",
        "Means- when we have a 2D list, a slice menas we want a subset of all the rows.\n",
        "Or a slice can also mean that I want a subset of few cols and I want all the rows. This is well explained in notes.\n",
        "A slice can also mean that I dont want all the rows nor all the cols, I want something like 1st and 2nd row but only few cols,\n",
        "basically, some rows and some cols.\n",
        "\n",
        "**<mark>There can be all of the 3 possibilities when it comes to slicing.</mark>**\n",
        "\n",
        "**First possibility is very easy, u just provide a single set of slice like the code below-**"
      ]
    },
    {
      "cell_type": "code",
      "execution_count": null,
      "id": "070c872d",
      "metadata": {
        "id": "070c872d",
        "outputId": "a67307fa-f1f3-4c4a-dc6b-8de386cfa4f7"
      },
      "outputs": [
        {
          "data": {
            "text/plain": [
              "array([[0, 1, 2, 3],\n",
              "       [4, 5, 6, 7]])"
            ]
          },
          "execution_count": 50,
          "metadata": {},
          "output_type": "execute_result"
        }
      ],
      "source": [
        "a[:2]"
      ]
    },
    {
      "cell_type": "markdown",
      "id": "fce93123",
      "metadata": {
        "id": "fce93123"
      },
      "source": [
        "If we write - a[:] - it will print all the data, we know this that starting element and ending element is taken by default and\n",
        "prints everyhing in between.\n",
        "\n",
        "**Second possibility is we add a comma next to colon, then we can add a slice on the number of columns. So, we can say\n",
        "we want all the columns from 1 to 3, as shown below-**\n",
        "\n",
        "It returs all rows, and 1st column and 2nd column, and NOT 0th and 3rd column."
      ]
    },
    {
      "cell_type": "code",
      "execution_count": null,
      "id": "94e1c368",
      "metadata": {
        "id": "94e1c368",
        "outputId": "299e67cd-ce82-4398-bffa-db4ce5fe859c"
      },
      "outputs": [
        {
          "data": {
            "text/plain": [
              "array([[ 1,  2],\n",
              "       [ 4,  5],\n",
              "       [ 7,  8],\n",
              "       [10, 11]])"
            ]
          },
          "execution_count": 64,
          "metadata": {},
          "output_type": "execute_result"
        }
      ],
      "source": [
        "a[:, 1:3]"
      ]
    },
    {
      "cell_type": "markdown",
      "id": "f6bcedd0",
      "metadata": {
        "id": "f6bcedd0"
      },
      "source": [
        "** We can have any subset of rows and column elements that we want. **"
      ]
    },
    {
      "cell_type": "code",
      "execution_count": null,
      "id": "4041192f",
      "metadata": {
        "id": "4041192f",
        "outputId": "4acb182b-777c-495f-e53a-e3567dcd08ba"
      },
      "outputs": [
        {
          "data": {
            "text/plain": [
              "array([[1, 2],\n",
              "       [4, 5]])"
            ]
          },
          "execution_count": 65,
          "metadata": {},
          "output_type": "execute_result"
        }
      ],
      "source": [
        "a[:2, 1:3]"
      ]
    },
    {
      "cell_type": "markdown",
      "id": "dd22f61c",
      "metadata": {
        "id": "dd22f61c"
      },
      "source": [
        "Whenever we are working we 2D numpy arrays, which we will be working in real world 99% of the time, we have all of this added\n",
        "capabilities like indexing, slicing and all the we will study further that python lists do not actually provide.\n",
        "They do provide, but numpy has made that a little bit better, elevated the entire thing a little bit."
      ]
    },
    {
      "cell_type": "code",
      "execution_count": null,
      "id": "c5b99235",
      "metadata": {
        "id": "c5b99235",
        "outputId": "91648d2e-5ce0-410c-e9d8-f42c0eede709"
      },
      "outputs": [
        {
          "data": {
            "text/plain": [
              "array([[ 0,  1,  2,  3,  4,  5,  6,  7],\n",
              "       [ 8,  9, 10, 11, 12, 13, 14, 15],\n",
              "       [16, 17, 18, 19, 20, 21, 22, 23],\n",
              "       [24, 25, 26, 27, 28, 29, 30, 31],\n",
              "       [32, 33, 34, 35, 36, 37, 38, 39],\n",
              "       [40, 41, 42, 43, 44, 45, 46, 47],\n",
              "       [48, 49, 50, 51, 52, 53, 54, 55],\n",
              "       [56, 57, 58, 59, 60, 61, 62, 63]])"
            ]
          },
          "execution_count": 53,
          "metadata": {},
          "output_type": "execute_result"
        }
      ],
      "source": [
        "test"
      ]
    },
    {
      "cell_type": "markdown",
      "id": "b1785711",
      "metadata": {
        "id": "b1785711"
      },
      "source": [
        "**Third possibilty is adding step size or jump values, which also works when slicing 2D arrays.**"
      ]
    },
    {
      "cell_type": "code",
      "execution_count": null,
      "id": "f7a477a5",
      "metadata": {
        "id": "f7a477a5",
        "outputId": "f66e4700-97da-4497-dc1b-a4d97f5985eb"
      },
      "outputs": [
        {
          "data": {
            "text/plain": [
              "array([[25, 28],\n",
              "       [41, 44]])"
            ]
          },
          "execution_count": 54,
          "metadata": {},
          "output_type": "execute_result"
        }
      ],
      "source": [
        "test[3:7:2, 1:6:3]"
      ]
    },
    {
      "cell_type": "code",
      "execution_count": null,
      "id": "c51cefee",
      "metadata": {
        "id": "c51cefee"
      },
      "outputs": [],
      "source": [
        "a = np.array([1,2,3,4,5])\n",
        "b = np.array([8,7,6])"
      ]
    },
    {
      "cell_type": "markdown",
      "id": "726c60b2",
      "metadata": {
        "id": "726c60b2"
      },
      "source": [
        "** Pick everything after the 3rd element. **"
      ]
    },
    {
      "cell_type": "code",
      "execution_count": null,
      "id": "7e08018e",
      "metadata": {
        "id": "7e08018e",
        "outputId": "2e82d3f6-16c7-4248-9dbf-4020a22d41db"
      },
      "outputs": [
        {
          "data": {
            "text/plain": [
              "array([4, 5])"
            ]
          },
          "execution_count": 56,
          "metadata": {},
          "output_type": "execute_result"
        }
      ],
      "source": [
        "a[3:]"
      ]
    },
    {
      "cell_type": "markdown",
      "id": "608f5781",
      "metadata": {
        "id": "608f5781"
      },
      "source": [
        "** It will start from end point because jump is of -2, so \"6\" and \"8\" will be picked. **"
      ]
    },
    {
      "cell_type": "code",
      "execution_count": null,
      "id": "07c07a47",
      "metadata": {
        "id": "07c07a47",
        "outputId": "b8483e96-13aa-4fa9-e59b-97f190ac372c"
      },
      "outputs": [
        {
          "data": {
            "text/plain": [
              "array([6, 8])"
            ]
          },
          "execution_count": 57,
          "metadata": {},
          "output_type": "execute_result"
        }
      ],
      "source": [
        "b[::-2]"
      ]
    },
    {
      "cell_type": "markdown",
      "id": "1e0f1dbb",
      "metadata": {
        "id": "1e0f1dbb"
      },
      "source": [
        "** Take the result of b[::-2] and add that in the position of a[3:]. **"
      ]
    },
    {
      "cell_type": "code",
      "execution_count": null,
      "id": "d6adbe59",
      "metadata": {
        "id": "d6adbe59"
      },
      "outputs": [],
      "source": [
        "a[3:] = b[::-2]"
      ]
    },
    {
      "cell_type": "markdown",
      "id": "938fe13a",
      "metadata": {
        "id": "938fe13a"
      },
      "source": [
        "** So we are replacing result of a[3:] that is 4,5 with result of b[::-2] that is 6,8 to finally get the array \"a\". **"
      ]
    },
    {
      "cell_type": "code",
      "execution_count": null,
      "id": "ffe704a9",
      "metadata": {
        "id": "ffe704a9",
        "outputId": "729a0e07-26a1-4e00-f649-0636ee6fc4b2"
      },
      "outputs": [
        {
          "data": {
            "text/plain": [
              "array([1, 2, 3, 6, 8])"
            ]
          },
          "execution_count": 59,
          "metadata": {},
          "output_type": "execute_result"
        }
      ],
      "source": [
        "a"
      ]
    },
    {
      "cell_type": "code",
      "execution_count": null,
      "id": "01b16539",
      "metadata": {
        "id": "01b16539"
      },
      "outputs": [],
      "source": [
        "a = np.arange(12).reshape(4,3)"
      ]
    },
    {
      "cell_type": "markdown",
      "id": "a392d0f0",
      "metadata": {
        "id": "a392d0f0"
      },
      "source": [
        "**Fancy indexing also works on 2D numpy arrays; below code returns a 1D array.**\n",
        "\n",
        "Actually the elements, that is the result, that are picked do not fit in the 4 x 3 dimension array, which means the result\n",
        "should have a different dimension, but python cannot calculate both the dimensions, which means it simply outputs the\n",
        "result in a 1D array.\n",
        "\n",
        "**<mark>CRUX of it is that working of fancy indexing on 2D arrays is similar to its working on 1D arrays. Its just that the result is always a 1D array.</mark>**"
      ]
    },
    {
      "cell_type": "code",
      "execution_count": null,
      "id": "45cb20a3",
      "metadata": {
        "id": "45cb20a3",
        "outputId": "61356020-0e91-4ff7-fee5-100ab8ae87af"
      },
      "outputs": [
        {
          "data": {
            "text/plain": [
              "array([0, 1, 2, 3, 4, 5])"
            ]
          },
          "execution_count": 96,
          "metadata": {},
          "output_type": "execute_result"
        }
      ],
      "source": [
        "a[a < 6]"
      ]
    },
    {
      "cell_type": "code",
      "execution_count": null,
      "id": "492ce1ed",
      "metadata": {
        "id": "492ce1ed",
        "outputId": "bc9a082e-2e10-42d4-8d7b-5c064031b0f2"
      },
      "outputs": [
        {
          "data": {
            "text/plain": [
              "array([[ 0,  1,  2],\n",
              "       [ 3,  4,  5],\n",
              "       [ 6,  7,  8],\n",
              "       [ 9, 10, 11]])"
            ]
          },
          "execution_count": 62,
          "metadata": {},
          "output_type": "execute_result"
        }
      ],
      "source": [
        "a"
      ]
    },
    {
      "cell_type": "code",
      "execution_count": null,
      "id": "1320e634",
      "metadata": {
        "id": "1320e634",
        "outputId": "2746603c-de7b-4c21-b9d0-2432355374aa"
      },
      "outputs": [
        {
          "data": {
            "text/plain": [
              "array([[ True,  True,  True],\n",
              "       [ True,  True,  True],\n",
              "       [False, False, False],\n",
              "       [False, False, False]])"
            ]
          },
          "execution_count": 63,
          "metadata": {},
          "output_type": "execute_result"
        }
      ],
      "source": [
        "a < 6"
      ]
    },
    {
      "cell_type": "markdown",
      "id": "5cb16173",
      "metadata": {
        "id": "5cb16173"
      },
      "source": [
        "## <code style=\"background:yellow;color:black\">Aggregate functions</code>"
      ]
    },
    {
      "cell_type": "markdown",
      "id": "a2132ba2",
      "metadata": {
        "id": "a2132ba2"
      },
      "source": [
        "**Aggregate functions are basically mathematical operations. If we have numpy imported, we wont have to import math module in 99% of the cases.**\n",
        "\n",
        "Aggregate functions in Numpy are functions that operate on an array or a portion of an array to compute a single, summary statistic or value. These functions allow us to perform common mathematical and statistical operations on arrays, often summarizing the data in some way. Aggregate functions are particularly useful for data analysis and processing.\n",
        "\n",
        "Some common aggregate functions in NumPy include:\n",
        "\n",
        "- numpy.sum(): Computes the sum of all elements in an array or along a specified axis.\n",
        "\n",
        "- numpy.mean(): Calculates the mean (average) of the elements in an array or along a specified axis.\n",
        "\n",
        "- numpy.median(): Computes the median (middle value) of the elements in an array.\n",
        "\n",
        "- numpy.min(): Returns the minimum value in an array.\n",
        "\n",
        "- numpy.max(): Returns the maximum value in an array.\n",
        "\n",
        "- numpy.var(): Computes the variance of the elements in an array, measuring the spread or dispersion of the data.\n",
        "\n",
        "- numpy.std(): Calculates the standard deviation of the elements in an array, which is a measure of the data's dispersion around the mean.\n",
        "\n",
        "- numpy.prod(): Computes the product of all elements in an array or along a specified axis.\n",
        "\n",
        "- numpy.cumsum(): Calculates the cumulative sum of elements along a specified axis.\n",
        "\n",
        "- numpy.cumprod(): Computes the cumulative product of elements along a specified axis.\n",
        "\n",
        "- numpy.percentile(): Calculates the specified percentile value (e.g., 25th, 50th, or 75th percentile) of the data.\n",
        "\n",
        "- numpy.histogram(): Generates a histogram of the data, returning the counts and bin edges.\n",
        "\n",
        "- numpy.unique(): Returns the unique elements in an array, along with their counts.\n",
        "\n",
        "- numpy.bincount(): Counts occurrences of non-negative integers in an array, returning a count for each integer.\n",
        "\n",
        "- numpy.nanmean(), numpy.nanmedian(), and other \"nan\" functions: These are similar to their non-\"nan\" counterparts, but they ignore NaN (Not-a-Number) values in the computation.\n",
        "\n",
        "**But these are there in python itself, so why are we studying and using these in numpy? Beacuse of what it converts to or what it leads to.**"
      ]
    },
    {
      "cell_type": "code",
      "execution_count": null,
      "id": "36c37173",
      "metadata": {
        "id": "36c37173"
      },
      "outputs": [],
      "source": [
        "a = np.arange(1, 11)"
      ]
    },
    {
      "cell_type": "code",
      "execution_count": null,
      "id": "91f59570",
      "metadata": {
        "id": "91f59570",
        "outputId": "81ec55ef-b57d-4174-9de6-4ce067169f84"
      },
      "outputs": [
        {
          "data": {
            "text/plain": [
              "array([ 1,  2,  3,  4,  5,  6,  7,  8,  9, 10])"
            ]
          },
          "execution_count": 67,
          "metadata": {},
          "output_type": "execute_result"
        }
      ],
      "source": [
        "a"
      ]
    },
    {
      "cell_type": "code",
      "execution_count": null,
      "id": "c06ba369",
      "metadata": {
        "id": "c06ba369",
        "outputId": "75b515e1-2893-4906-d2eb-36be517f039e"
      },
      "outputs": [
        {
          "data": {
            "text/plain": [
              "55"
            ]
          },
          "execution_count": 68,
          "metadata": {},
          "output_type": "execute_result"
        }
      ],
      "source": [
        "np.sum(a)"
      ]
    },
    {
      "cell_type": "code",
      "execution_count": null,
      "id": "8e0dc038",
      "metadata": {
        "id": "8e0dc038",
        "outputId": "0e0bb19f-80d1-4630-c6e2-359c45776431"
      },
      "outputs": [
        {
          "data": {
            "text/plain": [
              "5.5"
            ]
          },
          "execution_count": 69,
          "metadata": {},
          "output_type": "execute_result"
        }
      ],
      "source": [
        "np.mean(a)"
      ]
    },
    {
      "cell_type": "code",
      "execution_count": null,
      "id": "5f1cc159",
      "metadata": {
        "id": "5f1cc159",
        "outputId": "9309ac12-81f8-41f2-c11d-349b935e9263"
      },
      "outputs": [
        {
          "data": {
            "text/plain": [
              "1"
            ]
          },
          "execution_count": 70,
          "metadata": {},
          "output_type": "execute_result"
        }
      ],
      "source": [
        "np.min(a)"
      ]
    },
    {
      "cell_type": "code",
      "execution_count": null,
      "id": "63886a29",
      "metadata": {
        "id": "63886a29",
        "outputId": "551dece2-343e-48ca-ddaf-8ed9eb642fb1"
      },
      "outputs": [
        {
          "data": {
            "text/plain": [
              "10"
            ]
          },
          "execution_count": 71,
          "metadata": {},
          "output_type": "execute_result"
        }
      ],
      "source": [
        "np.max(a)"
      ]
    },
    {
      "cell_type": "code",
      "execution_count": null,
      "id": "e8178a15",
      "metadata": {
        "id": "e8178a15"
      },
      "outputs": [],
      "source": [
        "a = np.arange(12).reshape(3, 4)"
      ]
    },
    {
      "cell_type": "code",
      "execution_count": null,
      "id": "d29b6e2e",
      "metadata": {
        "id": "d29b6e2e",
        "outputId": "4227b4eb-bade-4a60-80e5-65d71ad23295"
      },
      "outputs": [
        {
          "data": {
            "text/plain": [
              "array([[ 0,  1,  2],\n",
              "       [ 3,  4,  5],\n",
              "       [ 6,  7,  8],\n",
              "       [ 9, 10, 11]])"
            ]
          },
          "execution_count": 99,
          "metadata": {},
          "output_type": "execute_result"
        }
      ],
      "source": [
        "a"
      ]
    },
    {
      "cell_type": "markdown",
      "id": "8a496e78",
      "metadata": {
        "id": "8a496e78"
      },
      "source": [
        "* To implement row and col wise sum of elements in a python list it is a bit long code and cumbersome and we have to write\n",
        "custom code in python 2D lists.\n",
        "\n",
        "* But numpy can do that with just one line of code which is so simple. Its very useful because in excel we create a lot of\n",
        "grand totals of cols or rows frequently and numpy can automatically do that.\n",
        "\n",
        "* The code below will add all the elements."
      ]
    },
    {
      "cell_type": "code",
      "execution_count": null,
      "id": "dfedd440",
      "metadata": {
        "id": "dfedd440",
        "outputId": "b041eb0f-36aa-4ce9-f8ce-8e3a3d81cab2"
      },
      "outputs": [
        {
          "data": {
            "text/plain": [
              "66"
            ]
          },
          "execution_count": 100,
          "metadata": {},
          "output_type": "execute_result"
        }
      ],
      "source": [
        "np.sum(a)"
      ]
    },
    {
      "cell_type": "markdown",
      "id": "ea1d6253",
      "metadata": {
        "id": "ea1d6253"
      },
      "source": [
        "** This code will sum all the columns. Basically in my array \"a\", axis = 0 means vertical axis. So it will go and add all elements of column 0, then add all elements of column 1 and so on and return a list of that arrangement. **"
      ]
    },
    {
      "cell_type": "code",
      "execution_count": null,
      "id": "a90d14f3",
      "metadata": {
        "id": "a90d14f3",
        "outputId": "25798776-2144-4161-dcd2-82478e420173"
      },
      "outputs": [
        {
          "data": {
            "text/plain": [
              "array([18, 22, 26])"
            ]
          },
          "execution_count": 101,
          "metadata": {},
          "output_type": "execute_result"
        }
      ],
      "source": [
        "np.sum(a, axis = 0)"
      ]
    },
    {
      "cell_type": "markdown",
      "id": "6d033b2b",
      "metadata": {
        "id": "6d033b2b"
      },
      "source": [
        "** Similarly I can do row wise sum by specifying axis = 1. **"
      ]
    },
    {
      "cell_type": "code",
      "execution_count": null,
      "id": "b22c2078",
      "metadata": {
        "id": "b22c2078",
        "outputId": "cb7f1894-9238-4acb-a827-2adad5eb6b3e"
      },
      "outputs": [
        {
          "data": {
            "text/plain": [
              "array([ 3, 12, 21, 30])"
            ]
          },
          "execution_count": 102,
          "metadata": {},
          "output_type": "execute_result"
        }
      ],
      "source": [
        "np.sum(a, axis = 1)"
      ]
    },
    {
      "cell_type": "code",
      "execution_count": null,
      "id": "9bc1bdb8",
      "metadata": {
        "id": "9bc1bdb8",
        "outputId": "99d1be22-520b-4a45-e6ab-79fc2a5450d1"
      },
      "outputs": [
        {
          "data": {
            "text/plain": [
              "array([4.5, 5.5, 6.5])"
            ]
          },
          "execution_count": 103,
          "metadata": {},
          "output_type": "execute_result"
        }
      ],
      "source": [
        "np.mean(a, axis = 0)"
      ]
    },
    {
      "cell_type": "code",
      "execution_count": null,
      "id": "6a3af670",
      "metadata": {
        "id": "6a3af670"
      },
      "outputs": [],
      "source": [
        "m = np.arange(16).reshape(4, 4)"
      ]
    },
    {
      "cell_type": "code",
      "execution_count": null,
      "id": "2cfceb3e",
      "metadata": {
        "id": "2cfceb3e",
        "outputId": "d092639b-ebbf-4fb9-8dcb-f1ca9e02cff7"
      },
      "outputs": [
        {
          "data": {
            "text/plain": [
              "array([[ 0,  1,  2,  3],\n",
              "       [ 4,  5,  6,  7],\n",
              "       [ 8,  9, 10, 11],\n",
              "       [12, 13, 14, 15]])"
            ]
          },
          "execution_count": 108,
          "metadata": {},
          "output_type": "execute_result"
        }
      ],
      "source": [
        "m"
      ]
    },
    {
      "cell_type": "markdown",
      "id": "736b640e",
      "metadata": {
        "id": "736b640e"
      },
      "source": [
        "** How to get sum of all diagonal elements. **"
      ]
    },
    {
      "cell_type": "code",
      "execution_count": null,
      "id": "1d6d6446",
      "metadata": {
        "id": "1d6d6446",
        "outputId": "1f9b3b88-c97d-42f0-a7c1-1d1b7e34b8e9"
      },
      "outputs": [
        {
          "data": {
            "text/plain": [
              "30"
            ]
          },
          "execution_count": 110,
          "metadata": {},
          "output_type": "execute_result"
        }
      ],
      "source": [
        "np.diag(m[[0,1,2,3],[0,1,2,3]]).sum()"
      ]
    },
    {
      "cell_type": "markdown",
      "id": "a291c719",
      "metadata": {
        "id": "a291c719"
      },
      "source": [
        "## <code style=\"background:yellow;color:black\">Logical operations</code>"
      ]
    },
    {
      "cell_type": "markdown",
      "id": "aff0a390",
      "metadata": {
        "id": "aff0a390"
      },
      "source": [
        "**Logical operations in Numpy are operations that allow us to perform element-wise comparisons between elements in Numpy arrays. These operations return Boolean arrays with True and False values, where each value represents the result of the element-wise comparison.**\n",
        "\n",
        "**There are 2 basic logical operations that we will study - .any() and .all()**"
      ]
    },
    {
      "cell_type": "code",
      "execution_count": null,
      "id": "b55984e5",
      "metadata": {
        "id": "b55984e5"
      },
      "outputs": [],
      "source": [
        "prices = np.array([50, 45, 25, 20, 35])"
      ]
    },
    {
      "cell_type": "markdown",
      "id": "17275a54",
      "metadata": {
        "id": "17275a54"
      },
      "source": [
        "* Lets say, I have a budget, means I can only purchase an item upto 30 rupees. Overall task is to check if there is any value in the array with price less than or equal to 30. Returns True if the condition is True for even a single value.\n",
        "\n",
        "* So, usually what we would do is we would write a loop, we will compare every value with 30, if we get a value which is less than or equal to 30, we will set a flag to true and then we will return that.\n",
        "\n",
        "* \"can_afford\" is our flag. What any() method will do is it will check the condition inside it and compare it with array elements, and if its true for ANY OF THE VALUES, then our \"can_afford\" flag will become true.\n",
        "\n",
        "* Lets suppose we are doing a comparison in which we are checking for multiple values and even if a single value satisfies the condition and we are ok in moving ahead or that is what we want, THEN WE CAN USE NP.ANY(). Its sort of like an OR operation."
      ]
    },
    {
      "cell_type": "code",
      "execution_count": null,
      "id": "67792029",
      "metadata": {
        "id": "67792029"
      },
      "outputs": [],
      "source": [
        "can_afford = np.any(prices <= 30)"
      ]
    },
    {
      "cell_type": "code",
      "execution_count": null,
      "id": "24bdfc60",
      "metadata": {
        "id": "24bdfc60",
        "outputId": "fb33e1af-d7c6-415b-8525-bb1400146a2d"
      },
      "outputs": [
        {
          "data": {
            "text/plain": [
              "True"
            ]
          },
          "execution_count": 112,
          "metadata": {},
          "output_type": "execute_result"
        }
      ],
      "source": [
        "can_afford"
      ]
    },
    {
      "cell_type": "code",
      "execution_count": null,
      "id": "52b4510d",
      "metadata": {
        "id": "52b4510d"
      },
      "outputs": [],
      "source": [
        "task_completion = np.array([1,1,1,1,1,1,0])"
      ]
    },
    {
      "cell_type": "markdown",
      "id": "924c1107",
      "metadata": {
        "id": "924c1107"
      },
      "source": [
        "* What all() method will do is it will check the condition inside it and compare it with array elements, and if its true for ALL OF THE VALUES, then our \"can_go_out_play\" flag will become true.\n",
        "\n",
        "* Returns True if all the values satisfy the condition. Its sort of like an AND operation."
      ]
    },
    {
      "cell_type": "code",
      "execution_count": null,
      "id": "fa2c1f5e",
      "metadata": {
        "id": "fa2c1f5e"
      },
      "outputs": [],
      "source": [
        "can_go_out_play = np.all(task_completion == 1)"
      ]
    },
    {
      "cell_type": "code",
      "execution_count": null,
      "id": "97b8f71b",
      "metadata": {
        "id": "97b8f71b",
        "outputId": "e39cfea3-47f5-4d16-c6c9-7cd1e2294ac0"
      },
      "outputs": [
        {
          "data": {
            "text/plain": [
              "False"
            ]
          },
          "execution_count": 115,
          "metadata": {},
          "output_type": "execute_result"
        }
      ],
      "source": [
        "can_go_out_play"
      ]
    },
    {
      "cell_type": "code",
      "execution_count": null,
      "id": "34f5a48c",
      "metadata": {
        "id": "34f5a48c"
      },
      "outputs": [],
      "source": [
        "a = np.array([1,4,3,2])\n",
        "b = np.array([2,2,3,2])\n",
        "c = np.array([6,4,4,5])"
      ]
    },
    {
      "cell_type": "markdown",
      "id": "8db017e1",
      "metadata": {
        "id": "8db017e1"
      },
      "source": [
        "* This is a way where we can write multiple conditions or multiple np arrays in all() method.\n",
        "* Here all the conditions element wise must satisfy for all() method to return true."
      ]
    },
    {
      "cell_type": "code",
      "execution_count": null,
      "id": "4c58a099",
      "metadata": {
        "id": "4c58a099",
        "outputId": "67ca9d8e-16c2-4831-e7dc-8ed1322d6f55"
      },
      "outputs": [
        {
          "data": {
            "text/plain": [
              "False"
            ]
          },
          "execution_count": 84,
          "metadata": {},
          "output_type": "execute_result"
        }
      ],
      "source": [
        "((a <= b) & (b <= c)).all()"
      ]
    },
    {
      "cell_type": "code",
      "execution_count": null,
      "id": "fe9bbfaf",
      "metadata": {
        "id": "fe9bbfaf",
        "outputId": "e66d5dbb-31e6-452c-9f4f-b85834e74f08"
      },
      "outputs": [
        {
          "data": {
            "text/plain": [
              "array([ -3,   4,  27,  34,  -2,   0, -45, -11,   4,   0])"
            ]
          },
          "execution_count": 85,
          "metadata": {},
          "output_type": "execute_result"
        }
      ],
      "source": [
        "a = np.array([-3,4,27,34,-2, 0, -45,-11,4, 0 ])\n",
        "a"
      ]
    },
    {
      "cell_type": "markdown",
      "id": "ebfa4640",
      "metadata": {
        "id": "ebfa4640"
      },
      "source": [
        "* Setting values for elements selected via fancy indexing.\n",
        "\n",
        "* We can pick these elements and change the elements at the same time with the given conditions.\n",
        "\n",
        "* Here the condition is if element is greater than 0 pick and replace it with 1, and element is less than 0 pick and replace it with -1, and let 0 be 0."
      ]
    },
    {
      "cell_type": "code",
      "execution_count": null,
      "id": "941e606a",
      "metadata": {
        "id": "941e606a"
      },
      "outputs": [],
      "source": [
        "a[a > 0] = 1\n",
        "a[a < 0] = -1"
      ]
    },
    {
      "cell_type": "code",
      "execution_count": null,
      "id": "1c41f9ec",
      "metadata": {
        "id": "1c41f9ec",
        "outputId": "a797b691-e85e-4f6e-d9e1-a153a92e1070"
      },
      "outputs": [
        {
          "data": {
            "text/plain": [
              "array([-1,  1,  1,  1, -1,  0, -1, -1,  1,  0])"
            ]
          },
          "execution_count": 87,
          "metadata": {},
          "output_type": "execute_result"
        }
      ],
      "source": [
        "a"
      ]
    },
    {
      "cell_type": "markdown",
      "id": "e78c6386",
      "metadata": {
        "id": "e78c6386"
      },
      "source": [
        "* Here, we want to check that if price of product is greater than 50, we want to give a discount of 10% on top of that value. So, we want to update the prices after adding the discount.\n",
        "\n",
        "* So, with this **where() method, we can modify all the elements in our np array based on a given condition.**\n",
        "\n",
        "* **Format of np.where() -- np.where(condition, value_if_true, value_if_false)**"
      ]
    },
    {
      "cell_type": "code",
      "execution_count": null,
      "id": "1a7f4f78",
      "metadata": {
        "id": "1a7f4f78"
      },
      "outputs": [],
      "source": [
        "prices = np.array([45, 55, 60, 30, 75, 20, 100, 90])"
      ]
    },
    {
      "cell_type": "code",
      "execution_count": null,
      "id": "ad202f5b",
      "metadata": {
        "id": "ad202f5b"
      },
      "outputs": [],
      "source": [
        "discounted_prices = np.where(prices > 50, prices * 0.9, prices)"
      ]
    },
    {
      "cell_type": "code",
      "execution_count": null,
      "id": "5550aaa6",
      "metadata": {
        "id": "5550aaa6",
        "outputId": "4e27a097-5b28-45e1-dbab-d1e1ecfc8b82"
      },
      "outputs": [
        {
          "data": {
            "text/plain": [
              "array([45. , 49.5, 54. , 30. , 67.5, 20. , 90. , 81. ])"
            ]
          },
          "execution_count": 90,
          "metadata": {},
          "output_type": "execute_result"
        }
      ],
      "source": [
        "discounted_prices"
      ]
    },
    {
      "cell_type": "code",
      "execution_count": null,
      "id": "ec5ee1ca",
      "metadata": {
        "id": "ec5ee1ca"
      },
      "outputs": [],
      "source": [
        "# Just a batchmate's doubt on list slicing\n",
        "\n",
        "a = [1,2,3,4,5,6,7,8]"
      ]
    },
    {
      "cell_type": "code",
      "execution_count": null,
      "id": "342f8d03",
      "metadata": {
        "id": "342f8d03",
        "outputId": "05571484-251c-40b1-c06c-5f491c259c8f"
      },
      "outputs": [
        {
          "data": {
            "text/plain": [
              "[4, 6]"
            ]
          },
          "execution_count": 92,
          "metadata": {},
          "output_type": "execute_result"
        }
      ],
      "source": [
        "a[3:7:2]"
      ]
    },
    {
      "cell_type": "code",
      "execution_count": null,
      "id": "7d4a9142",
      "metadata": {
        "id": "7d4a9142",
        "outputId": "ee6a61b1-b7d1-42b6-fd7c-c5a99d1d6988"
      },
      "outputs": [
        {
          "data": {
            "text/plain": [
              "[2, 5]"
            ]
          },
          "execution_count": 93,
          "metadata": {},
          "output_type": "execute_result"
        }
      ],
      "source": [
        "a[1:6:3]"
      ]
    },
    {
      "cell_type": "markdown",
      "id": "a3f469d8",
      "metadata": {
        "id": "a3f469d8"
      },
      "source": [
        "## <code style=\"background:yellow;color:black\">FITBIT CASE STUDY</code>"
      ]
    },
    {
      "cell_type": "code",
      "execution_count": null,
      "id": "9d7d02f8",
      "metadata": {
        "id": "9d7d02f8",
        "outputId": "e767d868-94d7-48bc-ee1d-3ead52f7a61d"
      },
      "outputs": [
        {
          "name": "stderr",
          "output_type": "stream",
          "text": [
            "Downloading...\n",
            "From: https://drive.google.com/uc?id=1vk1Pu0djiYcrdc85yUXZ_Rqq2oZNcohd\n",
            "To: C:\\Users\\admin\\Desktop\\Scaler\\Module 5- Python Libraries\\My Practice\\fit.txt\n",
            "\n",
            "  0%|          | 0.00/3.43k [00:00<?, ?B/s]\n",
            "100%|##########| 3.43k/3.43k [00:00<?, ?B/s]\n"
          ]
        }
      ],
      "source": [
        "!gdown https://drive.google.com/uc?id=1vk1Pu0djiYcrdc85yUXZ_Rqq2oZNcohd"
      ]
    },
    {
      "cell_type": "code",
      "execution_count": null,
      "id": "3c20c8f0",
      "metadata": {
        "id": "3c20c8f0"
      },
      "outputs": [],
      "source": [
        "data = np.loadtxt(\"fit.txt\", dtype = \"str\")"
      ]
    },
    {
      "cell_type": "code",
      "execution_count": null,
      "id": "44606440",
      "metadata": {
        "id": "44606440",
        "outputId": "5868f3c8-5e5e-45be-d4a1-15fd44ad92be"
      },
      "outputs": [
        {
          "data": {
            "text/plain": [
              "array([['06-10-2017', '5464', 'Neutral', '181', '5', 'Inactive'],\n",
              "       ['07-10-2017', '6041', 'Sad', '197', '8', 'Inactive'],\n",
              "       ['08-10-2017', '25', 'Sad', '0', '5', 'Inactive'],\n",
              "       ['09-10-2017', '5461', 'Sad', '174', '4', 'Inactive'],\n",
              "       ['10-10-2017', '6915', 'Neutral', '223', '5', 'Active']],\n",
              "      dtype='<U10')"
            ]
          },
          "execution_count": 4,
          "metadata": {},
          "output_type": "execute_result"
        }
      ],
      "source": [
        "data[:5]"
      ]
    },
    {
      "cell_type": "code",
      "execution_count": null,
      "id": "1bdace43",
      "metadata": {
        "id": "1bdace43",
        "outputId": "3a9d5b7d-399d-439e-fbbd-9cc020a51999"
      },
      "outputs": [
        {
          "data": {
            "text/plain": [
              "(96, 6)"
            ]
          },
          "execution_count": 5,
          "metadata": {},
          "output_type": "execute_result"
        }
      ],
      "source": [
        "data.shape"
      ]
    },
    {
      "cell_type": "code",
      "execution_count": null,
      "id": "8bb3795c",
      "metadata": {
        "id": "8bb3795c",
        "outputId": "e845fabf-a335-4e4a-8ce7-40e37c0374a5"
      },
      "outputs": [
        {
          "data": {
            "text/plain": [
              "array(['06-10-2017', '5464', 'Neutral', '181', '5', 'Inactive'],\n",
              "      dtype='<U10')"
            ]
          },
          "execution_count": 6,
          "metadata": {},
          "output_type": "execute_result"
        }
      ],
      "source": [
        "data[0]"
      ]
    },
    {
      "cell_type": "code",
      "execution_count": null,
      "id": "39e398a5",
      "metadata": {
        "id": "39e398a5",
        "outputId": "43f4e145-b456-4c96-f4a2-c97481c6a750"
      },
      "outputs": [
        {
          "data": {
            "text/plain": [
              "array(['06-10-2017', '07-10-2017', '08-10-2017', '09-10-2017',\n",
              "       '10-10-2017', '11-10-2017', '12-10-2017', '13-10-2017',\n",
              "       '14-10-2017', '15-10-2017', '16-10-2017', '17-10-2017',\n",
              "       '18-10-2017', '19-10-2017', '20-10-2017', '21-10-2017',\n",
              "       '22-10-2017', '23-10-2017', '24-10-2017', '25-10-2017',\n",
              "       '26-10-2017', '27-10-2017', '28-10-2017', '29-10-2017',\n",
              "       '30-10-2017', '31-10-2017', '01-11-2017', '02-11-2017',\n",
              "       '03-11-2017', '04-11-2017', '05-11-2017', '06-11-2017',\n",
              "       '07-11-2017', '08-11-2017', '09-11-2017', '10-11-2017',\n",
              "       '11-11-2017', '12-11-2017', '13-11-2017', '14-11-2017',\n",
              "       '15-11-2017', '16-11-2017', '17-11-2017', '18-11-2017',\n",
              "       '19-11-2017', '20-11-2017', '21-11-2017', '22-11-2017',\n",
              "       '23-11-2017', '24-11-2017', '25-11-2017', '26-11-2017',\n",
              "       '27-11-2017', '28-11-2017', '29-11-2017', '30-11-2017',\n",
              "       '01-12-2017', '02-12-2017', '03-12-2017', '04-12-2017',\n",
              "       '05-12-2017', '06-12-2017', '07-12-2017', '08-12-2017',\n",
              "       '09-12-2017', '10-12-2017', '11-12-2017', '12-12-2017',\n",
              "       '13-12-2017', '14-12-2017', '15-12-2017', '16-12-2017',\n",
              "       '17-12-2017', '18-12-2017', '19-12-2017', '20-12-2017',\n",
              "       '21-12-2017', '22-12-2017', '23-12-2017', '24-12-2017',\n",
              "       '25-12-2017', '26-12-2017', '27-12-2017', '28-12-2017',\n",
              "       '29-12-2017', '30-12-2017', '31-12-2017', '01-01-2018',\n",
              "       '02-01-2018', '03-01-2018', '04-01-2018', '05-01-2018',\n",
              "       '06-01-2018', '07-01-2018', '08-01-2018', '09-01-2018'],\n",
              "      dtype='<U10')"
            ]
          },
          "execution_count": 7,
          "metadata": {},
          "output_type": "execute_result"
        }
      ],
      "source": [
        "# Approach 1\n",
        "\n",
        "data[:, 0]"
      ]
    },
    {
      "cell_type": "code",
      "execution_count": null,
      "id": "34ebee05",
      "metadata": {
        "id": "34ebee05",
        "outputId": "0d77f7a0-5bd8-4947-a3b7-c8be4716a4b2"
      },
      "outputs": [
        {
          "data": {
            "text/plain": [
              "array(['06-10-2017', '07-10-2017', '08-10-2017', '09-10-2017',\n",
              "       '10-10-2017', '11-10-2017', '12-10-2017', '13-10-2017',\n",
              "       '14-10-2017', '15-10-2017', '16-10-2017', '17-10-2017',\n",
              "       '18-10-2017', '19-10-2017', '20-10-2017', '21-10-2017',\n",
              "       '22-10-2017', '23-10-2017', '24-10-2017', '25-10-2017',\n",
              "       '26-10-2017', '27-10-2017', '28-10-2017', '29-10-2017',\n",
              "       '30-10-2017', '31-10-2017', '01-11-2017', '02-11-2017',\n",
              "       '03-11-2017', '04-11-2017', '05-11-2017', '06-11-2017',\n",
              "       '07-11-2017', '08-11-2017', '09-11-2017', '10-11-2017',\n",
              "       '11-11-2017', '12-11-2017', '13-11-2017', '14-11-2017',\n",
              "       '15-11-2017', '16-11-2017', '17-11-2017', '18-11-2017',\n",
              "       '19-11-2017', '20-11-2017', '21-11-2017', '22-11-2017',\n",
              "       '23-11-2017', '24-11-2017', '25-11-2017', '26-11-2017',\n",
              "       '27-11-2017', '28-11-2017', '29-11-2017', '30-11-2017',\n",
              "       '01-12-2017', '02-12-2017', '03-12-2017', '04-12-2017',\n",
              "       '05-12-2017', '06-12-2017', '07-12-2017', '08-12-2017',\n",
              "       '09-12-2017', '10-12-2017', '11-12-2017', '12-12-2017',\n",
              "       '13-12-2017', '14-12-2017', '15-12-2017', '16-12-2017',\n",
              "       '17-12-2017', '18-12-2017', '19-12-2017', '20-12-2017',\n",
              "       '21-12-2017', '22-12-2017', '23-12-2017', '24-12-2017',\n",
              "       '25-12-2017', '26-12-2017', '27-12-2017', '28-12-2017',\n",
              "       '29-12-2017', '30-12-2017', '31-12-2017', '01-01-2018',\n",
              "       '02-01-2018', '03-01-2018', '04-01-2018', '05-01-2018',\n",
              "       '06-01-2018', '07-01-2018', '08-01-2018', '09-01-2018'],\n",
              "      dtype='<U10')"
            ]
          },
          "execution_count": 8,
          "metadata": {},
          "output_type": "execute_result"
        }
      ],
      "source": [
        "data.T[0]"
      ]
    },
    {
      "cell_type": "code",
      "execution_count": null,
      "id": "2f68518e",
      "metadata": {
        "id": "2f68518e"
      },
      "outputs": [],
      "source": [
        "data_t = data.T"
      ]
    },
    {
      "cell_type": "code",
      "execution_count": null,
      "id": "bcdb790b",
      "metadata": {
        "id": "bcdb790b",
        "outputId": "3b8169fb-ba1a-4d1c-c5f2-0b1f7e8e3334"
      },
      "outputs": [
        {
          "data": {
            "text/plain": [
              "(6, 96)"
            ]
          },
          "execution_count": 10,
          "metadata": {},
          "output_type": "execute_result"
        }
      ],
      "source": [
        "data_t.shape"
      ]
    },
    {
      "cell_type": "code",
      "execution_count": null,
      "id": "7ba5952d",
      "metadata": {
        "id": "7ba5952d"
      },
      "outputs": [],
      "source": [
        "date, step_count, mood, calories_burned, hours_of_sleep, activity_status = data_t"
      ]
    },
    {
      "cell_type": "code",
      "execution_count": null,
      "id": "6f745b77",
      "metadata": {
        "id": "6f745b77",
        "outputId": "cebf9685-31c2-493b-83b5-812c7167b32a"
      },
      "outputs": [
        {
          "data": {
            "text/plain": [
              "array(['5464', '6041', '25', '5461', '6915', '4545', '4340', '1230', '61',\n",
              "       '1258', '3148', '4687', '4732', '3519', '1580', '2822', '181',\n",
              "       '3158', '4383', '3881', '4037', '202', '292', '330', '2209',\n",
              "       '4550', '4435', '4779', '1831', '2255', '539', '5464', '6041',\n",
              "       '4068', '4683', '4033', '6314', '614', '3149', '4005', '4880',\n",
              "       '4136', '705', '570', '269', '4275', '5999', '4421', '6930',\n",
              "       '5195', '546', '493', '995', '1163', '6676', '3608', '774', '1421',\n",
              "       '4064', '2725', '5934', '1867', '3721', '2374', '2909', '1648',\n",
              "       '799', '7102', '3941', '7422', '437', '1231', '1696', '4921',\n",
              "       '221', '6500', '3575', '4061', '651', '753', '518', '5537', '4108',\n",
              "       '5376', '3066', '177', '36', '299', '1447', '2599', '702', '133',\n",
              "       '153', '500', '2127', '2203'], dtype='<U10')"
            ]
          },
          "execution_count": 12,
          "metadata": {},
          "output_type": "execute_result"
        }
      ],
      "source": [
        "step_count"
      ]
    },
    {
      "cell_type": "code",
      "execution_count": null,
      "id": "5ec57d23",
      "metadata": {
        "id": "5ec57d23"
      },
      "outputs": [],
      "source": [
        "# Can you figure out if there is a correlation between step_count and mood"
      ]
    },
    {
      "cell_type": "markdown",
      "id": "d4c6f028",
      "metadata": {
        "id": "d4c6f028"
      },
      "source": [
        "Can we say that in all of these individual arrays date, step_count, mood, calories_burned, hours_of_sleep and activity_status, the 0th element is data for 1st person, the 1st element is the data for 2nd person, 2nd element is the data for 3rd person and so on? So, looking at same indexes in all of these arrays, I will get data that belongs to one row because i have taken a transpose of that data.\n",
        "\n",
        "Lets suppose I create a mask on mood array. Now in mood data, mood is neutral, sad and happy. I create a mask on mood by this - mood == \"Happy\". This will return a bunch of true and false values. I can create a mask and then I can apply the mask to an array to get filtered data. This is what we so in masking - we create a mask, apply a condition on it and then apply that mask on array to get filtered data.\n",
        "\n",
        "NOW, I CAN CREATE A MASK USING MOOD, BUT APPLY IT ON STEP_COUNT. So, 1st element of mood is neutral and 1st element of step_count is 5464. So, in mask of mood == \"Happy\" the first element is False, which means the 1st person is not happy because of sthe step count he took i.e. 5464. So, we have created a mask of some array and applied to some other array."
      ]
    },
    {
      "cell_type": "code",
      "execution_count": null,
      "id": "7f117a5a",
      "metadata": {
        "id": "7f117a5a",
        "outputId": "e86ef678-c956-4cb9-eb8c-8edff9640ebf"
      },
      "outputs": [
        {
          "data": {
            "text/plain": [
              "array(['Neutral', 'Sad', 'Sad', 'Sad', 'Neutral', 'Sad', 'Sad', 'Sad',\n",
              "       'Sad', 'Sad', 'Sad', 'Sad', 'Happy', 'Sad', 'Sad', 'Sad', 'Sad',\n",
              "       'Neutral', 'Neutral', 'Neutral', 'Neutral', 'Neutral', 'Neutral',\n",
              "       'Happy', 'Neutral', 'Happy', 'Happy', 'Happy', 'Happy', 'Happy',\n",
              "       'Happy', 'Happy', 'Neutral', 'Happy', 'Happy', 'Happy', 'Happy',\n",
              "       'Happy', 'Happy', 'Happy', 'Happy', 'Happy', 'Happy', 'Neutral',\n",
              "       'Happy', 'Happy', 'Happy', 'Happy', 'Happy', 'Happy', 'Happy',\n",
              "       'Happy', 'Happy', 'Neutral', 'Sad', 'Happy', 'Happy', 'Happy',\n",
              "       'Happy', 'Happy', 'Happy', 'Happy', 'Sad', 'Neutral', 'Neutral',\n",
              "       'Sad', 'Sad', 'Neutral', 'Neutral', 'Happy', 'Neutral', 'Neutral',\n",
              "       'Sad', 'Neutral', 'Sad', 'Neutral', 'Neutral', 'Sad', 'Sad', 'Sad',\n",
              "       'Sad', 'Happy', 'Neutral', 'Happy', 'Neutral', 'Sad', 'Sad', 'Sad',\n",
              "       'Neutral', 'Neutral', 'Sad', 'Sad', 'Happy', 'Neutral', 'Neutral',\n",
              "       'Happy'], dtype='<U10')"
            ]
          },
          "execution_count": 14,
          "metadata": {},
          "output_type": "execute_result"
        }
      ],
      "source": [
        "mood"
      ]
    },
    {
      "cell_type": "code",
      "execution_count": null,
      "id": "32eb818a",
      "metadata": {
        "id": "32eb818a",
        "outputId": "8a2d77c6-e535-4800-ee39-d387102e8361"
      },
      "outputs": [
        {
          "data": {
            "text/plain": [
              "array([False, False, False, False, False, False, False, False, False,\n",
              "       False, False, False,  True, False, False, False, False, False,\n",
              "       False, False, False, False, False,  True, False,  True,  True,\n",
              "        True,  True,  True,  True,  True, False,  True,  True,  True,\n",
              "        True,  True,  True,  True,  True,  True,  True, False,  True,\n",
              "        True,  True,  True,  True,  True,  True,  True,  True, False,\n",
              "       False,  True,  True,  True,  True,  True,  True,  True, False,\n",
              "       False, False, False, False, False, False,  True, False, False,\n",
              "       False, False, False, False, False, False, False, False, False,\n",
              "        True, False,  True, False, False, False, False, False, False,\n",
              "       False, False,  True, False, False,  True])"
            ]
          },
          "execution_count": 16,
          "metadata": {},
          "output_type": "execute_result"
        }
      ],
      "source": [
        "# Creating a mask on mood array\n",
        "\n",
        "mood == \"Happy\""
      ]
    },
    {
      "cell_type": "code",
      "execution_count": null,
      "id": "726b616c",
      "metadata": {
        "id": "726b616c"
      },
      "outputs": [],
      "source": [
        "# Converting all str values to ints in step_count array.\n",
        "\n",
        "step_count = np.array(step_count, dtype = \"int\")"
      ]
    },
    {
      "cell_type": "code",
      "execution_count": null,
      "id": "5a788566",
      "metadata": {
        "id": "5a788566"
      },
      "outputs": [],
      "source": [
        "# Here I am applying a mask generated on mood array to step_count array.\n",
        "\n",
        "step_count_happy = step_count[mood == \"Happy\"]"
      ]
    },
    {
      "cell_type": "code",
      "execution_count": null,
      "id": "f4fb6e26",
      "metadata": {
        "id": "f4fb6e26",
        "outputId": "f14dfa00-beb0-4045-da84-e7daef2f7e5c"
      },
      "outputs": [
        {
          "data": {
            "text/plain": [
              "array([4732,  330, 4550, 4435, 4779, 1831, 2255,  539, 5464, 4068, 4683,\n",
              "       4033, 6314,  614, 3149, 4005, 4880, 4136,  705,  269, 4275, 5999,\n",
              "       4421, 6930, 5195,  546,  493,  995, 3608,  774, 1421, 4064, 2725,\n",
              "       5934, 1867, 7422, 5537, 5376,  153, 2203])"
            ]
          },
          "execution_count": 19,
          "metadata": {},
          "output_type": "execute_result"
        }
      ],
      "source": [
        "# So these were the step counts of all those people who were happy.\n",
        "\n",
        "step_count_happy"
      ]
    },
    {
      "cell_type": "code",
      "execution_count": null,
      "id": "30ca762a",
      "metadata": {
        "id": "30ca762a"
      },
      "outputs": [],
      "source": [
        "step_count_sad = step_count[mood == \"Sad\"]"
      ]
    },
    {
      "cell_type": "code",
      "execution_count": null,
      "id": "05ae17e6",
      "metadata": {
        "id": "05ae17e6",
        "outputId": "94075b56-64ba-441e-8fe0-94166b43205c"
      },
      "outputs": [
        {
          "data": {
            "text/plain": [
              "array([6041,   25, 5461, 4545, 4340, 1230,   61, 1258, 3148, 4687, 3519,\n",
              "       1580, 2822,  181, 6676, 3721, 1648,  799, 1696,  221, 4061,  651,\n",
              "        753,  518,  177,   36,  299,  702,  133])"
            ]
          },
          "execution_count": 21,
          "metadata": {},
          "output_type": "execute_result"
        }
      ],
      "source": [
        "# So these were the step counts of all those people who were sad.\n",
        "\n",
        "step_count_sad"
      ]
    },
    {
      "cell_type": "code",
      "execution_count": null,
      "id": "176cbdc0",
      "metadata": {
        "id": "176cbdc0"
      },
      "outputs": [],
      "source": [
        "step_count_neutral = step_count[mood == \"Neutral\"]"
      ]
    },
    {
      "cell_type": "code",
      "execution_count": null,
      "id": "8671d48d",
      "metadata": {
        "id": "8671d48d",
        "outputId": "66910adf-5bca-4b4f-83ec-5e80e13ba101"
      },
      "outputs": [
        {
          "data": {
            "text/plain": [
              "array([5464, 6915, 3158, 4383, 3881, 4037,  202,  292, 2209, 6041,  570,\n",
              "       1163, 2374, 2909, 7102, 3941,  437, 1231, 4921, 6500, 3575, 4108,\n",
              "       3066, 1447, 2599,  500, 2127])"
            ]
          },
          "execution_count": 23,
          "metadata": {},
          "output_type": "execute_result"
        }
      ],
      "source": [
        "# So these were the step counts of all those people who were neutral.\n",
        "\n",
        "step_count_neutral"
      ]
    },
    {
      "cell_type": "code",
      "execution_count": null,
      "id": "5353371b",
      "metadata": {
        "id": "5353371b",
        "outputId": "0fe610c2-af66-474a-d25e-a600d14ae4b1"
      },
      "outputs": [
        {
          "data": {
            "text/plain": [
              "(3392.725, 2103.0689655172414, 3153.777777777778)"
            ]
          },
          "execution_count": 24,
          "metadata": {},
          "output_type": "execute_result"
        }
      ],
      "source": [
        "# Here we find the mean of all 3. So, from analysis, we fins that if the step count is higher the mood is happy or vice versa.\n",
        "\n",
        "step_count_happy.mean(), step_count_sad.mean(), step_count_neutral.mean()"
      ]
    }
  ],
  "metadata": {
    "kernelspec": {
      "display_name": "Python 3 (ipykernel)",
      "language": "python",
      "name": "python3"
    },
    "language_info": {
      "codemirror_mode": {
        "name": "ipython",
        "version": 3
      },
      "file_extension": ".py",
      "mimetype": "text/x-python",
      "name": "python",
      "nbconvert_exporter": "python",
      "pygments_lexer": "ipython3",
      "version": "3.11.3"
    },
    "colab": {
      "provenance": [],
      "include_colab_link": true
    }
  },
  "nbformat": 4,
  "nbformat_minor": 5
}